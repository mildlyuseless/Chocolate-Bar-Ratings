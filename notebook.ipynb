{
 "cells": [
  {
   "cell_type": "markdown",
   "id": "f3e1a5f4",
   "metadata": {},
   "source": [
    "# Finding the best chocolate bars\n",
    "\n",
    "\n",
    "## 📖 Background\n",
    "You work at a specialty foods import company that wants to expand into gourmet chocolate bars. Your boss needs your team to research this market to inform your initial approach to potential suppliers.\n",
    "\n",
    "After finding valuable chocolate bar ratings online, you need to explore if the chocolate bars with the highest ratings share any characteristics that could help you narrow your search for suppliers (e.g., cacao percentage, bean country of origin, etc.)"
   ]
  },
  {
   "cell_type": "markdown",
   "id": "b9b96e97",
   "metadata": {},
   "source": [
    "## 💾 The data\n",
    "\n",
    "#### Your team created a file with the following information ([source](https://flavorsofcacao.com)):\n",
    "- \"id\" - id number of the review\n",
    "- \"manufacturer\" - Name of the bar manufacturer\n",
    "- \"company_location\" - Location of the manufacturer\n",
    "- \"year_reviewed\" - From 2006 to 2021\n",
    "- \"bean_origin\" - Country of origin of the cacao beans\n",
    "- \"bar_name\" - Name of the chocolate bar\n",
    "- \"cocoa_percent\" - Cocoa content of the bar (%)\n",
    "- \"num_ingredients\" - Number of ingredients\n",
    "- \"ingredients\" - B (Beans), S (Sugar), S* (Sweetener other than sugar or beet sugar), C (Cocoa Butter), (V) Vanilla, (L) Lecithin, (Sa) Salt\n",
    "- \"review\" - Summary of most memorable characteristics of the chocolate bar\n",
    "- \"rating\" - 1.0-1.9 Unpleasant, 2.0-2.9 Disappointing, 3.0-3.49 Recommended, 3.5-3.9 Highly Recommended, 4.0-5.0 Oustanding\n",
    "\n",
    "***Acknowledgments**: Brady Brelinski, Manhattan Chocolate Society*"
   ]
  },
  {
   "cell_type": "markdown",
   "id": "fb664751",
   "metadata": {},
   "source": [
    "## 💪 Challenge\n",
    "Create a report to summarize your research. Include:\n",
    "\n",
    "1. What is the average rating by country of origin?\n",
    "2. How many bars were reviewed for each of those countries?\n",
    "3. Create plots to visualize findings for questions 1 and 2.\n",
    "4. Is the cacao bean's origin an indicator of quality? \n",
    "5. [Optional] How does cocoa content relate to rating? What is the average cocoa content for bars with higher ratings (above 3.5)?\n",
    "6. [Optional 2] Your research indicates that some consumers want to avoid bars with lecithin. Compare the average rating of bars with and without lecithin (L in the ingredients).\n",
    "7. Summarize your findings."
   ]
  },
  {
   "cell_type": "code",
   "execution_count": 31,
   "id": "b90a9413",
   "metadata": {},
   "outputs": [],
   "source": [
    "import pandas as pd\n",
    "import missingno as msno\n",
    "import plotly.express as px\n",
    "import plotly.graph_objects as go\n",
    "from plotly.subplots import make_subplots"
   ]
  },
  {
   "cell_type": "markdown",
   "id": "b269c7ee",
   "metadata": {},
   "source": [
    "### Loading the data and summary statistics\n",
    "Loading in the data and looking at the output of the describe function, some quick summary statistics are:\n",
    "\n",
    "- Avg. cocoa percent = 71.5\n",
    "- Avg. ingredients = 3.04\n",
    "- Avg. rating = 3.21"
   ]
  },
  {
   "cell_type": "code",
   "execution_count": 2,
   "id": "2caa4f1f",
   "metadata": {},
   "outputs": [
    {
     "data": {
      "text/html": [
       "<div>\n",
       "<style scoped>\n",
       "    .dataframe tbody tr th:only-of-type {\n",
       "        vertical-align: middle;\n",
       "    }\n",
       "\n",
       "    .dataframe tbody tr th {\n",
       "        vertical-align: top;\n",
       "    }\n",
       "\n",
       "    .dataframe thead th {\n",
       "        text-align: right;\n",
       "    }\n",
       "</style>\n",
       "<table border=\"1\" class=\"dataframe\">\n",
       "  <thead>\n",
       "    <tr style=\"text-align: right;\">\n",
       "      <th></th>\n",
       "      <th>id</th>\n",
       "      <th>manufacturer</th>\n",
       "      <th>company_location</th>\n",
       "      <th>year_reviewed</th>\n",
       "      <th>bean_origin</th>\n",
       "      <th>bar_name</th>\n",
       "      <th>cocoa_percent</th>\n",
       "      <th>num_ingredients</th>\n",
       "      <th>ingredients</th>\n",
       "      <th>review</th>\n",
       "      <th>rating</th>\n",
       "    </tr>\n",
       "  </thead>\n",
       "  <tbody>\n",
       "    <tr>\n",
       "      <th>0</th>\n",
       "      <td>2454</td>\n",
       "      <td>5150</td>\n",
       "      <td>U.S.A.</td>\n",
       "      <td>2019</td>\n",
       "      <td>Tanzania</td>\n",
       "      <td>Kokoa Kamili, batch 1</td>\n",
       "      <td>76.0</td>\n",
       "      <td>3.0</td>\n",
       "      <td>B,S,C</td>\n",
       "      <td>rich cocoa, fatty, bready</td>\n",
       "      <td>3.25</td>\n",
       "    </tr>\n",
       "    <tr>\n",
       "      <th>1</th>\n",
       "      <td>2458</td>\n",
       "      <td>5150</td>\n",
       "      <td>U.S.A.</td>\n",
       "      <td>2019</td>\n",
       "      <td>Dominican Republic</td>\n",
       "      <td>Zorzal, batch 1</td>\n",
       "      <td>76.0</td>\n",
       "      <td>3.0</td>\n",
       "      <td>B,S,C</td>\n",
       "      <td>cocoa, vegetal, savory</td>\n",
       "      <td>3.50</td>\n",
       "    </tr>\n",
       "    <tr>\n",
       "      <th>2</th>\n",
       "      <td>2454</td>\n",
       "      <td>5150</td>\n",
       "      <td>U.S.A.</td>\n",
       "      <td>2019</td>\n",
       "      <td>Madagascar</td>\n",
       "      <td>Bejofo Estate, batch 1</td>\n",
       "      <td>76.0</td>\n",
       "      <td>3.0</td>\n",
       "      <td>B,S,C</td>\n",
       "      <td>cocoa, blackberry, full body</td>\n",
       "      <td>3.75</td>\n",
       "    </tr>\n",
       "    <tr>\n",
       "      <th>3</th>\n",
       "      <td>2542</td>\n",
       "      <td>5150</td>\n",
       "      <td>U.S.A.</td>\n",
       "      <td>2021</td>\n",
       "      <td>Fiji</td>\n",
       "      <td>Matasawalevu, batch 1</td>\n",
       "      <td>68.0</td>\n",
       "      <td>3.0</td>\n",
       "      <td>B,S,C</td>\n",
       "      <td>chewy, off, rubbery</td>\n",
       "      <td>3.00</td>\n",
       "    </tr>\n",
       "    <tr>\n",
       "      <th>4</th>\n",
       "      <td>2546</td>\n",
       "      <td>5150</td>\n",
       "      <td>U.S.A.</td>\n",
       "      <td>2021</td>\n",
       "      <td>Venezuela</td>\n",
       "      <td>Sur del Lago, batch 1</td>\n",
       "      <td>72.0</td>\n",
       "      <td>3.0</td>\n",
       "      <td>B,S,C</td>\n",
       "      <td>fatty, earthy, moss, nutty,chalky</td>\n",
       "      <td>3.00</td>\n",
       "    </tr>\n",
       "  </tbody>\n",
       "</table>\n",
       "</div>"
      ],
      "text/plain": [
       "     id manufacturer company_location  year_reviewed         bean_origin  \\\n",
       "0  2454         5150           U.S.A.           2019            Tanzania   \n",
       "1  2458         5150           U.S.A.           2019  Dominican Republic   \n",
       "2  2454         5150           U.S.A.           2019          Madagascar   \n",
       "3  2542         5150           U.S.A.           2021                Fiji   \n",
       "4  2546         5150           U.S.A.           2021           Venezuela   \n",
       "\n",
       "                 bar_name  cocoa_percent  num_ingredients ingredients  \\\n",
       "0   Kokoa Kamili, batch 1           76.0              3.0       B,S,C   \n",
       "1         Zorzal, batch 1           76.0              3.0       B,S,C   \n",
       "2  Bejofo Estate, batch 1           76.0              3.0       B,S,C   \n",
       "3   Matasawalevu, batch 1           68.0              3.0       B,S,C   \n",
       "4   Sur del Lago, batch 1           72.0              3.0       B,S,C   \n",
       "\n",
       "                              review  rating  \n",
       "0          rich cocoa, fatty, bready    3.25  \n",
       "1             cocoa, vegetal, savory    3.50  \n",
       "2       cocoa, blackberry, full body    3.75  \n",
       "3                chewy, off, rubbery    3.00  \n",
       "4  fatty, earthy, moss, nutty,chalky    3.00  "
      ]
     },
     "execution_count": 2,
     "metadata": {},
     "output_type": "execute_result"
    }
   ],
   "source": [
    "# Load in data\n",
    "df = pd.read_csv('data/chocolate_bars.csv')\n",
    "\n",
    "df.head()"
   ]
  },
  {
   "cell_type": "code",
   "execution_count": 3,
   "id": "cce07350",
   "metadata": {},
   "outputs": [
    {
     "data": {
      "text/html": [
       "<div>\n",
       "<style scoped>\n",
       "    .dataframe tbody tr th:only-of-type {\n",
       "        vertical-align: middle;\n",
       "    }\n",
       "\n",
       "    .dataframe tbody tr th {\n",
       "        vertical-align: top;\n",
       "    }\n",
       "\n",
       "    .dataframe thead th {\n",
       "        text-align: right;\n",
       "    }\n",
       "</style>\n",
       "<table border=\"1\" class=\"dataframe\">\n",
       "  <thead>\n",
       "    <tr style=\"text-align: right;\">\n",
       "      <th></th>\n",
       "      <th>id</th>\n",
       "      <th>manufacturer</th>\n",
       "      <th>company_location</th>\n",
       "      <th>year_reviewed</th>\n",
       "      <th>bean_origin</th>\n",
       "      <th>bar_name</th>\n",
       "      <th>cocoa_percent</th>\n",
       "      <th>num_ingredients</th>\n",
       "      <th>ingredients</th>\n",
       "      <th>review</th>\n",
       "      <th>rating</th>\n",
       "    </tr>\n",
       "  </thead>\n",
       "  <tbody>\n",
       "    <tr>\n",
       "      <th>count</th>\n",
       "      <td>2530.000000</td>\n",
       "      <td>2530</td>\n",
       "      <td>2530</td>\n",
       "      <td>2530.000000</td>\n",
       "      <td>2530</td>\n",
       "      <td>2530</td>\n",
       "      <td>2530.000000</td>\n",
       "      <td>2443.000000</td>\n",
       "      <td>2443</td>\n",
       "      <td>2530</td>\n",
       "      <td>2530.000000</td>\n",
       "    </tr>\n",
       "    <tr>\n",
       "      <th>unique</th>\n",
       "      <td>NaN</td>\n",
       "      <td>580</td>\n",
       "      <td>67</td>\n",
       "      <td>NaN</td>\n",
       "      <td>62</td>\n",
       "      <td>1605</td>\n",
       "      <td>NaN</td>\n",
       "      <td>NaN</td>\n",
       "      <td>21</td>\n",
       "      <td>2487</td>\n",
       "      <td>NaN</td>\n",
       "    </tr>\n",
       "    <tr>\n",
       "      <th>top</th>\n",
       "      <td>NaN</td>\n",
       "      <td>Soma</td>\n",
       "      <td>U.S.A.</td>\n",
       "      <td>NaN</td>\n",
       "      <td>Venezuela</td>\n",
       "      <td>Madagascar</td>\n",
       "      <td>NaN</td>\n",
       "      <td>NaN</td>\n",
       "      <td>B,S,C</td>\n",
       "      <td>spicy, cocoa</td>\n",
       "      <td>NaN</td>\n",
       "    </tr>\n",
       "    <tr>\n",
       "      <th>freq</th>\n",
       "      <td>NaN</td>\n",
       "      <td>56</td>\n",
       "      <td>1136</td>\n",
       "      <td>NaN</td>\n",
       "      <td>253</td>\n",
       "      <td>55</td>\n",
       "      <td>NaN</td>\n",
       "      <td>NaN</td>\n",
       "      <td>999</td>\n",
       "      <td>4</td>\n",
       "      <td>NaN</td>\n",
       "    </tr>\n",
       "    <tr>\n",
       "      <th>mean</th>\n",
       "      <td>1429.800791</td>\n",
       "      <td>NaN</td>\n",
       "      <td>NaN</td>\n",
       "      <td>2014.374308</td>\n",
       "      <td>NaN</td>\n",
       "      <td>NaN</td>\n",
       "      <td>71.639723</td>\n",
       "      <td>3.041343</td>\n",
       "      <td>NaN</td>\n",
       "      <td>NaN</td>\n",
       "      <td>3.196344</td>\n",
       "    </tr>\n",
       "    <tr>\n",
       "      <th>std</th>\n",
       "      <td>757.648556</td>\n",
       "      <td>NaN</td>\n",
       "      <td>NaN</td>\n",
       "      <td>3.968267</td>\n",
       "      <td>NaN</td>\n",
       "      <td>NaN</td>\n",
       "      <td>5.616724</td>\n",
       "      <td>0.913728</td>\n",
       "      <td>NaN</td>\n",
       "      <td>NaN</td>\n",
       "      <td>0.445321</td>\n",
       "    </tr>\n",
       "    <tr>\n",
       "      <th>min</th>\n",
       "      <td>5.000000</td>\n",
       "      <td>NaN</td>\n",
       "      <td>NaN</td>\n",
       "      <td>2006.000000</td>\n",
       "      <td>NaN</td>\n",
       "      <td>NaN</td>\n",
       "      <td>42.000000</td>\n",
       "      <td>1.000000</td>\n",
       "      <td>NaN</td>\n",
       "      <td>NaN</td>\n",
       "      <td>1.000000</td>\n",
       "    </tr>\n",
       "    <tr>\n",
       "      <th>25%</th>\n",
       "      <td>802.000000</td>\n",
       "      <td>NaN</td>\n",
       "      <td>NaN</td>\n",
       "      <td>2012.000000</td>\n",
       "      <td>NaN</td>\n",
       "      <td>NaN</td>\n",
       "      <td>70.000000</td>\n",
       "      <td>2.000000</td>\n",
       "      <td>NaN</td>\n",
       "      <td>NaN</td>\n",
       "      <td>3.000000</td>\n",
       "    </tr>\n",
       "    <tr>\n",
       "      <th>50%</th>\n",
       "      <td>1454.000000</td>\n",
       "      <td>NaN</td>\n",
       "      <td>NaN</td>\n",
       "      <td>2015.000000</td>\n",
       "      <td>NaN</td>\n",
       "      <td>NaN</td>\n",
       "      <td>70.000000</td>\n",
       "      <td>3.000000</td>\n",
       "      <td>NaN</td>\n",
       "      <td>NaN</td>\n",
       "      <td>3.250000</td>\n",
       "    </tr>\n",
       "    <tr>\n",
       "      <th>75%</th>\n",
       "      <td>2079.000000</td>\n",
       "      <td>NaN</td>\n",
       "      <td>NaN</td>\n",
       "      <td>2018.000000</td>\n",
       "      <td>NaN</td>\n",
       "      <td>NaN</td>\n",
       "      <td>74.000000</td>\n",
       "      <td>4.000000</td>\n",
       "      <td>NaN</td>\n",
       "      <td>NaN</td>\n",
       "      <td>3.500000</td>\n",
       "    </tr>\n",
       "    <tr>\n",
       "      <th>max</th>\n",
       "      <td>2712.000000</td>\n",
       "      <td>NaN</td>\n",
       "      <td>NaN</td>\n",
       "      <td>2021.000000</td>\n",
       "      <td>NaN</td>\n",
       "      <td>NaN</td>\n",
       "      <td>100.000000</td>\n",
       "      <td>6.000000</td>\n",
       "      <td>NaN</td>\n",
       "      <td>NaN</td>\n",
       "      <td>4.000000</td>\n",
       "    </tr>\n",
       "  </tbody>\n",
       "</table>\n",
       "</div>"
      ],
      "text/plain": [
       "                 id manufacturer company_location  year_reviewed bean_origin  \\\n",
       "count   2530.000000         2530             2530    2530.000000        2530   \n",
       "unique          NaN          580               67            NaN          62   \n",
       "top             NaN         Soma           U.S.A.            NaN   Venezuela   \n",
       "freq            NaN           56             1136            NaN         253   \n",
       "mean    1429.800791          NaN              NaN    2014.374308         NaN   \n",
       "std      757.648556          NaN              NaN       3.968267         NaN   \n",
       "min        5.000000          NaN              NaN    2006.000000         NaN   \n",
       "25%      802.000000          NaN              NaN    2012.000000         NaN   \n",
       "50%     1454.000000          NaN              NaN    2015.000000         NaN   \n",
       "75%     2079.000000          NaN              NaN    2018.000000         NaN   \n",
       "max     2712.000000          NaN              NaN    2021.000000         NaN   \n",
       "\n",
       "          bar_name  cocoa_percent  num_ingredients ingredients        review  \\\n",
       "count         2530    2530.000000      2443.000000        2443          2530   \n",
       "unique        1605            NaN              NaN          21          2487   \n",
       "top     Madagascar            NaN              NaN       B,S,C  spicy, cocoa   \n",
       "freq            55            NaN              NaN         999             4   \n",
       "mean           NaN      71.639723         3.041343         NaN           NaN   \n",
       "std            NaN       5.616724         0.913728         NaN           NaN   \n",
       "min            NaN      42.000000         1.000000         NaN           NaN   \n",
       "25%            NaN      70.000000         2.000000         NaN           NaN   \n",
       "50%            NaN      70.000000         3.000000         NaN           NaN   \n",
       "75%            NaN      74.000000         4.000000         NaN           NaN   \n",
       "max            NaN     100.000000         6.000000         NaN           NaN   \n",
       "\n",
       "             rating  \n",
       "count   2530.000000  \n",
       "unique          NaN  \n",
       "top             NaN  \n",
       "freq            NaN  \n",
       "mean       3.196344  \n",
       "std        0.445321  \n",
       "min        1.000000  \n",
       "25%        3.000000  \n",
       "50%        3.250000  \n",
       "75%        3.500000  \n",
       "max        4.000000  "
      ]
     },
     "execution_count": 3,
     "metadata": {},
     "output_type": "execute_result"
    }
   ],
   "source": [
    "df.describe(include='all')"
   ]
  },
  {
   "cell_type": "code",
   "execution_count": 4,
   "id": "0c2c220e",
   "metadata": {},
   "outputs": [
    {
     "data": {
      "text/plain": [
       "U.S.A.    0.449012\n",
       "Name: company_location, dtype: float64"
      ]
     },
     "execution_count": 4,
     "metadata": {},
     "output_type": "execute_result"
    }
   ],
   "source": [
    "df.company_location.value_counts(normalize=True).head(1)"
   ]
  },
  {
   "cell_type": "markdown",
   "id": "2dc1f2ef",
   "metadata": {},
   "source": [
    "### Missing values\n",
    "\n",
    "After loading in the data and taking a look at the structure, the data set contains records for over _2,500_ chocolate bar ratings. **87 missing values** are located in the _‘num_ingredients’_ and _‘ingredients’_ columns. \n",
    "\n",
    "Although analysis of chocolate bars that contain the ingredient lecithin will occur, the missing values **only represent 3.44% of the data** and will be dealt with later in the exploration. There is not yet any indication of the existence of outliers."
   ]
  },
  {
   "cell_type": "code",
   "execution_count": 5,
   "id": "dd4a8388",
   "metadata": {},
   "outputs": [
    {
     "data": {
      "text/html": [
       "<div>\n",
       "<style scoped>\n",
       "    .dataframe tbody tr th:only-of-type {\n",
       "        vertical-align: middle;\n",
       "    }\n",
       "\n",
       "    .dataframe tbody tr th {\n",
       "        vertical-align: top;\n",
       "    }\n",
       "\n",
       "    .dataframe thead th {\n",
       "        text-align: right;\n",
       "    }\n",
       "</style>\n",
       "<table border=\"1\" class=\"dataframe\">\n",
       "  <thead>\n",
       "    <tr style=\"text-align: right;\">\n",
       "      <th></th>\n",
       "      <th>null_values</th>\n",
       "      <th>percent_missing</th>\n",
       "    </tr>\n",
       "  </thead>\n",
       "  <tbody>\n",
       "    <tr>\n",
       "      <th>id</th>\n",
       "      <td>0</td>\n",
       "      <td>0.00</td>\n",
       "    </tr>\n",
       "    <tr>\n",
       "      <th>manufacturer</th>\n",
       "      <td>0</td>\n",
       "      <td>0.00</td>\n",
       "    </tr>\n",
       "    <tr>\n",
       "      <th>company_location</th>\n",
       "      <td>0</td>\n",
       "      <td>0.00</td>\n",
       "    </tr>\n",
       "    <tr>\n",
       "      <th>year_reviewed</th>\n",
       "      <td>0</td>\n",
       "      <td>0.00</td>\n",
       "    </tr>\n",
       "    <tr>\n",
       "      <th>bean_origin</th>\n",
       "      <td>0</td>\n",
       "      <td>0.00</td>\n",
       "    </tr>\n",
       "    <tr>\n",
       "      <th>bar_name</th>\n",
       "      <td>0</td>\n",
       "      <td>0.00</td>\n",
       "    </tr>\n",
       "    <tr>\n",
       "      <th>cocoa_percent</th>\n",
       "      <td>0</td>\n",
       "      <td>0.00</td>\n",
       "    </tr>\n",
       "    <tr>\n",
       "      <th>num_ingredients</th>\n",
       "      <td>87</td>\n",
       "      <td>3.44</td>\n",
       "    </tr>\n",
       "    <tr>\n",
       "      <th>ingredients</th>\n",
       "      <td>87</td>\n",
       "      <td>3.44</td>\n",
       "    </tr>\n",
       "    <tr>\n",
       "      <th>review</th>\n",
       "      <td>0</td>\n",
       "      <td>0.00</td>\n",
       "    </tr>\n",
       "    <tr>\n",
       "      <th>rating</th>\n",
       "      <td>0</td>\n",
       "      <td>0.00</td>\n",
       "    </tr>\n",
       "  </tbody>\n",
       "</table>\n",
       "</div>"
      ],
      "text/plain": [
       "                  null_values  percent_missing\n",
       "id                          0             0.00\n",
       "manufacturer                0             0.00\n",
       "company_location            0             0.00\n",
       "year_reviewed               0             0.00\n",
       "bean_origin                 0             0.00\n",
       "bar_name                    0             0.00\n",
       "cocoa_percent               0             0.00\n",
       "num_ingredients            87             3.44\n",
       "ingredients                87             3.44\n",
       "review                      0             0.00\n",
       "rating                      0             0.00"
      ]
     },
     "execution_count": 5,
     "metadata": {},
     "output_type": "execute_result"
    }
   ],
   "source": [
    "# Creating a separate dataframe for null_values\n",
    "null = pd.DataFrame(df.isnull().sum(), columns=['null_values'])\n",
    "\n",
    "# Adding percent_missing column\n",
    "null['percent_missing'] = (df.isna().sum()/len(df) * 100).round(2)\n",
    "\n",
    "null"
   ]
  },
  {
   "cell_type": "code",
   "execution_count": 6,
   "id": "41052053",
   "metadata": {},
   "outputs": [
    {
     "data": {
      "text/plain": [
       "<AxesSubplot:>"
      ]
     },
     "execution_count": 6,
     "metadata": {},
     "output_type": "execute_result"
    },
    {
     "data": {
      "image/png": "[encoded data removed]",
      "text/plain": [
       "<Figure size 1800x720 with 2 Axes>"
      ]
     },
     "metadata": {
      "needs_background": "light"
     },
     "output_type": "display_data"
    }
   ],
   "source": [
    "# Visualizing missing value locations\n",
    "msno.matrix(df)"
   ]
  },
  {
   "cell_type": "markdown",
   "id": "7d87198a",
   "metadata": {},
   "source": [
    "## What is the average rating by country of origin?\n",
    "_Tobago_ has the highest average rating with 3.625, while _Puerto Rico_ has the lowest average rating with 2.714."
   ]
  },
  {
   "cell_type": "code",
   "execution_count": 47,
   "id": "b469938a",
   "metadata": {},
   "outputs": [
    {
     "data": {
      "text/html": [
       "<div>\n",
       "<style scoped>\n",
       "    .dataframe tbody tr th:only-of-type {\n",
       "        vertical-align: middle;\n",
       "    }\n",
       "\n",
       "    .dataframe tbody tr th {\n",
       "        vertical-align: top;\n",
       "    }\n",
       "\n",
       "    .dataframe thead th {\n",
       "        text-align: right;\n",
       "    }\n",
       "</style>\n",
       "<table border=\"1\" class=\"dataframe\">\n",
       "  <thead>\n",
       "    <tr style=\"text-align: right;\">\n",
       "      <th></th>\n",
       "      <th>avg_rating</th>\n",
       "    </tr>\n",
       "    <tr>\n",
       "      <th>bean_origin</th>\n",
       "      <th></th>\n",
       "    </tr>\n",
       "  </thead>\n",
       "  <tbody>\n",
       "    <tr>\n",
       "      <th>Tobago</th>\n",
       "      <td>3.625000</td>\n",
       "    </tr>\n",
       "    <tr>\n",
       "      <th>China</th>\n",
       "      <td>3.500000</td>\n",
       "    </tr>\n",
       "    <tr>\n",
       "      <th>Sao Tome &amp; Principe</th>\n",
       "      <td>3.500000</td>\n",
       "    </tr>\n",
       "    <tr>\n",
       "      <th>Solomon Islands</th>\n",
       "      <td>3.450000</td>\n",
       "    </tr>\n",
       "    <tr>\n",
       "      <th>Congo</th>\n",
       "      <td>3.318182</td>\n",
       "    </tr>\n",
       "    <tr>\n",
       "      <th>Thailand</th>\n",
       "      <td>3.300000</td>\n",
       "    </tr>\n",
       "    <tr>\n",
       "      <th>Cuba</th>\n",
       "      <td>3.291667</td>\n",
       "    </tr>\n",
       "    <tr>\n",
       "      <th>Vietnam</th>\n",
       "      <td>3.287671</td>\n",
       "    </tr>\n",
       "    <tr>\n",
       "      <th>Papua New Guinea</th>\n",
       "      <td>3.280000</td>\n",
       "    </tr>\n",
       "    <tr>\n",
       "      <th>Madagascar</th>\n",
       "      <td>3.266949</td>\n",
       "    </tr>\n",
       "  </tbody>\n",
       "</table>\n",
       "</div>"
      ],
      "text/plain": [
       "                     avg_rating\n",
       "bean_origin                    \n",
       "Tobago                 3.625000\n",
       "China                  3.500000\n",
       "Sao Tome & Principe    3.500000\n",
       "Solomon Islands        3.450000\n",
       "Congo                  3.318182\n",
       "Thailand               3.300000\n",
       "Cuba                   3.291667\n",
       "Vietnam                3.287671\n",
       "Papua New Guinea       3.280000\n",
       "Madagascar             3.266949"
      ]
     },
     "execution_count": 47,
     "metadata": {},
     "output_type": "execute_result"
    }
   ],
   "source": [
    "avg_rating = df.groupby('bean_origin').agg(avg_rating=('rating', 'mean'))\n",
    "avg_rating.nlargest(10, 'avg_rating')"
   ]
  },
  {
   "cell_type": "code",
   "execution_count": 48,
   "id": "67928bc8",
   "metadata": {},
   "outputs": [
    {
     "data": {
      "text/html": [
       "<div>\n",
       "<style scoped>\n",
       "    .dataframe tbody tr th:only-of-type {\n",
       "        vertical-align: middle;\n",
       "    }\n",
       "\n",
       "    .dataframe tbody tr th {\n",
       "        vertical-align: top;\n",
       "    }\n",
       "\n",
       "    .dataframe thead th {\n",
       "        text-align: right;\n",
       "    }\n",
       "</style>\n",
       "<table border=\"1\" class=\"dataframe\">\n",
       "  <thead>\n",
       "    <tr style=\"text-align: right;\">\n",
       "      <th></th>\n",
       "      <th>avg_rating</th>\n",
       "    </tr>\n",
       "    <tr>\n",
       "      <th>bean_origin</th>\n",
       "      <th></th>\n",
       "    </tr>\n",
       "  </thead>\n",
       "  <tbody>\n",
       "    <tr>\n",
       "      <th>Puerto Rico</th>\n",
       "      <td>2.714286</td>\n",
       "    </tr>\n",
       "  </tbody>\n",
       "</table>\n",
       "</div>"
      ],
      "text/plain": [
       "             avg_rating\n",
       "bean_origin            \n",
       "Puerto Rico    2.714286"
      ]
     },
     "execution_count": 48,
     "metadata": {},
     "output_type": "execute_result"
    }
   ],
   "source": [
    "avg_rating.nsmallest(1, 'avg_rating')"
   ]
  },
  {
   "cell_type": "markdown",
   "id": "504c4386",
   "metadata": {},
   "source": [
    "## How many bars were reviewed for each of those countries?\n",
    "Unfortunately, it appears that, with the exception of Madagascar, none of the countries with the highest averages appears in countries with the highest number of ratings. This indicates that there may be some potential outliers within the number of ratings by bean origin country. \n",
    "\n",
    "**37 countries have 20 ratings or less; 29 countries have 10 ratings or less**. \n",
    "\n",
    "We can filter some of these values out, making the visualization more digestible, and giving us a clearer picture of the average ratings without the outliers established."
   ]
  },
  {
   "cell_type": "code",
   "execution_count": 49,
   "id": "3fe35158",
   "metadata": {},
   "outputs": [
    {
     "data": {
      "text/html": [
       "<div>\n",
       "<style scoped>\n",
       "    .dataframe tbody tr th:only-of-type {\n",
       "        vertical-align: middle;\n",
       "    }\n",
       "\n",
       "    .dataframe tbody tr th {\n",
       "        vertical-align: top;\n",
       "    }\n",
       "\n",
       "    .dataframe thead th {\n",
       "        text-align: right;\n",
       "    }\n",
       "</style>\n",
       "<table border=\"1\" class=\"dataframe\">\n",
       "  <thead>\n",
       "    <tr style=\"text-align: right;\">\n",
       "      <th></th>\n",
       "      <th>n_rating</th>\n",
       "    </tr>\n",
       "    <tr>\n",
       "      <th>bean_origin</th>\n",
       "      <th></th>\n",
       "    </tr>\n",
       "  </thead>\n",
       "  <tbody>\n",
       "    <tr>\n",
       "      <th>Venezuela</th>\n",
       "      <td>253</td>\n",
       "    </tr>\n",
       "    <tr>\n",
       "      <th>Peru</th>\n",
       "      <td>244</td>\n",
       "    </tr>\n",
       "    <tr>\n",
       "      <th>Dominican Republic</th>\n",
       "      <td>226</td>\n",
       "    </tr>\n",
       "    <tr>\n",
       "      <th>Ecuador</th>\n",
       "      <td>219</td>\n",
       "    </tr>\n",
       "    <tr>\n",
       "      <th>Madagascar</th>\n",
       "      <td>177</td>\n",
       "    </tr>\n",
       "    <tr>\n",
       "      <th>Blend</th>\n",
       "      <td>156</td>\n",
       "    </tr>\n",
       "    <tr>\n",
       "      <th>Nicaragua</th>\n",
       "      <td>100</td>\n",
       "    </tr>\n",
       "    <tr>\n",
       "      <th>Bolivia</th>\n",
       "      <td>80</td>\n",
       "    </tr>\n",
       "    <tr>\n",
       "      <th>Colombia</th>\n",
       "      <td>79</td>\n",
       "    </tr>\n",
       "    <tr>\n",
       "      <th>Tanzania</th>\n",
       "      <td>79</td>\n",
       "    </tr>\n",
       "  </tbody>\n",
       "</table>\n",
       "</div>"
      ],
      "text/plain": [
       "                    n_rating\n",
       "bean_origin                 \n",
       "Venezuela                253\n",
       "Peru                     244\n",
       "Dominican Republic       226\n",
       "Ecuador                  219\n",
       "Madagascar               177\n",
       "Blend                    156\n",
       "Nicaragua                100\n",
       "Bolivia                   80\n",
       "Colombia                  79\n",
       "Tanzania                  79"
      ]
     },
     "execution_count": 49,
     "metadata": {},
     "output_type": "execute_result"
    }
   ],
   "source": [
    "n_rating = df.groupby('bean_origin').agg(n_rating=('rating', 'count'))\n",
    "n_rating.nlargest(10, 'n_rating')"
   ]
  },
  {
   "cell_type": "code",
   "execution_count": 50,
   "id": "eef01ee4",
   "metadata": {},
   "outputs": [
    {
     "data": {
      "text/html": [
       "<div>\n",
       "<style scoped>\n",
       "    .dataframe tbody tr th:only-of-type {\n",
       "        vertical-align: middle;\n",
       "    }\n",
       "\n",
       "    .dataframe tbody tr th {\n",
       "        vertical-align: top;\n",
       "    }\n",
       "\n",
       "    .dataframe thead th {\n",
       "        text-align: right;\n",
       "    }\n",
       "</style>\n",
       "<table border=\"1\" class=\"dataframe\">\n",
       "  <thead>\n",
       "    <tr style=\"text-align: right;\">\n",
       "      <th></th>\n",
       "      <th>n_rating</th>\n",
       "    </tr>\n",
       "    <tr>\n",
       "      <th>bean_origin</th>\n",
       "      <th></th>\n",
       "    </tr>\n",
       "  </thead>\n",
       "  <tbody>\n",
       "    <tr>\n",
       "      <th>Madagascar</th>\n",
       "      <td>177</td>\n",
       "    </tr>\n",
       "  </tbody>\n",
       "</table>\n",
       "</div>"
      ],
      "text/plain": [
       "             n_rating\n",
       "bean_origin          \n",
       "Madagascar        177"
      ]
     },
     "execution_count": 50,
     "metadata": {},
     "output_type": "execute_result"
    }
   ],
   "source": [
    "top_ten_avg = avg_rating.nlargest(10, 'avg_rating')\n",
    "top_ten_n = n_rating.nlargest(10, 'n_rating')\n",
    "\n",
    "n_rating_list = top_ten_avg.index.values.tolist()\n",
    "\n",
    "top_ten_n[top_ten_n.index.isin(n_rating_list) == True]"
   ]
  },
  {
   "cell_type": "code",
   "execution_count": 46,
   "id": "3077201c",
   "metadata": {},
   "outputs": [
    {
     "name": "stdout",
     "output_type": "stream",
     "text": [
      "Number of origins with less than or equal to 20 ratings = 37\n",
      "Number of origins with less than or equal to  10 ratings = 29\n"
     ]
    }
   ],
   "source": [
    "under_50 = n_rating[n_rating['n_rating'] <= 20].count()\n",
    "under_10 = n_rating[n_rating['n_rating'] <= 10].count()\n",
    "\n",
    "print('Number of origins with less than or equal to 20 ratings = {}'.format(under_50[0]))\n",
    "print('Number of origins with less than or equal to  10 ratings = {}'.format(under_10[0]))"
   ]
  },
  {
   "cell_type": "markdown",
   "id": "59ee492e",
   "metadata": {},
   "source": [
    "## Visualization\n",
    "A separate data frame with bean origin countries that have 50 or more ratings was created. Both plots were combined, sharing the same x-axis to get a better view of the relationship between the average and number of ratings. A new data frame containing the average rating and the number of ratings will be created before filtering for countries with greater than, or equal to, 50 ratings.\n",
    "\n",
    "‘Blend’ has the lowest average rating of 3.04 compared to the other countries; however, **all countries with 20 or more ratings have an average rating within the _3.0-3.49 Recommended_ range** established earlier."
   ]
  },
  {
   "cell_type": "code",
   "execution_count": 52,
   "id": "e9076655",
   "metadata": {},
   "outputs": [
    {
     "data": {
      "text/html": [
       "<div>\n",
       "<style scoped>\n",
       "    .dataframe tbody tr th:only-of-type {\n",
       "        vertical-align: middle;\n",
       "    }\n",
       "\n",
       "    .dataframe tbody tr th {\n",
       "        vertical-align: top;\n",
       "    }\n",
       "\n",
       "    .dataframe thead th {\n",
       "        text-align: right;\n",
       "    }\n",
       "</style>\n",
       "<table border=\"1\" class=\"dataframe\">\n",
       "  <thead>\n",
       "    <tr style=\"text-align: right;\">\n",
       "      <th></th>\n",
       "      <th>bean_origin</th>\n",
       "      <th>avg_rating</th>\n",
       "      <th>n_rating</th>\n",
       "    </tr>\n",
       "  </thead>\n",
       "  <tbody>\n",
       "    <tr>\n",
       "      <th>0</th>\n",
       "      <td>Venezuela</td>\n",
       "      <td>3.231225</td>\n",
       "      <td>253</td>\n",
       "    </tr>\n",
       "    <tr>\n",
       "      <th>1</th>\n",
       "      <td>Peru</td>\n",
       "      <td>3.197746</td>\n",
       "      <td>244</td>\n",
       "    </tr>\n",
       "    <tr>\n",
       "      <th>2</th>\n",
       "      <td>Dominican Republic</td>\n",
       "      <td>3.215708</td>\n",
       "      <td>226</td>\n",
       "    </tr>\n",
       "    <tr>\n",
       "      <th>3</th>\n",
       "      <td>Ecuador</td>\n",
       "      <td>3.164384</td>\n",
       "      <td>219</td>\n",
       "    </tr>\n",
       "    <tr>\n",
       "      <th>4</th>\n",
       "      <td>Madagascar</td>\n",
       "      <td>3.266949</td>\n",
       "      <td>177</td>\n",
       "    </tr>\n",
       "  </tbody>\n",
       "</table>\n",
       "</div>"
      ],
      "text/plain": [
       "          bean_origin  avg_rating  n_rating\n",
       "0           Venezuela    3.231225       253\n",
       "1                Peru    3.197746       244\n",
       "2  Dominican Republic    3.215708       226\n",
       "3             Ecuador    3.164384       219\n",
       "4          Madagascar    3.266949       177"
      ]
     },
     "execution_count": 52,
     "metadata": {},
     "output_type": "execute_result"
    }
   ],
   "source": [
    "# Creating new dataframe grouping bean_origin, avg_rating, and n_rating\n",
    "df_avg = df.groupby('bean_origin', as_index=False).agg(avg_rating=('rating', 'mean'),\n",
    "                                                       n_rating=('rating', 'count'))\n",
    "\n",
    "# Separate dataframe for n_ratings 20 or greater\n",
    "over_20 = df_avg[df_avg['n_rating'] >= 20].sort_values('n_rating', ascending=False, ignore_index=True)\n",
    "\n",
    "over_20.head()"
   ]
  },
  {
   "cell_type": "code",
   "execution_count": 53,
   "id": "646ca9b6",
   "metadata": {},
   "outputs": [
    {
     "data": {
      "application/vnd.plotly.v1+json": {
       "config": {
        "plotlyServerURL": "https://plot.ly"
       },
       "data": [
        {
         "name": "n_rating",
         "type": "bar",
         "x": [
          "Venezuela",
          "Peru",
          "Dominican Republic",
          "Ecuador",
          "Madagascar",
          "Blend",
          "Nicaragua",
          "Bolivia",
          "Colombia",
          "Tanzania",
          "Brazil",
          "Belize",
          "Vietnam",
          "Guatemala",
          "Mexico",
          "Papua New Guinea",
          "Costa Rica",
          "Trinidad",
          "Ghana",
          "India",
          "U.S.A.",
          "Haiti",
          "Honduras",
          "Jamaica",
          "Philippines",
          "Indonesia"
         ],
         "xaxis": "x",
         "y": [
          253,
          244,
          226,
          219,
          177,
          156,
          100,
          80,
          79,
          79,
          78,
          76,
          73,
          62,
          55,
          50,
          43,
          42,
          41,
          35,
          33,
          30,
          25,
          24,
          24,
          20
         ],
         "yaxis": "y"
        },
        {
         "name": "avg rating",
         "type": "scatter",
         "x": [
          "Venezuela",
          "Peru",
          "Dominican Republic",
          "Ecuador",
          "Madagascar",
          "Blend",
          "Nicaragua",
          "Bolivia",
          "Colombia",
          "Tanzania",
          "Brazil",
          "Belize",
          "Vietnam",
          "Guatemala",
          "Mexico",
          "Papua New Guinea",
          "Costa Rica",
          "Trinidad",
          "Ghana",
          "India",
          "U.S.A.",
          "Haiti",
          "Honduras",
          "Jamaica",
          "Philippines",
          "Indonesia"
         ],
         "xaxis": "x",
         "y": [
          3.231225296442688,
          3.1977459016393444,
          3.21570796460177,
          3.164383561643836,
          3.266949152542373,
          3.0384615384615383,
          3.255,
          3.18125,
          3.1962025316455698,
          3.2341772151898733,
          3.2628205128205128,
          3.2335526315789473,
          3.287671232876712,
          3.2580645161290325,
          3.168181818181818,
          3.28,
          3.1511627906976742,
          3.244047619047619,
          3.1341463414634148,
          3.164285714285714,
          3.242424242424242,
          3.2666666666666666,
          3.24,
          3.1979166666666665,
          3.125,
          3.1125
         ],
         "yaxis": "y2"
        }
       ],
       "layout": {
        "template": {
         "data": {
          "bar": [
           {
            "error_x": {
             "color": "#2a3f5f"
            },
            "error_y": {
             "color": "#2a3f5f"
            },
            "marker": {
             "line": {
              "color": "#E5ECF6",
              "width": 0.5
             },
             "pattern": {
              "fillmode": "overlay",
              "size": 10,
              "solidity": 0.2
             }
            },
            "type": "bar"
           }
          ],
          "barpolar": [
           {
            "marker": {
             "line": {
              "color": "#E5ECF6",
              "width": 0.5
             },
             "pattern": {
              "fillmode": "overlay",
              "size": 10,
              "solidity": 0.2
             }
            },
            "type": "barpolar"
           }
          ],
          "carpet": [
           {
            "aaxis": {
             "endlinecolor": "#2a3f5f",
             "gridcolor": "white",
             "linecolor": "white",
             "minorgridcolor": "white",
             "startlinecolor": "#2a3f5f"
            },
            "baxis": {
             "endlinecolor": "#2a3f5f",
             "gridcolor": "white",
             "linecolor": "white",
             "minorgridcolor": "white",
             "startlinecolor": "#2a3f5f"
            },
            "type": "carpet"
           }
          ],
          "choropleth": [
           {
            "colorbar": {
             "outlinewidth": 0,
             "ticks": ""
            },
            "type": "choropleth"
           }
          ],
          "contour": [
           {
            "colorbar": {
             "outlinewidth": 0,
             "ticks": ""
            },
            "colorscale": [
             [
              0,
              "#0d0887"
             ],
             [
              0.1111111111111111,
              "#46039f"
             ],
             [
              0.2222222222222222,
              "#7201a8"
             ],
             [
              0.3333333333333333,
              "#9c179e"
             ],
             [
              0.4444444444444444,
              "#bd3786"
             ],
             [
              0.5555555555555556,
              "#d8576b"
             ],
             [
              0.6666666666666666,
              "#ed7953"
             ],
             [
              0.7777777777777778,
              "#fb9f3a"
             ],
             [
              0.8888888888888888,
              "#fdca26"
             ],
             [
              1,
              "#f0f921"
             ]
            ],
            "type": "contour"
           }
          ],
          "contourcarpet": [
           {
            "colorbar": {
             "outlinewidth": 0,
             "ticks": ""
            },
            "type": "contourcarpet"
           }
          ],
          "heatmap": [
           {
            "colorbar": {
             "outlinewidth": 0,
             "ticks": ""
            },
            "colorscale": [
             [
              0,
              "#0d0887"
             ],
             [
              0.1111111111111111,
              "#46039f"
             ],
             [
              0.2222222222222222,
              "#7201a8"
             ],
             [
              0.3333333333333333,
              "#9c179e"
             ],
             [
              0.4444444444444444,
              "#bd3786"
             ],
             [
              0.5555555555555556,
              "#d8576b"
             ],
             [
              0.6666666666666666,
              "#ed7953"
             ],
             [
              0.7777777777777778,
              "#fb9f3a"
             ],
             [
              0.8888888888888888,
              "#fdca26"
             ],
             [
              1,
              "#f0f921"
             ]
            ],
            "type": "heatmap"
           }
          ],
          "heatmapgl": [
           {
            "colorbar": {
             "outlinewidth": 0,
             "ticks": ""
            },
            "colorscale": [
             [
              0,
              "#0d0887"
             ],
             [
              0.1111111111111111,
              "#46039f"
             ],
             [
              0.2222222222222222,
              "#7201a8"
             ],
             [
              0.3333333333333333,
              "#9c179e"
             ],
             [
              0.4444444444444444,
              "#bd3786"
             ],
             [
              0.5555555555555556,
              "#d8576b"
             ],
             [
              0.6666666666666666,
              "#ed7953"
             ],
             [
              0.7777777777777778,
              "#fb9f3a"
             ],
             [
              0.8888888888888888,
              "#fdca26"
             ],
             [
              1,
              "#f0f921"
             ]
            ],
            "type": "heatmapgl"
           }
          ],
          "histogram": [
           {
            "marker": {
             "pattern": {
              "fillmode": "overlay",
              "size": 10,
              "solidity": 0.2
             }
            },
            "type": "histogram"
           }
          ],
          "histogram2d": [
           {
            "colorbar": {
             "outlinewidth": 0,
             "ticks": ""
            },
            "colorscale": [
             [
              0,
              "#0d0887"
             ],
             [
              0.1111111111111111,
              "#46039f"
             ],
             [
              0.2222222222222222,
              "#7201a8"
             ],
             [
              0.3333333333333333,
              "#9c179e"
             ],
             [
              0.4444444444444444,
              "#bd3786"
             ],
             [
              0.5555555555555556,
              "#d8576b"
             ],
             [
              0.6666666666666666,
              "#ed7953"
             ],
             [
              0.7777777777777778,
              "#fb9f3a"
             ],
             [
              0.8888888888888888,
              "#fdca26"
             ],
             [
              1,
              "#f0f921"
             ]
            ],
            "type": "histogram2d"
           }
          ],
          "histogram2dcontour": [
           {
            "colorbar": {
             "outlinewidth": 0,
             "ticks": ""
            },
            "colorscale": [
             [
              0,
              "#0d0887"
             ],
             [
              0.1111111111111111,
              "#46039f"
             ],
             [
              0.2222222222222222,
              "#7201a8"
             ],
             [
              0.3333333333333333,
              "#9c179e"
             ],
             [
              0.4444444444444444,
              "#bd3786"
             ],
             [
              0.5555555555555556,
              "#d8576b"
             ],
             [
              0.6666666666666666,
              "#ed7953"
             ],
             [
              0.7777777777777778,
              "#fb9f3a"
             ],
             [
              0.8888888888888888,
              "#fdca26"
             ],
             [
              1,
              "#f0f921"
             ]
            ],
            "type": "histogram2dcontour"
           }
          ],
          "mesh3d": [
           {
            "colorbar": {
             "outlinewidth": 0,
             "ticks": ""
            },
            "type": "mesh3d"
           }
          ],
          "parcoords": [
           {
            "line": {
             "colorbar": {
              "outlinewidth": 0,
              "ticks": ""
             }
            },
            "type": "parcoords"
           }
          ],
          "pie": [
           {
            "automargin": true,
            "type": "pie"
           }
          ],
          "scatter": [
           {
            "fillpattern": {
             "fillmode": "overlay",
             "size": 10,
             "solidity": 0.2
            },
            "type": "scatter"
           }
          ],
          "scatter3d": [
           {
            "line": {
             "colorbar": {
              "outlinewidth": 0,
              "ticks": ""
             }
            },
            "marker": {
             "colorbar": {
              "outlinewidth": 0,
              "ticks": ""
             }
            },
            "type": "scatter3d"
           }
          ],
          "scattercarpet": [
           {
            "marker": {
             "colorbar": {
              "outlinewidth": 0,
              "ticks": ""
             }
            },
            "type": "scattercarpet"
           }
          ],
          "scattergeo": [
           {
            "marker": {
             "colorbar": {
              "outlinewidth": 0,
              "ticks": ""
             }
            },
            "type": "scattergeo"
           }
          ],
          "scattergl": [
           {
            "marker": {
             "colorbar": {
              "outlinewidth": 0,
              "ticks": ""
             }
            },
            "type": "scattergl"
           }
          ],
          "scattermapbox": [
           {
            "marker": {
             "colorbar": {
              "outlinewidth": 0,
              "ticks": ""
             }
            },
            "type": "scattermapbox"
           }
          ],
          "scatterpolar": [
           {
            "marker": {
             "colorbar": {
              "outlinewidth": 0,
              "ticks": ""
             }
            },
            "type": "scatterpolar"
           }
          ],
          "scatterpolargl": [
           {
            "marker": {
             "colorbar": {
              "outlinewidth": 0,
              "ticks": ""
             }
            },
            "type": "scatterpolargl"
           }
          ],
          "scatterternary": [
           {
            "marker": {
             "colorbar": {
              "outlinewidth": 0,
              "ticks": ""
             }
            },
            "type": "scatterternary"
           }
          ],
          "surface": [
           {
            "colorbar": {
             "outlinewidth": 0,
             "ticks": ""
            },
            "colorscale": [
             [
              0,
              "#0d0887"
             ],
             [
              0.1111111111111111,
              "#46039f"
             ],
             [
              0.2222222222222222,
              "#7201a8"
             ],
             [
              0.3333333333333333,
              "#9c179e"
             ],
             [
              0.4444444444444444,
              "#bd3786"
             ],
             [
              0.5555555555555556,
              "#d8576b"
             ],
             [
              0.6666666666666666,
              "#ed7953"
             ],
             [
              0.7777777777777778,
              "#fb9f3a"
             ],
             [
              0.8888888888888888,
              "#fdca26"
             ],
             [
              1,
              "#f0f921"
             ]
            ],
            "type": "surface"
           }
          ],
          "table": [
           {
            "cells": {
             "fill": {
              "color": "#EBF0F8"
             },
             "line": {
              "color": "white"
             }
            },
            "header": {
             "fill": {
              "color": "#C8D4E3"
             },
             "line": {
              "color": "white"
             }
            },
            "type": "table"
           }
          ]
         },
         "layout": {
          "annotationdefaults": {
           "arrowcolor": "#2a3f5f",
           "arrowhead": 0,
           "arrowwidth": 1
          },
          "autotypenumbers": "strict",
          "coloraxis": {
           "colorbar": {
            "outlinewidth": 0,
            "ticks": ""
           }
          },
          "colorscale": {
           "diverging": [
            [
             0,
             "#8e0152"
            ],
            [
             0.1,
             "#c51b7d"
            ],
            [
             0.2,
             "#de77ae"
            ],
            [
             0.3,
             "#f1b6da"
            ],
            [
             0.4,
             "#fde0ef"
            ],
            [
             0.5,
             "#f7f7f7"
            ],
            [
             0.6,
             "#e6f5d0"
            ],
            [
             0.7,
             "#b8e186"
            ],
            [
             0.8,
             "#7fbc41"
            ],
            [
             0.9,
             "#4d9221"
            ],
            [
             1,
             "#276419"
            ]
           ],
           "sequential": [
            [
             0,
             "#0d0887"
            ],
            [
             0.1111111111111111,
             "#46039f"
            ],
            [
             0.2222222222222222,
             "#7201a8"
            ],
            [
             0.3333333333333333,
             "#9c179e"
            ],
            [
             0.4444444444444444,
             "#bd3786"
            ],
            [
             0.5555555555555556,
             "#d8576b"
            ],
            [
             0.6666666666666666,
             "#ed7953"
            ],
            [
             0.7777777777777778,
             "#fb9f3a"
            ],
            [
             0.8888888888888888,
             "#fdca26"
            ],
            [
             1,
             "#f0f921"
            ]
           ],
           "sequentialminus": [
            [
             0,
             "#0d0887"
            ],
            [
             0.1111111111111111,
             "#46039f"
            ],
            [
             0.2222222222222222,
             "#7201a8"
            ],
            [
             0.3333333333333333,
             "#9c179e"
            ],
            [
             0.4444444444444444,
             "#bd3786"
            ],
            [
             0.5555555555555556,
             "#d8576b"
            ],
            [
             0.6666666666666666,
             "#ed7953"
            ],
            [
             0.7777777777777778,
             "#fb9f3a"
            ],
            [
             0.8888888888888888,
             "#fdca26"
            ],
            [
             1,
             "#f0f921"
            ]
           ]
          },
          "colorway": [
           "#636efa",
           "#EF553B",
           "#00cc96",
           "#ab63fa",
           "#FFA15A",
           "#19d3f3",
           "#FF6692",
           "#B6E880",
           "#FF97FF",
           "#FECB52"
          ],
          "font": {
           "color": "#2a3f5f"
          },
          "geo": {
           "bgcolor": "white",
           "lakecolor": "white",
           "landcolor": "#E5ECF6",
           "showlakes": true,
           "showland": true,
           "subunitcolor": "white"
          },
          "hoverlabel": {
           "align": "left"
          },
          "hovermode": "closest",
          "mapbox": {
           "style": "light"
          },
          "paper_bgcolor": "white",
          "plot_bgcolor": "#E5ECF6",
          "polar": {
           "angularaxis": {
            "gridcolor": "white",
            "linecolor": "white",
            "ticks": ""
           },
           "bgcolor": "#E5ECF6",
           "radialaxis": {
            "gridcolor": "white",
            "linecolor": "white",
            "ticks": ""
           }
          },
          "scene": {
           "xaxis": {
            "backgroundcolor": "#E5ECF6",
            "gridcolor": "white",
            "gridwidth": 2,
            "linecolor": "white",
            "showbackground": true,
            "ticks": "",
            "zerolinecolor": "white"
           },
           "yaxis": {
            "backgroundcolor": "#E5ECF6",
            "gridcolor": "white",
            "gridwidth": 2,
            "linecolor": "white",
            "showbackground": true,
            "ticks": "",
            "zerolinecolor": "white"
           },
           "zaxis": {
            "backgroundcolor": "#E5ECF6",
            "gridcolor": "white",
            "gridwidth": 2,
            "linecolor": "white",
            "showbackground": true,
            "ticks": "",
            "zerolinecolor": "white"
           }
          },
          "shapedefaults": {
           "line": {
            "color": "#2a3f5f"
           }
          },
          "ternary": {
           "aaxis": {
            "gridcolor": "white",
            "linecolor": "white",
            "ticks": ""
           },
           "baxis": {
            "gridcolor": "white",
            "linecolor": "white",
            "ticks": ""
           },
           "bgcolor": "#E5ECF6",
           "caxis": {
            "gridcolor": "white",
            "linecolor": "white",
            "ticks": ""
           }
          },
          "title": {
           "x": 0.05
          },
          "xaxis": {
           "automargin": true,
           "gridcolor": "white",
           "linecolor": "white",
           "ticks": "",
           "title": {
            "standoff": 15
           },
           "zerolinecolor": "white",
           "zerolinewidth": 2
          },
          "yaxis": {
           "automargin": true,
           "gridcolor": "white",
           "linecolor": "white",
           "ticks": "",
           "title": {
            "standoff": 15
           },
           "zerolinecolor": "white",
           "zerolinewidth": 2
          }
         }
        },
        "title": {
         "text": "Bean origin by count and average rating"
        },
        "xaxis": {
         "anchor": "y",
         "domain": [
          0,
          0.94
         ],
         "title": {
          "text": "bean origin"
         }
        },
        "yaxis": {
         "anchor": "x",
         "domain": [
          0,
          1
         ],
         "title": {
          "text": "<b>number</b> of ratings"
         }
        },
        "yaxis2": {
         "anchor": "x",
         "overlaying": "y",
         "side": "right",
         "title": {
          "text": "<b>average</b> of ratings"
         }
        }
       }
      },
      "text/html": [
       "<div>                            <div id=\"2a7e4db0-6710-4b1e-adb1-2728caabf490\" class=\"plotly-graph-div\" style=\"height:525px; width:100%;\"></div>            <script type=\"text/javascript\">                require([\"plotly\"], function(Plotly) {                    window.PLOTLYENV=window.PLOTLYENV || {};                                    if (document.getElementById(\"2a7e4db0-6710-4b1e-adb1-2728caabf490\")) {                    Plotly.newPlot(                        \"2a7e4db0-6710-4b1e-adb1-2728caabf490\",                        [{\"name\":\"n_rating\",\"x\":[\"Venezuela\",\"Peru\",\"Dominican Republic\",\"Ecuador\",\"Madagascar\",\"Blend\",\"Nicaragua\",\"Bolivia\",\"Colombia\",\"Tanzania\",\"Brazil\",\"Belize\",\"Vietnam\",\"Guatemala\",\"Mexico\",\"Papua New Guinea\",\"Costa Rica\",\"Trinidad\",\"Ghana\",\"India\",\"U.S.A.\",\"Haiti\",\"Honduras\",\"Jamaica\",\"Philippines\",\"Indonesia\"],\"y\":[253,244,226,219,177,156,100,80,79,79,78,76,73,62,55,50,43,42,41,35,33,30,25,24,24,20],\"type\":\"bar\",\"xaxis\":\"x\",\"yaxis\":\"y\"},{\"name\":\"avg rating\",\"x\":[\"Venezuela\",\"Peru\",\"Dominican Republic\",\"Ecuador\",\"Madagascar\",\"Blend\",\"Nicaragua\",\"Bolivia\",\"Colombia\",\"Tanzania\",\"Brazil\",\"Belize\",\"Vietnam\",\"Guatemala\",\"Mexico\",\"Papua New Guinea\",\"Costa Rica\",\"Trinidad\",\"Ghana\",\"India\",\"U.S.A.\",\"Haiti\",\"Honduras\",\"Jamaica\",\"Philippines\",\"Indonesia\"],\"y\":[3.231225296442688,3.1977459016393444,3.21570796460177,3.164383561643836,3.266949152542373,3.0384615384615383,3.255,3.18125,3.1962025316455698,3.2341772151898733,3.2628205128205128,3.2335526315789473,3.287671232876712,3.2580645161290325,3.168181818181818,3.28,3.1511627906976742,3.244047619047619,3.1341463414634148,3.164285714285714,3.242424242424242,3.2666666666666666,3.24,3.1979166666666665,3.125,3.1125],\"type\":\"scatter\",\"xaxis\":\"x\",\"yaxis\":\"y2\"}],                        {\"template\":{\"data\":{\"histogram2dcontour\":[{\"type\":\"histogram2dcontour\",\"colorbar\":{\"outlinewidth\":0,\"ticks\":\"\"},\"colorscale\":[[0.0,\"#0d0887\"],[0.1111111111111111,\"#46039f\"],[0.2222222222222222,\"#7201a8\"],[0.3333333333333333,\"#9c179e\"],[0.4444444444444444,\"#bd3786\"],[0.5555555555555556,\"#d8576b\"],[0.6666666666666666,\"#ed7953\"],[0.7777777777777778,\"#fb9f3a\"],[0.8888888888888888,\"#fdca26\"],[1.0,\"#f0f921\"]]}],\"choropleth\":[{\"type\":\"choropleth\",\"colorbar\":{\"outlinewidth\":0,\"ticks\":\"\"}}],\"histogram2d\":[{\"type\":\"histogram2d\",\"colorbar\":{\"outlinewidth\":0,\"ticks\":\"\"},\"colorscale\":[[0.0,\"#0d0887\"],[0.1111111111111111,\"#46039f\"],[0.2222222222222222,\"#7201a8\"],[0.3333333333333333,\"#9c179e\"],[0.4444444444444444,\"#bd3786\"],[0.5555555555555556,\"#d8576b\"],[0.6666666666666666,\"#ed7953\"],[0.7777777777777778,\"#fb9f3a\"],[0.8888888888888888,\"#fdca26\"],[1.0,\"#f0f921\"]]}],\"heatmap\":[{\"type\":\"heatmap\",\"colorbar\":{\"outlinewidth\":0,\"ticks\":\"\"},\"colorscale\":[[0.0,\"#0d0887\"],[0.1111111111111111,\"#46039f\"],[0.2222222222222222,\"#7201a8\"],[0.3333333333333333,\"#9c179e\"],[0.4444444444444444,\"#bd3786\"],[0.5555555555555556,\"#d8576b\"],[0.6666666666666666,\"#ed7953\"],[0.7777777777777778,\"#fb9f3a\"],[0.8888888888888888,\"#fdca26\"],[1.0,\"#f0f921\"]]}],\"heatmapgl\":[{\"type\":\"heatmapgl\",\"colorbar\":{\"outlinewidth\":0,\"ticks\":\"\"},\"colorscale\":[[0.0,\"#0d0887\"],[0.1111111111111111,\"#46039f\"],[0.2222222222222222,\"#7201a8\"],[0.3333333333333333,\"#9c179e\"],[0.4444444444444444,\"#bd3786\"],[0.5555555555555556,\"#d8576b\"],[0.6666666666666666,\"#ed7953\"],[0.7777777777777778,\"#fb9f3a\"],[0.8888888888888888,\"#fdca26\"],[1.0,\"#f0f921\"]]}],\"contourcarpet\":[{\"type\":\"contourcarpet\",\"colorbar\":{\"outlinewidth\":0,\"ticks\":\"\"}}],\"contour\":[{\"type\":\"contour\",\"colorbar\":{\"outlinewidth\":0,\"ticks\":\"\"},\"colorscale\":[[0.0,\"#0d0887\"],[0.1111111111111111,\"#46039f\"],[0.2222222222222222,\"#7201a8\"],[0.3333333333333333,\"#9c179e\"],[0.4444444444444444,\"#bd3786\"],[0.5555555555555556,\"#d8576b\"],[0.6666666666666666,\"#ed7953\"],[0.7777777777777778,\"#fb9f3a\"],[0.8888888888888888,\"#fdca26\"],[1.0,\"#f0f921\"]]}],\"surface\":[{\"type\":\"surface\",\"colorbar\":{\"outlinewidth\":0,\"ticks\":\"\"},\"colorscale\":[[0.0,\"#0d0887\"],[0.1111111111111111,\"#46039f\"],[0.2222222222222222,\"#7201a8\"],[0.3333333333333333,\"#9c179e\"],[0.4444444444444444,\"#bd3786\"],[0.5555555555555556,\"#d8576b\"],[0.6666666666666666,\"#ed7953\"],[0.7777777777777778,\"#fb9f3a\"],[0.8888888888888888,\"#fdca26\"],[1.0,\"#f0f921\"]]}],\"mesh3d\":[{\"type\":\"mesh3d\",\"colorbar\":{\"outlinewidth\":0,\"ticks\":\"\"}}],\"scatter\":[{\"fillpattern\":{\"fillmode\":\"overlay\",\"size\":10,\"solidity\":0.2},\"type\":\"scatter\"}],\"parcoords\":[{\"type\":\"parcoords\",\"line\":{\"colorbar\":{\"outlinewidth\":0,\"ticks\":\"\"}}}],\"scatterpolargl\":[{\"type\":\"scatterpolargl\",\"marker\":{\"colorbar\":{\"outlinewidth\":0,\"ticks\":\"\"}}}],\"bar\":[{\"error_x\":{\"color\":\"#2a3f5f\"},\"error_y\":{\"color\":\"#2a3f5f\"},\"marker\":{\"line\":{\"color\":\"#E5ECF6\",\"width\":0.5},\"pattern\":{\"fillmode\":\"overlay\",\"size\":10,\"solidity\":0.2}},\"type\":\"bar\"}],\"scattergeo\":[{\"type\":\"scattergeo\",\"marker\":{\"colorbar\":{\"outlinewidth\":0,\"ticks\":\"\"}}}],\"scatterpolar\":[{\"type\":\"scatterpolar\",\"marker\":{\"colorbar\":{\"outlinewidth\":0,\"ticks\":\"\"}}}],\"histogram\":[{\"marker\":{\"pattern\":{\"fillmode\":\"overlay\",\"size\":10,\"solidity\":0.2}},\"type\":\"histogram\"}],\"scattergl\":[{\"type\":\"scattergl\",\"marker\":{\"colorbar\":{\"outlinewidth\":0,\"ticks\":\"\"}}}],\"scatter3d\":[{\"type\":\"scatter3d\",\"line\":{\"colorbar\":{\"outlinewidth\":0,\"ticks\":\"\"}},\"marker\":{\"colorbar\":{\"outlinewidth\":0,\"ticks\":\"\"}}}],\"scattermapbox\":[{\"type\":\"scattermapbox\",\"marker\":{\"colorbar\":{\"outlinewidth\":0,\"ticks\":\"\"}}}],\"scatterternary\":[{\"type\":\"scatterternary\",\"marker\":{\"colorbar\":{\"outlinewidth\":0,\"ticks\":\"\"}}}],\"scattercarpet\":[{\"type\":\"scattercarpet\",\"marker\":{\"colorbar\":{\"outlinewidth\":0,\"ticks\":\"\"}}}],\"carpet\":[{\"aaxis\":{\"endlinecolor\":\"#2a3f5f\",\"gridcolor\":\"white\",\"linecolor\":\"white\",\"minorgridcolor\":\"white\",\"startlinecolor\":\"#2a3f5f\"},\"baxis\":{\"endlinecolor\":\"#2a3f5f\",\"gridcolor\":\"white\",\"linecolor\":\"white\",\"minorgridcolor\":\"white\",\"startlinecolor\":\"#2a3f5f\"},\"type\":\"carpet\"}],\"table\":[{\"cells\":{\"fill\":{\"color\":\"#EBF0F8\"},\"line\":{\"color\":\"white\"}},\"header\":{\"fill\":{\"color\":\"#C8D4E3\"},\"line\":{\"color\":\"white\"}},\"type\":\"table\"}],\"barpolar\":[{\"marker\":{\"line\":{\"color\":\"#E5ECF6\",\"width\":0.5},\"pattern\":{\"fillmode\":\"overlay\",\"size\":10,\"solidity\":0.2}},\"type\":\"barpolar\"}],\"pie\":[{\"automargin\":true,\"type\":\"pie\"}]},\"layout\":{\"autotypenumbers\":\"strict\",\"colorway\":[\"#636efa\",\"#EF553B\",\"#00cc96\",\"#ab63fa\",\"#FFA15A\",\"#19d3f3\",\"#FF6692\",\"#B6E880\",\"#FF97FF\",\"#FECB52\"],\"font\":{\"color\":\"#2a3f5f\"},\"hovermode\":\"closest\",\"hoverlabel\":{\"align\":\"left\"},\"paper_bgcolor\":\"white\",\"plot_bgcolor\":\"#E5ECF6\",\"polar\":{\"bgcolor\":\"#E5ECF6\",\"angularaxis\":{\"gridcolor\":\"white\",\"linecolor\":\"white\",\"ticks\":\"\"},\"radialaxis\":{\"gridcolor\":\"white\",\"linecolor\":\"white\",\"ticks\":\"\"}},\"ternary\":{\"bgcolor\":\"#E5ECF6\",\"aaxis\":{\"gridcolor\":\"white\",\"linecolor\":\"white\",\"ticks\":\"\"},\"baxis\":{\"gridcolor\":\"white\",\"linecolor\":\"white\",\"ticks\":\"\"},\"caxis\":{\"gridcolor\":\"white\",\"linecolor\":\"white\",\"ticks\":\"\"}},\"coloraxis\":{\"colorbar\":{\"outlinewidth\":0,\"ticks\":\"\"}},\"colorscale\":{\"sequential\":[[0.0,\"#0d0887\"],[0.1111111111111111,\"#46039f\"],[0.2222222222222222,\"#7201a8\"],[0.3333333333333333,\"#9c179e\"],[0.4444444444444444,\"#bd3786\"],[0.5555555555555556,\"#d8576b\"],[0.6666666666666666,\"#ed7953\"],[0.7777777777777778,\"#fb9f3a\"],[0.8888888888888888,\"#fdca26\"],[1.0,\"#f0f921\"]],\"sequentialminus\":[[0.0,\"#0d0887\"],[0.1111111111111111,\"#46039f\"],[0.2222222222222222,\"#7201a8\"],[0.3333333333333333,\"#9c179e\"],[0.4444444444444444,\"#bd3786\"],[0.5555555555555556,\"#d8576b\"],[0.6666666666666666,\"#ed7953\"],[0.7777777777777778,\"#fb9f3a\"],[0.8888888888888888,\"#fdca26\"],[1.0,\"#f0f921\"]],\"diverging\":[[0,\"#8e0152\"],[0.1,\"#c51b7d\"],[0.2,\"#de77ae\"],[0.3,\"#f1b6da\"],[0.4,\"#fde0ef\"],[0.5,\"#f7f7f7\"],[0.6,\"#e6f5d0\"],[0.7,\"#b8e186\"],[0.8,\"#7fbc41\"],[0.9,\"#4d9221\"],[1,\"#276419\"]]},\"xaxis\":{\"gridcolor\":\"white\",\"linecolor\":\"white\",\"ticks\":\"\",\"title\":{\"standoff\":15},\"zerolinecolor\":\"white\",\"automargin\":true,\"zerolinewidth\":2},\"yaxis\":{\"gridcolor\":\"white\",\"linecolor\":\"white\",\"ticks\":\"\",\"title\":{\"standoff\":15},\"zerolinecolor\":\"white\",\"automargin\":true,\"zerolinewidth\":2},\"scene\":{\"xaxis\":{\"backgroundcolor\":\"#E5ECF6\",\"gridcolor\":\"white\",\"linecolor\":\"white\",\"showbackground\":true,\"ticks\":\"\",\"zerolinecolor\":\"white\",\"gridwidth\":2},\"yaxis\":{\"backgroundcolor\":\"#E5ECF6\",\"gridcolor\":\"white\",\"linecolor\":\"white\",\"showbackground\":true,\"ticks\":\"\",\"zerolinecolor\":\"white\",\"gridwidth\":2},\"zaxis\":{\"backgroundcolor\":\"#E5ECF6\",\"gridcolor\":\"white\",\"linecolor\":\"white\",\"showbackground\":true,\"ticks\":\"\",\"zerolinecolor\":\"white\",\"gridwidth\":2}},\"shapedefaults\":{\"line\":{\"color\":\"#2a3f5f\"}},\"annotationdefaults\":{\"arrowcolor\":\"#2a3f5f\",\"arrowhead\":0,\"arrowwidth\":1},\"geo\":{\"bgcolor\":\"white\",\"landcolor\":\"#E5ECF6\",\"subunitcolor\":\"white\",\"showland\":true,\"showlakes\":true,\"lakecolor\":\"white\"},\"title\":{\"x\":0.05},\"mapbox\":{\"style\":\"light\"}}},\"xaxis\":{\"anchor\":\"y\",\"domain\":[0.0,0.94],\"title\":{\"text\":\"bean origin\"}},\"yaxis\":{\"anchor\":\"x\",\"domain\":[0.0,1.0],\"title\":{\"text\":\"<b>number</b> of ratings\"}},\"yaxis2\":{\"anchor\":\"x\",\"overlaying\":\"y\",\"side\":\"right\",\"title\":{\"text\":\"<b>average</b> of ratings\"}},\"title\":{\"text\":\"Bean origin by count and average rating\"}},                        {\"responsive\": true}                    ).then(function(){\n",
       "                            \n",
       "var gd = document.getElementById('2a7e4db0-6710-4b1e-adb1-2728caabf490');\n",
       "var x = new MutationObserver(function (mutations, observer) {{\n",
       "        var display = window.getComputedStyle(gd).display;\n",
       "        if (!display || display === 'none') {{\n",
       "            console.log([gd, 'removed!']);\n",
       "            Plotly.purge(gd);\n",
       "            observer.disconnect();\n",
       "        }}\n",
       "}});\n",
       "\n",
       "// Listen for the removal of the full notebook cells\n",
       "var notebookContainer = gd.closest('#notebook-container');\n",
       "if (notebookContainer) {{\n",
       "    x.observe(notebookContainer, {childList: true});\n",
       "}}\n",
       "\n",
       "// Listen for the clearing of the current output cell\n",
       "var outputEl = gd.closest('.output');\n",
       "if (outputEl) {{\n",
       "    x.observe(outputEl, {childList: true});\n",
       "}}\n",
       "\n",
       "                        })                };                });            </script>        </div>"
      ]
     },
     "metadata": {},
     "output_type": "display_data"
    }
   ],
   "source": [
    "# Creating a subplot that shares xaxis, secondary yaxis\n",
    "fig = make_subplots(specs=[[{\"secondary_y\": True}]])\n",
    "\n",
    "# Adding bar chart for number of ratings\n",
    "fig.add_trace(go.Bar(x=over_20['bean_origin'], y=over_20['n_rating'],\n",
    "                     name='n_rating'), secondary_y=False)\n",
    "\n",
    "# Adding line graph for average rating\n",
    "fig.add_trace(go.Scatter(x=over_20['bean_origin'], y=over_20['avg_rating'],\n",
    "                         name='avg rating'), secondary_y=True)\n",
    "\n",
    "# Add figure titles\n",
    "fig.update_layout(title_text='Bean origin by count and average rating')\n",
    "\n",
    "# Update xaxis\n",
    "fig.update_xaxes(title_text='bean origin')\n",
    "\n",
    "# Update yaxes\n",
    "fig.update_yaxes(title_text='<b>number</b> of ratings', secondary_y=False)\n",
    "fig.update_yaxes(title_text='<b>average</b> of ratings', secondary_y=True)\n",
    "\n",
    "# Show graph\n",
    "fig.show()"
   ]
  },
  {
   "cell_type": "code",
   "execution_count": 54,
   "id": "432a1214",
   "metadata": {},
   "outputs": [
    {
     "name": "stdout",
     "output_type": "stream",
     "text": [
      "Avg rating for Blend: 3.04\n",
      "Avg rating for other countries: 3.21\n"
     ]
    }
   ],
   "source": [
    "blend = over_50[over_50['bean_origin'] == 'Blend']\n",
    "no_blend = over_50[over_50['bean_origin'] != 'Blend']\n",
    "\n",
    "blend = blend.avg_rating.mean().round(2)\n",
    "no_blend = no_blend.avg_rating.mean().round(2)\n",
    "\n",
    "print('Avg rating for Blend: {}'.format(blend))\n",
    "print('Avg rating for other countries: {}'.format(no_blend))"
   ]
  },
  {
   "cell_type": "markdown",
   "id": "bc7ef011",
   "metadata": {},
   "source": [
    "## Is the cacao bean's origin an indicator of quality?\n",
    "**It does not appear that the cacao bean's origin an indicator of quality**. A weak negative correlation exists between the average rating and the number of ratings; indicates that as the number of ratings increases, the average rating decreases.\n",
    "\n",
    "One interesting note is that Madagascar has the highest average rating, of 3.267, amongst the countries that have more than 100 ratings."
   ]
  },
  {
   "cell_type": "code",
   "execution_count": 15,
   "id": "2285a8d9",
   "metadata": {
    "scrolled": false
   },
   "outputs": [
    {
     "data": {
      "application/vnd.plotly.v1+json": {
       "config": {
        "plotlyServerURL": "https://plot.ly"
       },
       "data": [
        {
         "coloraxis": "coloraxis",
         "hovertemplate": "x: %{x}<br>y: %{y}<br>color: %{z}<extra></extra>",
         "name": "0",
         "type": "heatmap",
         "x": [
          "avg_rating",
          "n_rating"
         ],
         "xaxis": "x",
         "y": [
          "avg_rating",
          "n_rating"
         ],
         "yaxis": "y",
         "z": [
          [
           1,
           0.20990930640053326
          ],
          [
           0.20990930640053326,
           1
          ]
         ]
        }
       ],
       "layout": {
        "coloraxis": {
         "colorscale": [
          [
           0,
           "#0d0887"
          ],
          [
           0.1111111111111111,
           "#46039f"
          ],
          [
           0.2222222222222222,
           "#7201a8"
          ],
          [
           0.3333333333333333,
           "#9c179e"
          ],
          [
           0.4444444444444444,
           "#bd3786"
          ],
          [
           0.5555555555555556,
           "#d8576b"
          ],
          [
           0.6666666666666666,
           "#ed7953"
          ],
          [
           0.7777777777777778,
           "#fb9f3a"
          ],
          [
           0.8888888888888888,
           "#fdca26"
          ],
          [
           1,
           "#f0f921"
          ]
         ]
        },
        "margin": {
         "t": 60
        },
        "template": {
         "data": {
          "bar": [
           {
            "error_x": {
             "color": "#2a3f5f"
            },
            "error_y": {
             "color": "#2a3f5f"
            },
            "marker": {
             "line": {
              "color": "#E5ECF6",
              "width": 0.5
             },
             "pattern": {
              "fillmode": "overlay",
              "size": 10,
              "solidity": 0.2
             }
            },
            "type": "bar"
           }
          ],
          "barpolar": [
           {
            "marker": {
             "line": {
              "color": "#E5ECF6",
              "width": 0.5
             },
             "pattern": {
              "fillmode": "overlay",
              "size": 10,
              "solidity": 0.2
             }
            },
            "type": "barpolar"
           }
          ],
          "carpet": [
           {
            "aaxis": {
             "endlinecolor": "#2a3f5f",
             "gridcolor": "white",
             "linecolor": "white",
             "minorgridcolor": "white",
             "startlinecolor": "#2a3f5f"
            },
            "baxis": {
             "endlinecolor": "#2a3f5f",
             "gridcolor": "white",
             "linecolor": "white",
             "minorgridcolor": "white",
             "startlinecolor": "#2a3f5f"
            },
            "type": "carpet"
           }
          ],
          "choropleth": [
           {
            "colorbar": {
             "outlinewidth": 0,
             "ticks": ""
            },
            "type": "choropleth"
           }
          ],
          "contour": [
           {
            "colorbar": {
             "outlinewidth": 0,
             "ticks": ""
            },
            "colorscale": [
             [
              0,
              "#0d0887"
             ],
             [
              0.1111111111111111,
              "#46039f"
             ],
             [
              0.2222222222222222,
              "#7201a8"
             ],
             [
              0.3333333333333333,
              "#9c179e"
             ],
             [
              0.4444444444444444,
              "#bd3786"
             ],
             [
              0.5555555555555556,
              "#d8576b"
             ],
             [
              0.6666666666666666,
              "#ed7953"
             ],
             [
              0.7777777777777778,
              "#fb9f3a"
             ],
             [
              0.8888888888888888,
              "#fdca26"
             ],
             [
              1,
              "#f0f921"
             ]
            ],
            "type": "contour"
           }
          ],
          "contourcarpet": [
           {
            "colorbar": {
             "outlinewidth": 0,
             "ticks": ""
            },
            "type": "contourcarpet"
           }
          ],
          "heatmap": [
           {
            "colorbar": {
             "outlinewidth": 0,
             "ticks": ""
            },
            "colorscale": [
             [
              0,
              "#0d0887"
             ],
             [
              0.1111111111111111,
              "#46039f"
             ],
             [
              0.2222222222222222,
              "#7201a8"
             ],
             [
              0.3333333333333333,
              "#9c179e"
             ],
             [
              0.4444444444444444,
              "#bd3786"
             ],
             [
              0.5555555555555556,
              "#d8576b"
             ],
             [
              0.6666666666666666,
              "#ed7953"
             ],
             [
              0.7777777777777778,
              "#fb9f3a"
             ],
             [
              0.8888888888888888,
              "#fdca26"
             ],
             [
              1,
              "#f0f921"
             ]
            ],
            "type": "heatmap"
           }
          ],
          "heatmapgl": [
           {
            "colorbar": {
             "outlinewidth": 0,
             "ticks": ""
            },
            "colorscale": [
             [
              0,
              "#0d0887"
             ],
             [
              0.1111111111111111,
              "#46039f"
             ],
             [
              0.2222222222222222,
              "#7201a8"
             ],
             [
              0.3333333333333333,
              "#9c179e"
             ],
             [
              0.4444444444444444,
              "#bd3786"
             ],
             [
              0.5555555555555556,
              "#d8576b"
             ],
             [
              0.6666666666666666,
              "#ed7953"
             ],
             [
              0.7777777777777778,
              "#fb9f3a"
             ],
             [
              0.8888888888888888,
              "#fdca26"
             ],
             [
              1,
              "#f0f921"
             ]
            ],
            "type": "heatmapgl"
           }
          ],
          "histogram": [
           {
            "marker": {
             "pattern": {
              "fillmode": "overlay",
              "size": 10,
              "solidity": 0.2
             }
            },
            "type": "histogram"
           }
          ],
          "histogram2d": [
           {
            "colorbar": {
             "outlinewidth": 0,
             "ticks": ""
            },
            "colorscale": [
             [
              0,
              "#0d0887"
             ],
             [
              0.1111111111111111,
              "#46039f"
             ],
             [
              0.2222222222222222,
              "#7201a8"
             ],
             [
              0.3333333333333333,
              "#9c179e"
             ],
             [
              0.4444444444444444,
              "#bd3786"
             ],
             [
              0.5555555555555556,
              "#d8576b"
             ],
             [
              0.6666666666666666,
              "#ed7953"
             ],
             [
              0.7777777777777778,
              "#fb9f3a"
             ],
             [
              0.8888888888888888,
              "#fdca26"
             ],
             [
              1,
              "#f0f921"
             ]
            ],
            "type": "histogram2d"
           }
          ],
          "histogram2dcontour": [
           {
            "colorbar": {
             "outlinewidth": 0,
             "ticks": ""
            },
            "colorscale": [
             [
              0,
              "#0d0887"
             ],
             [
              0.1111111111111111,
              "#46039f"
             ],
             [
              0.2222222222222222,
              "#7201a8"
             ],
             [
              0.3333333333333333,
              "#9c179e"
             ],
             [
              0.4444444444444444,
              "#bd3786"
             ],
             [
              0.5555555555555556,
              "#d8576b"
             ],
             [
              0.6666666666666666,
              "#ed7953"
             ],
             [
              0.7777777777777778,
              "#fb9f3a"
             ],
             [
              0.8888888888888888,
              "#fdca26"
             ],
             [
              1,
              "#f0f921"
             ]
            ],
            "type": "histogram2dcontour"
           }
          ],
          "mesh3d": [
           {
            "colorbar": {
             "outlinewidth": 0,
             "ticks": ""
            },
            "type": "mesh3d"
           }
          ],
          "parcoords": [
           {
            "line": {
             "colorbar": {
              "outlinewidth": 0,
              "ticks": ""
             }
            },
            "type": "parcoords"
           }
          ],
          "pie": [
           {
            "automargin": true,
            "type": "pie"
           }
          ],
          "scatter": [
           {
            "fillpattern": {
             "fillmode": "overlay",
             "size": 10,
             "solidity": 0.2
            },
            "type": "scatter"
           }
          ],
          "scatter3d": [
           {
            "line": {
             "colorbar": {
              "outlinewidth": 0,
              "ticks": ""
             }
            },
            "marker": {
             "colorbar": {
              "outlinewidth": 0,
              "ticks": ""
             }
            },
            "type": "scatter3d"
           }
          ],
          "scattercarpet": [
           {
            "marker": {
             "colorbar": {
              "outlinewidth": 0,
              "ticks": ""
             }
            },
            "type": "scattercarpet"
           }
          ],
          "scattergeo": [
           {
            "marker": {
             "colorbar": {
              "outlinewidth": 0,
              "ticks": ""
             }
            },
            "type": "scattergeo"
           }
          ],
          "scattergl": [
           {
            "marker": {
             "colorbar": {
              "outlinewidth": 0,
              "ticks": ""
             }
            },
            "type": "scattergl"
           }
          ],
          "scattermapbox": [
           {
            "marker": {
             "colorbar": {
              "outlinewidth": 0,
              "ticks": ""
             }
            },
            "type": "scattermapbox"
           }
          ],
          "scatterpolar": [
           {
            "marker": {
             "colorbar": {
              "outlinewidth": 0,
              "ticks": ""
             }
            },
            "type": "scatterpolar"
           }
          ],
          "scatterpolargl": [
           {
            "marker": {
             "colorbar": {
              "outlinewidth": 0,
              "ticks": ""
             }
            },
            "type": "scatterpolargl"
           }
          ],
          "scatterternary": [
           {
            "marker": {
             "colorbar": {
              "outlinewidth": 0,
              "ticks": ""
             }
            },
            "type": "scatterternary"
           }
          ],
          "surface": [
           {
            "colorbar": {
             "outlinewidth": 0,
             "ticks": ""
            },
            "colorscale": [
             [
              0,
              "#0d0887"
             ],
             [
              0.1111111111111111,
              "#46039f"
             ],
             [
              0.2222222222222222,
              "#7201a8"
             ],
             [
              0.3333333333333333,
              "#9c179e"
             ],
             [
              0.4444444444444444,
              "#bd3786"
             ],
             [
              0.5555555555555556,
              "#d8576b"
             ],
             [
              0.6666666666666666,
              "#ed7953"
             ],
             [
              0.7777777777777778,
              "#fb9f3a"
             ],
             [
              0.8888888888888888,
              "#fdca26"
             ],
             [
              1,
              "#f0f921"
             ]
            ],
            "type": "surface"
           }
          ],
          "table": [
           {
            "cells": {
             "fill": {
              "color": "#EBF0F8"
             },
             "line": {
              "color": "white"
             }
            },
            "header": {
             "fill": {
              "color": "#C8D4E3"
             },
             "line": {
              "color": "white"
             }
            },
            "type": "table"
           }
          ]
         },
         "layout": {
          "annotationdefaults": {
           "arrowcolor": "#2a3f5f",
           "arrowhead": 0,
           "arrowwidth": 1
          },
          "autotypenumbers": "strict",
          "coloraxis": {
           "colorbar": {
            "outlinewidth": 0,
            "ticks": ""
           }
          },
          "colorscale": {
           "diverging": [
            [
             0,
             "#8e0152"
            ],
            [
             0.1,
             "#c51b7d"
            ],
            [
             0.2,
             "#de77ae"
            ],
            [
             0.3,
             "#f1b6da"
            ],
            [
             0.4,
             "#fde0ef"
            ],
            [
             0.5,
             "#f7f7f7"
            ],
            [
             0.6,
             "#e6f5d0"
            ],
            [
             0.7,
             "#b8e186"
            ],
            [
             0.8,
             "#7fbc41"
            ],
            [
             0.9,
             "#4d9221"
            ],
            [
             1,
             "#276419"
            ]
           ],
           "sequential": [
            [
             0,
             "#0d0887"
            ],
            [
             0.1111111111111111,
             "#46039f"
            ],
            [
             0.2222222222222222,
             "#7201a8"
            ],
            [
             0.3333333333333333,
             "#9c179e"
            ],
            [
             0.4444444444444444,
             "#bd3786"
            ],
            [
             0.5555555555555556,
             "#d8576b"
            ],
            [
             0.6666666666666666,
             "#ed7953"
            ],
            [
             0.7777777777777778,
             "#fb9f3a"
            ],
            [
             0.8888888888888888,
             "#fdca26"
            ],
            [
             1,
             "#f0f921"
            ]
           ],
           "sequentialminus": [
            [
             0,
             "#0d0887"
            ],
            [
             0.1111111111111111,
             "#46039f"
            ],
            [
             0.2222222222222222,
             "#7201a8"
            ],
            [
             0.3333333333333333,
             "#9c179e"
            ],
            [
             0.4444444444444444,
             "#bd3786"
            ],
            [
             0.5555555555555556,
             "#d8576b"
            ],
            [
             0.6666666666666666,
             "#ed7953"
            ],
            [
             0.7777777777777778,
             "#fb9f3a"
            ],
            [
             0.8888888888888888,
             "#fdca26"
            ],
            [
             1,
             "#f0f921"
            ]
           ]
          },
          "colorway": [
           "#636efa",
           "#EF553B",
           "#00cc96",
           "#ab63fa",
           "#FFA15A",
           "#19d3f3",
           "#FF6692",
           "#B6E880",
           "#FF97FF",
           "#FECB52"
          ],
          "font": {
           "color": "#2a3f5f"
          },
          "geo": {
           "bgcolor": "white",
           "lakecolor": "white",
           "landcolor": "#E5ECF6",
           "showlakes": true,
           "showland": true,
           "subunitcolor": "white"
          },
          "hoverlabel": {
           "align": "left"
          },
          "hovermode": "closest",
          "mapbox": {
           "style": "light"
          },
          "paper_bgcolor": "white",
          "plot_bgcolor": "#E5ECF6",
          "polar": {
           "angularaxis": {
            "gridcolor": "white",
            "linecolor": "white",
            "ticks": ""
           },
           "bgcolor": "#E5ECF6",
           "radialaxis": {
            "gridcolor": "white",
            "linecolor": "white",
            "ticks": ""
           }
          },
          "scene": {
           "xaxis": {
            "backgroundcolor": "#E5ECF6",
            "gridcolor": "white",
            "gridwidth": 2,
            "linecolor": "white",
            "showbackground": true,
            "ticks": "",
            "zerolinecolor": "white"
           },
           "yaxis": {
            "backgroundcolor": "#E5ECF6",
            "gridcolor": "white",
            "gridwidth": 2,
            "linecolor": "white",
            "showbackground": true,
            "ticks": "",
            "zerolinecolor": "white"
           },
           "zaxis": {
            "backgroundcolor": "#E5ECF6",
            "gridcolor": "white",
            "gridwidth": 2,
            "linecolor": "white",
            "showbackground": true,
            "ticks": "",
            "zerolinecolor": "white"
           }
          },
          "shapedefaults": {
           "line": {
            "color": "#2a3f5f"
           }
          },
          "ternary": {
           "aaxis": {
            "gridcolor": "white",
            "linecolor": "white",
            "ticks": ""
           },
           "baxis": {
            "gridcolor": "white",
            "linecolor": "white",
            "ticks": ""
           },
           "bgcolor": "#E5ECF6",
           "caxis": {
            "gridcolor": "white",
            "linecolor": "white",
            "ticks": ""
           }
          },
          "title": {
           "x": 0.05
          },
          "xaxis": {
           "automargin": true,
           "gridcolor": "white",
           "linecolor": "white",
           "ticks": "",
           "title": {
            "standoff": 15
           },
           "zerolinecolor": "white",
           "zerolinewidth": 2
          },
          "yaxis": {
           "automargin": true,
           "gridcolor": "white",
           "linecolor": "white",
           "ticks": "",
           "title": {
            "standoff": 15
           },
           "zerolinecolor": "white",
           "zerolinewidth": 2
          }
         }
        },
        "xaxis": {
         "anchor": "y",
         "constrain": "domain",
         "domain": [
          0,
          1
         ],
         "scaleanchor": "y"
        },
        "yaxis": {
         "anchor": "x",
         "autorange": "reversed",
         "constrain": "domain",
         "domain": [
          0,
          1
         ]
        }
       }
      },
      "text/html": [
       "<div>                            <div id=\"dbed63ef-9734-46ce-970e-31ed3037398a\" class=\"plotly-graph-div\" style=\"height:525px; width:100%;\"></div>            <script type=\"text/javascript\">                require([\"plotly\"], function(Plotly) {                    window.PLOTLYENV=window.PLOTLYENV || {};                                    if (document.getElementById(\"dbed63ef-9734-46ce-970e-31ed3037398a\")) {                    Plotly.newPlot(                        \"dbed63ef-9734-46ce-970e-31ed3037398a\",                        [{\"coloraxis\":\"coloraxis\",\"name\":\"0\",\"x\":[\"avg_rating\",\"n_rating\"],\"y\":[\"avg_rating\",\"n_rating\"],\"z\":[[1.0,0.20990930640053326],[0.20990930640053326,1.0]],\"type\":\"heatmap\",\"xaxis\":\"x\",\"yaxis\":\"y\",\"hovertemplate\":\"x: %{x}<br>y: %{y}<br>color: %{z}<extra></extra>\"}],                        {\"template\":{\"data\":{\"histogram2dcontour\":[{\"type\":\"histogram2dcontour\",\"colorbar\":{\"outlinewidth\":0,\"ticks\":\"\"},\"colorscale\":[[0.0,\"#0d0887\"],[0.1111111111111111,\"#46039f\"],[0.2222222222222222,\"#7201a8\"],[0.3333333333333333,\"#9c179e\"],[0.4444444444444444,\"#bd3786\"],[0.5555555555555556,\"#d8576b\"],[0.6666666666666666,\"#ed7953\"],[0.7777777777777778,\"#fb9f3a\"],[0.8888888888888888,\"#fdca26\"],[1.0,\"#f0f921\"]]}],\"choropleth\":[{\"type\":\"choropleth\",\"colorbar\":{\"outlinewidth\":0,\"ticks\":\"\"}}],\"histogram2d\":[{\"type\":\"histogram2d\",\"colorbar\":{\"outlinewidth\":0,\"ticks\":\"\"},\"colorscale\":[[0.0,\"#0d0887\"],[0.1111111111111111,\"#46039f\"],[0.2222222222222222,\"#7201a8\"],[0.3333333333333333,\"#9c179e\"],[0.4444444444444444,\"#bd3786\"],[0.5555555555555556,\"#d8576b\"],[0.6666666666666666,\"#ed7953\"],[0.7777777777777778,\"#fb9f3a\"],[0.8888888888888888,\"#fdca26\"],[1.0,\"#f0f921\"]]}],\"heatmap\":[{\"type\":\"heatmap\",\"colorbar\":{\"outlinewidth\":0,\"ticks\":\"\"},\"colorscale\":[[0.0,\"#0d0887\"],[0.1111111111111111,\"#46039f\"],[0.2222222222222222,\"#7201a8\"],[0.3333333333333333,\"#9c179e\"],[0.4444444444444444,\"#bd3786\"],[0.5555555555555556,\"#d8576b\"],[0.6666666666666666,\"#ed7953\"],[0.7777777777777778,\"#fb9f3a\"],[0.8888888888888888,\"#fdca26\"],[1.0,\"#f0f921\"]]}],\"heatmapgl\":[{\"type\":\"heatmapgl\",\"colorbar\":{\"outlinewidth\":0,\"ticks\":\"\"},\"colorscale\":[[0.0,\"#0d0887\"],[0.1111111111111111,\"#46039f\"],[0.2222222222222222,\"#7201a8\"],[0.3333333333333333,\"#9c179e\"],[0.4444444444444444,\"#bd3786\"],[0.5555555555555556,\"#d8576b\"],[0.6666666666666666,\"#ed7953\"],[0.7777777777777778,\"#fb9f3a\"],[0.8888888888888888,\"#fdca26\"],[1.0,\"#f0f921\"]]}],\"contourcarpet\":[{\"type\":\"contourcarpet\",\"colorbar\":{\"outlinewidth\":0,\"ticks\":\"\"}}],\"contour\":[{\"type\":\"contour\",\"colorbar\":{\"outlinewidth\":0,\"ticks\":\"\"},\"colorscale\":[[0.0,\"#0d0887\"],[0.1111111111111111,\"#46039f\"],[0.2222222222222222,\"#7201a8\"],[0.3333333333333333,\"#9c179e\"],[0.4444444444444444,\"#bd3786\"],[0.5555555555555556,\"#d8576b\"],[0.6666666666666666,\"#ed7953\"],[0.7777777777777778,\"#fb9f3a\"],[0.8888888888888888,\"#fdca26\"],[1.0,\"#f0f921\"]]}],\"surface\":[{\"type\":\"surface\",\"colorbar\":{\"outlinewidth\":0,\"ticks\":\"\"},\"colorscale\":[[0.0,\"#0d0887\"],[0.1111111111111111,\"#46039f\"],[0.2222222222222222,\"#7201a8\"],[0.3333333333333333,\"#9c179e\"],[0.4444444444444444,\"#bd3786\"],[0.5555555555555556,\"#d8576b\"],[0.6666666666666666,\"#ed7953\"],[0.7777777777777778,\"#fb9f3a\"],[0.8888888888888888,\"#fdca26\"],[1.0,\"#f0f921\"]]}],\"mesh3d\":[{\"type\":\"mesh3d\",\"colorbar\":{\"outlinewidth\":0,\"ticks\":\"\"}}],\"scatter\":[{\"fillpattern\":{\"fillmode\":\"overlay\",\"size\":10,\"solidity\":0.2},\"type\":\"scatter\"}],\"parcoords\":[{\"type\":\"parcoords\",\"line\":{\"colorbar\":{\"outlinewidth\":0,\"ticks\":\"\"}}}],\"scatterpolargl\":[{\"type\":\"scatterpolargl\",\"marker\":{\"colorbar\":{\"outlinewidth\":0,\"ticks\":\"\"}}}],\"bar\":[{\"error_x\":{\"color\":\"#2a3f5f\"},\"error_y\":{\"color\":\"#2a3f5f\"},\"marker\":{\"line\":{\"color\":\"#E5ECF6\",\"width\":0.5},\"pattern\":{\"fillmode\":\"overlay\",\"size\":10,\"solidity\":0.2}},\"type\":\"bar\"}],\"scattergeo\":[{\"type\":\"scattergeo\",\"marker\":{\"colorbar\":{\"outlinewidth\":0,\"ticks\":\"\"}}}],\"scatterpolar\":[{\"type\":\"scatterpolar\",\"marker\":{\"colorbar\":{\"outlinewidth\":0,\"ticks\":\"\"}}}],\"histogram\":[{\"marker\":{\"pattern\":{\"fillmode\":\"overlay\",\"size\":10,\"solidity\":0.2}},\"type\":\"histogram\"}],\"scattergl\":[{\"type\":\"scattergl\",\"marker\":{\"colorbar\":{\"outlinewidth\":0,\"ticks\":\"\"}}}],\"scatter3d\":[{\"type\":\"scatter3d\",\"line\":{\"colorbar\":{\"outlinewidth\":0,\"ticks\":\"\"}},\"marker\":{\"colorbar\":{\"outlinewidth\":0,\"ticks\":\"\"}}}],\"scattermapbox\":[{\"type\":\"scattermapbox\",\"marker\":{\"colorbar\":{\"outlinewidth\":0,\"ticks\":\"\"}}}],\"scatterternary\":[{\"type\":\"scatterternary\",\"marker\":{\"colorbar\":{\"outlinewidth\":0,\"ticks\":\"\"}}}],\"scattercarpet\":[{\"type\":\"scattercarpet\",\"marker\":{\"colorbar\":{\"outlinewidth\":0,\"ticks\":\"\"}}}],\"carpet\":[{\"aaxis\":{\"endlinecolor\":\"#2a3f5f\",\"gridcolor\":\"white\",\"linecolor\":\"white\",\"minorgridcolor\":\"white\",\"startlinecolor\":\"#2a3f5f\"},\"baxis\":{\"endlinecolor\":\"#2a3f5f\",\"gridcolor\":\"white\",\"linecolor\":\"white\",\"minorgridcolor\":\"white\",\"startlinecolor\":\"#2a3f5f\"},\"type\":\"carpet\"}],\"table\":[{\"cells\":{\"fill\":{\"color\":\"#EBF0F8\"},\"line\":{\"color\":\"white\"}},\"header\":{\"fill\":{\"color\":\"#C8D4E3\"},\"line\":{\"color\":\"white\"}},\"type\":\"table\"}],\"barpolar\":[{\"marker\":{\"line\":{\"color\":\"#E5ECF6\",\"width\":0.5},\"pattern\":{\"fillmode\":\"overlay\",\"size\":10,\"solidity\":0.2}},\"type\":\"barpolar\"}],\"pie\":[{\"automargin\":true,\"type\":\"pie\"}]},\"layout\":{\"autotypenumbers\":\"strict\",\"colorway\":[\"#636efa\",\"#EF553B\",\"#00cc96\",\"#ab63fa\",\"#FFA15A\",\"#19d3f3\",\"#FF6692\",\"#B6E880\",\"#FF97FF\",\"#FECB52\"],\"font\":{\"color\":\"#2a3f5f\"},\"hovermode\":\"closest\",\"hoverlabel\":{\"align\":\"left\"},\"paper_bgcolor\":\"white\",\"plot_bgcolor\":\"#E5ECF6\",\"polar\":{\"bgcolor\":\"#E5ECF6\",\"angularaxis\":{\"gridcolor\":\"white\",\"linecolor\":\"white\",\"ticks\":\"\"},\"radialaxis\":{\"gridcolor\":\"white\",\"linecolor\":\"white\",\"ticks\":\"\"}},\"ternary\":{\"bgcolor\":\"#E5ECF6\",\"aaxis\":{\"gridcolor\":\"white\",\"linecolor\":\"white\",\"ticks\":\"\"},\"baxis\":{\"gridcolor\":\"white\",\"linecolor\":\"white\",\"ticks\":\"\"},\"caxis\":{\"gridcolor\":\"white\",\"linecolor\":\"white\",\"ticks\":\"\"}},\"coloraxis\":{\"colorbar\":{\"outlinewidth\":0,\"ticks\":\"\"}},\"colorscale\":{\"sequential\":[[0.0,\"#0d0887\"],[0.1111111111111111,\"#46039f\"],[0.2222222222222222,\"#7201a8\"],[0.3333333333333333,\"#9c179e\"],[0.4444444444444444,\"#bd3786\"],[0.5555555555555556,\"#d8576b\"],[0.6666666666666666,\"#ed7953\"],[0.7777777777777778,\"#fb9f3a\"],[0.8888888888888888,\"#fdca26\"],[1.0,\"#f0f921\"]],\"sequentialminus\":[[0.0,\"#0d0887\"],[0.1111111111111111,\"#46039f\"],[0.2222222222222222,\"#7201a8\"],[0.3333333333333333,\"#9c179e\"],[0.4444444444444444,\"#bd3786\"],[0.5555555555555556,\"#d8576b\"],[0.6666666666666666,\"#ed7953\"],[0.7777777777777778,\"#fb9f3a\"],[0.8888888888888888,\"#fdca26\"],[1.0,\"#f0f921\"]],\"diverging\":[[0,\"#8e0152\"],[0.1,\"#c51b7d\"],[0.2,\"#de77ae\"],[0.3,\"#f1b6da\"],[0.4,\"#fde0ef\"],[0.5,\"#f7f7f7\"],[0.6,\"#e6f5d0\"],[0.7,\"#b8e186\"],[0.8,\"#7fbc41\"],[0.9,\"#4d9221\"],[1,\"#276419\"]]},\"xaxis\":{\"gridcolor\":\"white\",\"linecolor\":\"white\",\"ticks\":\"\",\"title\":{\"standoff\":15},\"zerolinecolor\":\"white\",\"automargin\":true,\"zerolinewidth\":2},\"yaxis\":{\"gridcolor\":\"white\",\"linecolor\":\"white\",\"ticks\":\"\",\"title\":{\"standoff\":15},\"zerolinecolor\":\"white\",\"automargin\":true,\"zerolinewidth\":2},\"scene\":{\"xaxis\":{\"backgroundcolor\":\"#E5ECF6\",\"gridcolor\":\"white\",\"linecolor\":\"white\",\"showbackground\":true,\"ticks\":\"\",\"zerolinecolor\":\"white\",\"gridwidth\":2},\"yaxis\":{\"backgroundcolor\":\"#E5ECF6\",\"gridcolor\":\"white\",\"linecolor\":\"white\",\"showbackground\":true,\"ticks\":\"\",\"zerolinecolor\":\"white\",\"gridwidth\":2},\"zaxis\":{\"backgroundcolor\":\"#E5ECF6\",\"gridcolor\":\"white\",\"linecolor\":\"white\",\"showbackground\":true,\"ticks\":\"\",\"zerolinecolor\":\"white\",\"gridwidth\":2}},\"shapedefaults\":{\"line\":{\"color\":\"#2a3f5f\"}},\"annotationdefaults\":{\"arrowcolor\":\"#2a3f5f\",\"arrowhead\":0,\"arrowwidth\":1},\"geo\":{\"bgcolor\":\"white\",\"landcolor\":\"#E5ECF6\",\"subunitcolor\":\"white\",\"showland\":true,\"showlakes\":true,\"lakecolor\":\"white\"},\"title\":{\"x\":0.05},\"mapbox\":{\"style\":\"light\"}}},\"xaxis\":{\"anchor\":\"y\",\"domain\":[0.0,1.0],\"scaleanchor\":\"y\",\"constrain\":\"domain\"},\"yaxis\":{\"anchor\":\"x\",\"domain\":[0.0,1.0],\"autorange\":\"reversed\",\"constrain\":\"domain\"},\"coloraxis\":{\"colorscale\":[[0.0,\"#0d0887\"],[0.1111111111111111,\"#46039f\"],[0.2222222222222222,\"#7201a8\"],[0.3333333333333333,\"#9c179e\"],[0.4444444444444444,\"#bd3786\"],[0.5555555555555556,\"#d8576b\"],[0.6666666666666666,\"#ed7953\"],[0.7777777777777778,\"#fb9f3a\"],[0.8888888888888888,\"#fdca26\"],[1.0,\"#f0f921\"]]},\"margin\":{\"t\":60}},                        {\"responsive\": true}                    ).then(function(){\n",
       "                            \n",
       "var gd = document.getElementById('dbed63ef-9734-46ce-970e-31ed3037398a');\n",
       "var x = new MutationObserver(function (mutations, observer) {{\n",
       "        var display = window.getComputedStyle(gd).display;\n",
       "        if (!display || display === 'none') {{\n",
       "            console.log([gd, 'removed!']);\n",
       "            Plotly.purge(gd);\n",
       "            observer.disconnect();\n",
       "        }}\n",
       "}});\n",
       "\n",
       "// Listen for the removal of the full notebook cells\n",
       "var notebookContainer = gd.closest('#notebook-container');\n",
       "if (notebookContainer) {{\n",
       "    x.observe(notebookContainer, {childList: true});\n",
       "}}\n",
       "\n",
       "// Listen for the clearing of the current output cell\n",
       "var outputEl = gd.closest('.output');\n",
       "if (outputEl) {{\n",
       "    x.observe(outputEl, {childList: true});\n",
       "}}\n",
       "\n",
       "                        })                };                });            </script>        </div>"
      ]
     },
     "metadata": {},
     "output_type": "display_data"
    }
   ],
   "source": [
    "fig = px.imshow(df_avg.corr())\n",
    "\n",
    "fig.show()"
   ]
  },
  {
   "cell_type": "markdown",
   "id": "16ab6d36",
   "metadata": {},
   "source": [
    "## How does cocoa content relate to rating? What is the average cocoa content for bars with higher ratings (above 3.5)?\n",
    "\n",
    "Ratings 3.5, or above, will be analyzed as this rating falls within the _3.5-3.9 Highly Recommended_ range established earlier. As stated earlier in the analysis, _the highest single rating within the data set is 4.0_.\n",
    "\n",
    "**Average cocoa content for these bars was 71.108%; over 46% of the bars have a cocoa content of 70%**"
   ]
  },
  {
   "cell_type": "code",
   "execution_count": 30,
   "id": "dc514354",
   "metadata": {},
   "outputs": [
    {
     "name": "stdout",
     "output_type": "stream",
     "text": [
      "Average cocoa percentage: 71.108\n"
     ]
    }
   ],
   "source": [
    "high_rating = df[df['rating'] >= 3.5]\n",
    "print('Average cocoa percentage: {}'.format(round(high_rating.cocoa_percent.mean(), 3)))"
   ]
  },
  {
   "cell_type": "code",
   "execution_count": 17,
   "id": "cc75fe9b",
   "metadata": {},
   "outputs": [
    {
     "data": {
      "text/plain": [
       "70.0    0.474923\n",
       "Name: cocoa_percent, dtype: float64"
      ]
     },
     "execution_count": 17,
     "metadata": {},
     "output_type": "execute_result"
    }
   ],
   "source": [
    "high_rating.cocoa_percent.value_counts(normalize=True).head(1)"
   ]
  },
  {
   "cell_type": "code",
   "execution_count": 18,
   "id": "74d2d5eb",
   "metadata": {},
   "outputs": [
    {
     "data": {
      "application/vnd.plotly.v1+json": {
       "config": {
        "plotlyServerURL": "https://plot.ly"
       },
       "data": [
        {
         "alignmentgroup": "True",
         "bingroup": "x",
         "hovertemplate": "cocoa_percent=%{x}<br>count=%{y}<extra></extra>",
         "legendgroup": "",
         "marker": {
          "color": "#636efa",
          "pattern": {
           "shape": ""
          }
         },
         "name": "",
         "nbinsx": 20,
         "offsetgroup": "",
         "orientation": "v",
         "showlegend": false,
         "type": "histogram",
         "x": [
          76,
          76,
          68,
          70,
          63,
          70,
          70,
          70,
          63,
          70,
          70,
          70,
          70,
          70,
          70,
          63,
          70,
          63,
          70,
          70,
          70,
          70,
          88,
          72,
          75,
          75,
          70,
          70,
          70,
          70,
          70,
          70,
          70,
          70,
          70,
          70,
          73,
          68,
          66,
          70,
          70,
          63,
          70,
          70,
          75,
          50,
          75,
          60,
          75,
          70,
          68,
          70,
          75,
          70,
          70,
          70,
          70,
          73,
          70,
          70,
          70,
          70,
          70,
          70,
          70,
          70,
          70,
          73,
          70,
          70,
          70,
          70,
          70,
          70,
          72,
          72,
          72,
          72,
          72,
          72,
          77,
          72,
          70,
          68,
          70,
          70,
          70,
          70,
          70,
          70,
          70,
          72,
          80,
          65,
          70,
          71,
          70,
          70,
          70,
          83,
          72,
          72,
          74,
          74,
          74,
          73,
          64,
          72,
          72,
          72,
          70,
          75,
          68,
          65,
          65,
          70,
          72,
          70,
          82,
          70,
          70,
          82,
          75,
          75,
          75,
          75,
          75,
          75,
          75,
          75,
          75,
          75,
          75,
          75,
          75,
          75,
          75,
          65,
          75,
          75,
          75,
          75,
          75,
          75,
          70,
          70,
          75,
          85,
          70,
          70,
          68,
          70,
          70,
          75,
          70,
          70,
          72,
          72,
          70,
          70,
          70,
          65,
          72,
          75,
          70,
          77,
          64,
          70,
          72,
          71,
          74,
          70,
          66,
          72,
          70,
          70,
          71,
          71,
          77,
          71,
          71,
          70,
          70,
          70,
          70,
          70,
          80,
          70,
          63,
          71,
          100,
          70,
          70,
          70,
          55,
          70,
          70,
          72,
          72,
          65,
          65,
          73,
          72,
          76,
          72,
          72,
          70,
          72,
          70,
          70,
          70,
          72,
          68,
          70,
          72,
          70,
          70,
          70,
          68,
          68,
          80,
          70,
          69,
          80,
          70,
          71,
          71,
          70,
          75,
          70,
          67,
          75,
          75,
          75,
          73,
          72,
          72,
          70,
          68,
          75,
          73.5,
          70,
          79,
          73,
          70,
          70,
          76,
          75,
          70,
          70,
          85,
          70,
          72,
          75,
          75,
          73,
          70,
          70,
          70,
          75,
          70,
          73,
          70,
          72,
          70,
          70,
          70,
          70,
          70,
          70,
          70,
          70,
          70,
          70,
          70,
          70,
          60,
          70,
          70,
          70,
          72,
          65,
          66,
          77,
          77,
          76,
          74,
          70,
          78,
          70,
          75,
          72,
          80,
          72,
          72,
          73,
          75,
          72,
          72,
          70,
          70,
          70,
          70,
          70,
          70,
          70,
          70,
          78,
          70,
          70,
          70,
          70,
          70,
          70,
          70,
          72,
          80,
          70,
          72,
          70,
          65,
          71,
          72,
          72,
          70,
          76,
          70,
          70,
          70,
          70,
          70,
          70,
          70,
          70,
          70,
          80,
          75,
          70,
          70,
          78,
          70,
          70,
          70,
          72,
          81,
          70,
          80,
          80,
          80,
          72,
          68,
          58,
          72,
          69,
          72,
          75,
          68,
          70,
          75,
          67,
          68,
          70,
          72,
          72,
          70,
          70,
          60,
          70,
          70,
          70,
          72,
          60,
          65,
          70,
          75,
          70,
          65,
          66,
          66,
          73,
          70,
          65,
          72,
          70,
          70,
          69,
          69,
          74,
          69,
          72,
          70,
          70,
          70,
          70,
          70,
          70,
          70,
          70,
          72,
          68,
          70,
          70,
          70,
          68,
          70,
          70,
          70,
          70,
          70,
          70,
          70,
          68,
          70,
          70,
          70,
          70,
          70,
          70,
          70,
          70,
          70,
          70,
          70,
          70,
          70,
          74,
          74,
          85,
          74,
          68,
          72,
          70,
          70,
          80,
          75,
          70,
          77,
          75,
          70,
          70,
          72,
          70,
          75,
          73,
          70,
          65,
          65,
          61,
          72,
          65,
          70,
          65,
          70,
          70,
          77,
          74,
          70,
          70,
          74,
          67,
          67,
          67,
          72,
          70,
          77,
          68,
          72,
          74,
          71,
          66,
          85,
          58,
          70,
          75,
          70,
          70,
          70,
          70,
          70,
          66,
          80,
          82,
          70,
          70,
          70,
          70,
          72,
          72,
          72,
          72,
          74,
          70,
          72,
          72,
          72,
          72,
          70,
          72,
          65,
          70,
          68,
          78,
          70,
          70,
          70,
          70,
          68,
          70,
          67,
          71.5,
          68,
          65,
          65,
          70,
          70,
          70,
          70,
          70,
          70,
          64,
          74,
          74,
          68,
          70,
          70,
          70,
          72,
          74,
          69,
          60,
          68,
          66,
          70,
          70,
          75,
          75,
          70,
          80,
          73,
          74,
          70,
          70,
          70,
          70,
          70,
          70,
          70,
          70,
          70,
          71,
          65,
          68,
          68,
          68,
          70,
          70,
          75,
          78,
          65,
          67,
          67,
          75,
          70,
          63,
          70,
          70,
          73,
          70,
          73,
          65,
          55,
          74,
          72,
          72,
          72,
          70,
          70,
          85,
          70,
          70,
          70,
          70,
          62,
          70,
          70,
          68,
          78,
          72,
          70,
          76,
          72,
          70,
          78,
          74,
          75,
          68,
          70,
          75,
          65,
          72,
          70,
          74,
          73,
          75,
          72,
          70,
          68,
          74,
          70,
          63,
          70,
          70,
          80,
          72,
          67,
          70,
          70,
          67,
          65,
          64,
          66,
          67,
          66,
          70,
          80,
          70,
          70,
          75,
          75,
          70,
          70,
          70,
          70,
          70,
          65,
          65,
          72,
          70,
          70,
          75,
          70,
          72,
          72,
          76,
          72,
          75,
          63,
          85,
          70,
          80,
          70,
          70,
          78,
          85,
          70,
          67,
          75,
          72,
          70,
          70,
          70,
          70,
          70,
          70,
          70,
          75,
          74,
          70,
          70,
          70,
          70,
          70,
          70,
          78,
          66,
          70,
          70,
          75,
          66,
          70,
          70,
          70,
          70,
          70,
          70,
          70,
          70,
          72,
          75,
          78,
          70,
          72,
          72,
          70,
          70,
          71,
          65,
          70,
          70,
          70,
          67,
          70,
          75,
          70,
          67,
          72,
          72,
          85,
          72,
          70,
          72,
          78,
          72,
          70,
          73,
          73,
          82,
          70,
          70,
          70,
          70,
          70,
          75,
          70,
          75,
          75,
          80,
          75,
          75,
          75,
          75,
          75,
          75,
          70,
          74,
          77,
          75,
          75,
          66,
          65,
          85,
          70,
          70,
          70,
          70,
          85,
          70,
          73,
          72,
          72,
          72,
          72,
          72,
          72,
          67,
          75,
          75,
          75,
          75,
          75,
          85,
          70,
          75,
          75,
          70,
          80,
          75,
          66,
          70,
          75,
          75,
          70,
          70,
          75,
          75,
          80,
          70,
          75,
          73,
          70,
          73,
          72,
          70,
          72,
          64,
          72,
          72,
          70,
          70,
          70,
          70,
          70,
          70,
          75,
          68,
          72,
          65,
          68,
          65,
          68,
          78,
          70,
          70,
          70,
          70,
          70,
          73,
          74,
          75,
          70,
          67,
          73,
          73,
          73,
          73,
          73,
          73,
          70,
          65,
          67,
          70,
          70,
          72,
          70,
          70,
          67,
          70,
          70,
          70,
          70,
          70,
          70,
          70,
          70,
          70,
          70,
          70,
          70,
          70,
          70,
          70,
          64,
          70,
          70,
          85,
          70,
          70,
          70,
          70,
          77,
          70,
          70,
          88,
          70,
          67,
          70,
          70,
          80,
          70,
          70,
          70,
          75,
          62,
          70,
          70,
          70,
          75,
          70,
          70,
          70,
          70,
          70,
          70,
          70,
          70,
          70,
          75,
          80,
          70,
          70,
          70,
          70,
          70,
          70,
          70,
          84,
          70,
          77,
          80,
          70,
          70,
          70,
          70,
          70,
          70,
          70,
          75,
          70,
          70,
          67,
          73,
          70,
          70,
          70,
          70,
          65,
          70,
          72,
          70,
          70,
          70,
          70,
          70,
          72,
          75,
          75,
          63,
          70,
          70,
          74,
          64,
          70,
          65,
          64,
          68,
          64,
          66,
          64,
          69,
          70,
          64,
          63,
          90,
          75,
          75,
          70,
          75,
          70,
          70,
          70,
          74,
          72,
          74,
          72,
          72,
          69,
          70,
          76,
          75,
          70,
          70,
          70,
          70,
          70,
          70,
          72,
          70,
          70,
          70,
          70,
          70,
          78,
          68,
          66,
          72,
          78,
          70,
          65,
          70,
          72,
          65,
          70,
          58,
          62,
          70,
          75,
          72
         ],
         "xaxis": "x",
         "yaxis": "y"
        }
       ],
       "layout": {
        "barmode": "relative",
        "legend": {
         "tracegroupgap": 0
        },
        "template": {
         "data": {
          "bar": [
           {
            "error_x": {
             "color": "#2a3f5f"
            },
            "error_y": {
             "color": "#2a3f5f"
            },
            "marker": {
             "line": {
              "color": "#E5ECF6",
              "width": 0.5
             },
             "pattern": {
              "fillmode": "overlay",
              "size": 10,
              "solidity": 0.2
             }
            },
            "type": "bar"
           }
          ],
          "barpolar": [
           {
            "marker": {
             "line": {
              "color": "#E5ECF6",
              "width": 0.5
             },
             "pattern": {
              "fillmode": "overlay",
              "size": 10,
              "solidity": 0.2
             }
            },
            "type": "barpolar"
           }
          ],
          "carpet": [
           {
            "aaxis": {
             "endlinecolor": "#2a3f5f",
             "gridcolor": "white",
             "linecolor": "white",
             "minorgridcolor": "white",
             "startlinecolor": "#2a3f5f"
            },
            "baxis": {
             "endlinecolor": "#2a3f5f",
             "gridcolor": "white",
             "linecolor": "white",
             "minorgridcolor": "white",
             "startlinecolor": "#2a3f5f"
            },
            "type": "carpet"
           }
          ],
          "choropleth": [
           {
            "colorbar": {
             "outlinewidth": 0,
             "ticks": ""
            },
            "type": "choropleth"
           }
          ],
          "contour": [
           {
            "colorbar": {
             "outlinewidth": 0,
             "ticks": ""
            },
            "colorscale": [
             [
              0,
              "#0d0887"
             ],
             [
              0.1111111111111111,
              "#46039f"
             ],
             [
              0.2222222222222222,
              "#7201a8"
             ],
             [
              0.3333333333333333,
              "#9c179e"
             ],
             [
              0.4444444444444444,
              "#bd3786"
             ],
             [
              0.5555555555555556,
              "#d8576b"
             ],
             [
              0.6666666666666666,
              "#ed7953"
             ],
             [
              0.7777777777777778,
              "#fb9f3a"
             ],
             [
              0.8888888888888888,
              "#fdca26"
             ],
             [
              1,
              "#f0f921"
             ]
            ],
            "type": "contour"
           }
          ],
          "contourcarpet": [
           {
            "colorbar": {
             "outlinewidth": 0,
             "ticks": ""
            },
            "type": "contourcarpet"
           }
          ],
          "heatmap": [
           {
            "colorbar": {
             "outlinewidth": 0,
             "ticks": ""
            },
            "colorscale": [
             [
              0,
              "#0d0887"
             ],
             [
              0.1111111111111111,
              "#46039f"
             ],
             [
              0.2222222222222222,
              "#7201a8"
             ],
             [
              0.3333333333333333,
              "#9c179e"
             ],
             [
              0.4444444444444444,
              "#bd3786"
             ],
             [
              0.5555555555555556,
              "#d8576b"
             ],
             [
              0.6666666666666666,
              "#ed7953"
             ],
             [
              0.7777777777777778,
              "#fb9f3a"
             ],
             [
              0.8888888888888888,
              "#fdca26"
             ],
             [
              1,
              "#f0f921"
             ]
            ],
            "type": "heatmap"
           }
          ],
          "heatmapgl": [
           {
            "colorbar": {
             "outlinewidth": 0,
             "ticks": ""
            },
            "colorscale": [
             [
              0,
              "#0d0887"
             ],
             [
              0.1111111111111111,
              "#46039f"
             ],
             [
              0.2222222222222222,
              "#7201a8"
             ],
             [
              0.3333333333333333,
              "#9c179e"
             ],
             [
              0.4444444444444444,
              "#bd3786"
             ],
             [
              0.5555555555555556,
              "#d8576b"
             ],
             [
              0.6666666666666666,
              "#ed7953"
             ],
             [
              0.7777777777777778,
              "#fb9f3a"
             ],
             [
              0.8888888888888888,
              "#fdca26"
             ],
             [
              1,
              "#f0f921"
             ]
            ],
            "type": "heatmapgl"
           }
          ],
          "histogram": [
           {
            "marker": {
             "pattern": {
              "fillmode": "overlay",
              "size": 10,
              "solidity": 0.2
             }
            },
            "type": "histogram"
           }
          ],
          "histogram2d": [
           {
            "colorbar": {
             "outlinewidth": 0,
             "ticks": ""
            },
            "colorscale": [
             [
              0,
              "#0d0887"
             ],
             [
              0.1111111111111111,
              "#46039f"
             ],
             [
              0.2222222222222222,
              "#7201a8"
             ],
             [
              0.3333333333333333,
              "#9c179e"
             ],
             [
              0.4444444444444444,
              "#bd3786"
             ],
             [
              0.5555555555555556,
              "#d8576b"
             ],
             [
              0.6666666666666666,
              "#ed7953"
             ],
             [
              0.7777777777777778,
              "#fb9f3a"
             ],
             [
              0.8888888888888888,
              "#fdca26"
             ],
             [
              1,
              "#f0f921"
             ]
            ],
            "type": "histogram2d"
           }
          ],
          "histogram2dcontour": [
           {
            "colorbar": {
             "outlinewidth": 0,
             "ticks": ""
            },
            "colorscale": [
             [
              0,
              "#0d0887"
             ],
             [
              0.1111111111111111,
              "#46039f"
             ],
             [
              0.2222222222222222,
              "#7201a8"
             ],
             [
              0.3333333333333333,
              "#9c179e"
             ],
             [
              0.4444444444444444,
              "#bd3786"
             ],
             [
              0.5555555555555556,
              "#d8576b"
             ],
             [
              0.6666666666666666,
              "#ed7953"
             ],
             [
              0.7777777777777778,
              "#fb9f3a"
             ],
             [
              0.8888888888888888,
              "#fdca26"
             ],
             [
              1,
              "#f0f921"
             ]
            ],
            "type": "histogram2dcontour"
           }
          ],
          "mesh3d": [
           {
            "colorbar": {
             "outlinewidth": 0,
             "ticks": ""
            },
            "type": "mesh3d"
           }
          ],
          "parcoords": [
           {
            "line": {
             "colorbar": {
              "outlinewidth": 0,
              "ticks": ""
             }
            },
            "type": "parcoords"
           }
          ],
          "pie": [
           {
            "automargin": true,
            "type": "pie"
           }
          ],
          "scatter": [
           {
            "fillpattern": {
             "fillmode": "overlay",
             "size": 10,
             "solidity": 0.2
            },
            "type": "scatter"
           }
          ],
          "scatter3d": [
           {
            "line": {
             "colorbar": {
              "outlinewidth": 0,
              "ticks": ""
             }
            },
            "marker": {
             "colorbar": {
              "outlinewidth": 0,
              "ticks": ""
             }
            },
            "type": "scatter3d"
           }
          ],
          "scattercarpet": [
           {
            "marker": {
             "colorbar": {
              "outlinewidth": 0,
              "ticks": ""
             }
            },
            "type": "scattercarpet"
           }
          ],
          "scattergeo": [
           {
            "marker": {
             "colorbar": {
              "outlinewidth": 0,
              "ticks": ""
             }
            },
            "type": "scattergeo"
           }
          ],
          "scattergl": [
           {
            "marker": {
             "colorbar": {
              "outlinewidth": 0,
              "ticks": ""
             }
            },
            "type": "scattergl"
           }
          ],
          "scattermapbox": [
           {
            "marker": {
             "colorbar": {
              "outlinewidth": 0,
              "ticks": ""
             }
            },
            "type": "scattermapbox"
           }
          ],
          "scatterpolar": [
           {
            "marker": {
             "colorbar": {
              "outlinewidth": 0,
              "ticks": ""
             }
            },
            "type": "scatterpolar"
           }
          ],
          "scatterpolargl": [
           {
            "marker": {
             "colorbar": {
              "outlinewidth": 0,
              "ticks": ""
             }
            },
            "type": "scatterpolargl"
           }
          ],
          "scatterternary": [
           {
            "marker": {
             "colorbar": {
              "outlinewidth": 0,
              "ticks": ""
             }
            },
            "type": "scatterternary"
           }
          ],
          "surface": [
           {
            "colorbar": {
             "outlinewidth": 0,
             "ticks": ""
            },
            "colorscale": [
             [
              0,
              "#0d0887"
             ],
             [
              0.1111111111111111,
              "#46039f"
             ],
             [
              0.2222222222222222,
              "#7201a8"
             ],
             [
              0.3333333333333333,
              "#9c179e"
             ],
             [
              0.4444444444444444,
              "#bd3786"
             ],
             [
              0.5555555555555556,
              "#d8576b"
             ],
             [
              0.6666666666666666,
              "#ed7953"
             ],
             [
              0.7777777777777778,
              "#fb9f3a"
             ],
             [
              0.8888888888888888,
              "#fdca26"
             ],
             [
              1,
              "#f0f921"
             ]
            ],
            "type": "surface"
           }
          ],
          "table": [
           {
            "cells": {
             "fill": {
              "color": "#EBF0F8"
             },
             "line": {
              "color": "white"
             }
            },
            "header": {
             "fill": {
              "color": "#C8D4E3"
             },
             "line": {
              "color": "white"
             }
            },
            "type": "table"
           }
          ]
         },
         "layout": {
          "annotationdefaults": {
           "arrowcolor": "#2a3f5f",
           "arrowhead": 0,
           "arrowwidth": 1
          },
          "autotypenumbers": "strict",
          "coloraxis": {
           "colorbar": {
            "outlinewidth": 0,
            "ticks": ""
           }
          },
          "colorscale": {
           "diverging": [
            [
             0,
             "#8e0152"
            ],
            [
             0.1,
             "#c51b7d"
            ],
            [
             0.2,
             "#de77ae"
            ],
            [
             0.3,
             "#f1b6da"
            ],
            [
             0.4,
             "#fde0ef"
            ],
            [
             0.5,
             "#f7f7f7"
            ],
            [
             0.6,
             "#e6f5d0"
            ],
            [
             0.7,
             "#b8e186"
            ],
            [
             0.8,
             "#7fbc41"
            ],
            [
             0.9,
             "#4d9221"
            ],
            [
             1,
             "#276419"
            ]
           ],
           "sequential": [
            [
             0,
             "#0d0887"
            ],
            [
             0.1111111111111111,
             "#46039f"
            ],
            [
             0.2222222222222222,
             "#7201a8"
            ],
            [
             0.3333333333333333,
             "#9c179e"
            ],
            [
             0.4444444444444444,
             "#bd3786"
            ],
            [
             0.5555555555555556,
             "#d8576b"
            ],
            [
             0.6666666666666666,
             "#ed7953"
            ],
            [
             0.7777777777777778,
             "#fb9f3a"
            ],
            [
             0.8888888888888888,
             "#fdca26"
            ],
            [
             1,
             "#f0f921"
            ]
           ],
           "sequentialminus": [
            [
             0,
             "#0d0887"
            ],
            [
             0.1111111111111111,
             "#46039f"
            ],
            [
             0.2222222222222222,
             "#7201a8"
            ],
            [
             0.3333333333333333,
             "#9c179e"
            ],
            [
             0.4444444444444444,
             "#bd3786"
            ],
            [
             0.5555555555555556,
             "#d8576b"
            ],
            [
             0.6666666666666666,
             "#ed7953"
            ],
            [
             0.7777777777777778,
             "#fb9f3a"
            ],
            [
             0.8888888888888888,
             "#fdca26"
            ],
            [
             1,
             "#f0f921"
            ]
           ]
          },
          "colorway": [
           "#636efa",
           "#EF553B",
           "#00cc96",
           "#ab63fa",
           "#FFA15A",
           "#19d3f3",
           "#FF6692",
           "#B6E880",
           "#FF97FF",
           "#FECB52"
          ],
          "font": {
           "color": "#2a3f5f"
          },
          "geo": {
           "bgcolor": "white",
           "lakecolor": "white",
           "landcolor": "#E5ECF6",
           "showlakes": true,
           "showland": true,
           "subunitcolor": "white"
          },
          "hoverlabel": {
           "align": "left"
          },
          "hovermode": "closest",
          "mapbox": {
           "style": "light"
          },
          "paper_bgcolor": "white",
          "plot_bgcolor": "#E5ECF6",
          "polar": {
           "angularaxis": {
            "gridcolor": "white",
            "linecolor": "white",
            "ticks": ""
           },
           "bgcolor": "#E5ECF6",
           "radialaxis": {
            "gridcolor": "white",
            "linecolor": "white",
            "ticks": ""
           }
          },
          "scene": {
           "xaxis": {
            "backgroundcolor": "#E5ECF6",
            "gridcolor": "white",
            "gridwidth": 2,
            "linecolor": "white",
            "showbackground": true,
            "ticks": "",
            "zerolinecolor": "white"
           },
           "yaxis": {
            "backgroundcolor": "#E5ECF6",
            "gridcolor": "white",
            "gridwidth": 2,
            "linecolor": "white",
            "showbackground": true,
            "ticks": "",
            "zerolinecolor": "white"
           },
           "zaxis": {
            "backgroundcolor": "#E5ECF6",
            "gridcolor": "white",
            "gridwidth": 2,
            "linecolor": "white",
            "showbackground": true,
            "ticks": "",
            "zerolinecolor": "white"
           }
          },
          "shapedefaults": {
           "line": {
            "color": "#2a3f5f"
           }
          },
          "ternary": {
           "aaxis": {
            "gridcolor": "white",
            "linecolor": "white",
            "ticks": ""
           },
           "baxis": {
            "gridcolor": "white",
            "linecolor": "white",
            "ticks": ""
           },
           "bgcolor": "#E5ECF6",
           "caxis": {
            "gridcolor": "white",
            "linecolor": "white",
            "ticks": ""
           }
          },
          "title": {
           "x": 0.05
          },
          "xaxis": {
           "automargin": true,
           "gridcolor": "white",
           "linecolor": "white",
           "ticks": "",
           "title": {
            "standoff": 15
           },
           "zerolinecolor": "white",
           "zerolinewidth": 2
          },
          "yaxis": {
           "automargin": true,
           "gridcolor": "white",
           "linecolor": "white",
           "ticks": "",
           "title": {
            "standoff": 15
           },
           "zerolinecolor": "white",
           "zerolinewidth": 2
          }
         }
        },
        "title": {
         "text": "Distribution of cocoa percentage for \"Highly Recommended\" bars"
        },
        "xaxis": {
         "anchor": "y",
         "domain": [
          0,
          1
         ],
         "title": {
          "text": "cocoa percentage"
         }
        },
        "yaxis": {
         "anchor": "x",
         "domain": [
          0,
          1
         ],
         "title": {
          "text": "number of chocolate bars"
         }
        }
       }
      },
      "text/html": [
       "<div>                            <div id=\"9cb28449-1002-4dd4-ac4b-ead79350ef62\" class=\"plotly-graph-div\" style=\"height:525px; width:100%;\"></div>            <script type=\"text/javascript\">                require([\"plotly\"], function(Plotly) {                    window.PLOTLYENV=window.PLOTLYENV || {};                                    if (document.getElementById(\"9cb28449-1002-4dd4-ac4b-ead79350ef62\")) {                    Plotly.newPlot(                        \"9cb28449-1002-4dd4-ac4b-ead79350ef62\",                        [{\"alignmentgroup\":\"True\",\"bingroup\":\"x\",\"hovertemplate\":\"cocoa_percent=%{x}<br>count=%{y}<extra></extra>\",\"legendgroup\":\"\",\"marker\":{\"color\":\"#636efa\",\"pattern\":{\"shape\":\"\"}},\"name\":\"\",\"nbinsx\":20,\"offsetgroup\":\"\",\"orientation\":\"v\",\"showlegend\":false,\"x\":[76.0,76.0,68.0,70.0,63.0,70.0,70.0,70.0,63.0,70.0,70.0,70.0,70.0,70.0,70.0,63.0,70.0,63.0,70.0,70.0,70.0,70.0,88.0,72.0,75.0,75.0,70.0,70.0,70.0,70.0,70.0,70.0,70.0,70.0,70.0,70.0,73.0,68.0,66.0,70.0,70.0,63.0,70.0,70.0,75.0,50.0,75.0,60.0,75.0,70.0,68.0,70.0,75.0,70.0,70.0,70.0,70.0,73.0,70.0,70.0,70.0,70.0,70.0,70.0,70.0,70.0,70.0,73.0,70.0,70.0,70.0,70.0,70.0,70.0,72.0,72.0,72.0,72.0,72.0,72.0,77.0,72.0,70.0,68.0,70.0,70.0,70.0,70.0,70.0,70.0,70.0,72.0,80.0,65.0,70.0,71.0,70.0,70.0,70.0,83.0,72.0,72.0,74.0,74.0,74.0,73.0,64.0,72.0,72.0,72.0,70.0,75.0,68.0,65.0,65.0,70.0,72.0,70.0,82.0,70.0,70.0,82.0,75.0,75.0,75.0,75.0,75.0,75.0,75.0,75.0,75.0,75.0,75.0,75.0,75.0,75.0,75.0,65.0,75.0,75.0,75.0,75.0,75.0,75.0,70.0,70.0,75.0,85.0,70.0,70.0,68.0,70.0,70.0,75.0,70.0,70.0,72.0,72.0,70.0,70.0,70.0,65.0,72.0,75.0,70.0,77.0,64.0,70.0,72.0,71.0,74.0,70.0,66.0,72.0,70.0,70.0,71.0,71.0,77.0,71.0,71.0,70.0,70.0,70.0,70.0,70.0,80.0,70.0,63.0,71.0,100.0,70.0,70.0,70.0,55.0,70.0,70.0,72.0,72.0,65.0,65.0,73.0,72.0,76.0,72.0,72.0,70.0,72.0,70.0,70.0,70.0,72.0,68.0,70.0,72.0,70.0,70.0,70.0,68.0,68.0,80.0,70.0,69.0,80.0,70.0,71.0,71.0,70.0,75.0,70.0,67.0,75.0,75.0,75.0,73.0,72.0,72.0,70.0,68.0,75.0,73.5,70.0,79.0,73.0,70.0,70.0,76.0,75.0,70.0,70.0,85.0,70.0,72.0,75.0,75.0,73.0,70.0,70.0,70.0,75.0,70.0,73.0,70.0,72.0,70.0,70.0,70.0,70.0,70.0,70.0,70.0,70.0,70.0,70.0,70.0,70.0,60.0,70.0,70.0,70.0,72.0,65.0,66.0,77.0,77.0,76.0,74.0,70.0,78.0,70.0,75.0,72.0,80.0,72.0,72.0,73.0,75.0,72.0,72.0,70.0,70.0,70.0,70.0,70.0,70.0,70.0,70.0,78.0,70.0,70.0,70.0,70.0,70.0,70.0,70.0,72.0,80.0,70.0,72.0,70.0,65.0,71.0,72.0,72.0,70.0,76.0,70.0,70.0,70.0,70.0,70.0,70.0,70.0,70.0,70.0,80.0,75.0,70.0,70.0,78.0,70.0,70.0,70.0,72.0,81.0,70.0,80.0,80.0,80.0,72.0,68.0,58.0,72.0,69.0,72.0,75.0,68.0,70.0,75.0,67.0,68.0,70.0,72.0,72.0,70.0,70.0,60.0,70.0,70.0,70.0,72.0,60.0,65.0,70.0,75.0,70.0,65.0,66.0,66.0,73.0,70.0,65.0,72.0,70.0,70.0,69.0,69.0,74.0,69.0,72.0,70.0,70.0,70.0,70.0,70.0,70.0,70.0,70.0,72.0,68.0,70.0,70.0,70.0,68.0,70.0,70.0,70.0,70.0,70.0,70.0,70.0,68.0,70.0,70.0,70.0,70.0,70.0,70.0,70.0,70.0,70.0,70.0,70.0,70.0,70.0,74.0,74.0,85.0,74.0,68.0,72.0,70.0,70.0,80.0,75.0,70.0,77.0,75.0,70.0,70.0,72.0,70.0,75.0,73.0,70.0,65.0,65.0,61.0,72.0,65.0,70.0,65.0,70.0,70.0,77.0,74.0,70.0,70.0,74.0,67.0,67.0,67.0,72.0,70.0,77.0,68.0,72.0,74.0,71.0,66.0,85.0,58.0,70.0,75.0,70.0,70.0,70.0,70.0,70.0,66.0,80.0,82.0,70.0,70.0,70.0,70.0,72.0,72.0,72.0,72.0,74.0,70.0,72.0,72.0,72.0,72.0,70.0,72.0,65.0,70.0,68.0,78.0,70.0,70.0,70.0,70.0,68.0,70.0,67.0,71.5,68.0,65.0,65.0,70.0,70.0,70.0,70.0,70.0,70.0,64.0,74.0,74.0,68.0,70.0,70.0,70.0,72.0,74.0,69.0,60.0,68.0,66.0,70.0,70.0,75.0,75.0,70.0,80.0,73.0,74.0,70.0,70.0,70.0,70.0,70.0,70.0,70.0,70.0,70.0,71.0,65.0,68.0,68.0,68.0,70.0,70.0,75.0,78.0,65.0,67.0,67.0,75.0,70.0,63.0,70.0,70.0,73.0,70.0,73.0,65.0,55.0,74.0,72.0,72.0,72.0,70.0,70.0,85.0,70.0,70.0,70.0,70.0,62.0,70.0,70.0,68.0,78.0,72.0,70.0,76.0,72.0,70.0,78.0,74.0,75.0,68.0,70.0,75.0,65.0,72.0,70.0,74.0,73.0,75.0,72.0,70.0,68.0,74.0,70.0,63.0,70.0,70.0,80.0,72.0,67.0,70.0,70.0,67.0,65.0,64.0,66.0,67.0,66.0,70.0,80.0,70.0,70.0,75.0,75.0,70.0,70.0,70.0,70.0,70.0,65.0,65.0,72.0,70.0,70.0,75.0,70.0,72.0,72.0,76.0,72.0,75.0,63.0,85.0,70.0,80.0,70.0,70.0,78.0,85.0,70.0,67.0,75.0,72.0,70.0,70.0,70.0,70.0,70.0,70.0,70.0,75.0,74.0,70.0,70.0,70.0,70.0,70.0,70.0,78.0,66.0,70.0,70.0,75.0,66.0,70.0,70.0,70.0,70.0,70.0,70.0,70.0,70.0,72.0,75.0,78.0,70.0,72.0,72.0,70.0,70.0,71.0,65.0,70.0,70.0,70.0,67.0,70.0,75.0,70.0,67.0,72.0,72.0,85.0,72.0,70.0,72.0,78.0,72.0,70.0,73.0,73.0,82.0,70.0,70.0,70.0,70.0,70.0,75.0,70.0,75.0,75.0,80.0,75.0,75.0,75.0,75.0,75.0,75.0,70.0,74.0,77.0,75.0,75.0,66.0,65.0,85.0,70.0,70.0,70.0,70.0,85.0,70.0,73.0,72.0,72.0,72.0,72.0,72.0,72.0,67.0,75.0,75.0,75.0,75.0,75.0,85.0,70.0,75.0,75.0,70.0,80.0,75.0,66.0,70.0,75.0,75.0,70.0,70.0,75.0,75.0,80.0,70.0,75.0,73.0,70.0,73.0,72.0,70.0,72.0,64.0,72.0,72.0,70.0,70.0,70.0,70.0,70.0,70.0,75.0,68.0,72.0,65.0,68.0,65.0,68.0,78.0,70.0,70.0,70.0,70.0,70.0,73.0,74.0,75.0,70.0,67.0,73.0,73.0,73.0,73.0,73.0,73.0,70.0,65.0,67.0,70.0,70.0,72.0,70.0,70.0,67.0,70.0,70.0,70.0,70.0,70.0,70.0,70.0,70.0,70.0,70.0,70.0,70.0,70.0,70.0,70.0,64.0,70.0,70.0,85.0,70.0,70.0,70.0,70.0,77.0,70.0,70.0,88.0,70.0,67.0,70.0,70.0,80.0,70.0,70.0,70.0,75.0,62.0,70.0,70.0,70.0,75.0,70.0,70.0,70.0,70.0,70.0,70.0,70.0,70.0,70.0,75.0,80.0,70.0,70.0,70.0,70.0,70.0,70.0,70.0,84.0,70.0,77.0,80.0,70.0,70.0,70.0,70.0,70.0,70.0,70.0,75.0,70.0,70.0,67.0,73.0,70.0,70.0,70.0,70.0,65.0,70.0,72.0,70.0,70.0,70.0,70.0,70.0,72.0,75.0,75.0,63.0,70.0,70.0,74.0,64.0,70.0,65.0,64.0,68.0,64.0,66.0,64.0,69.0,70.0,64.0,63.0,90.0,75.0,75.0,70.0,75.0,70.0,70.0,70.0,74.0,72.0,74.0,72.0,72.0,69.0,70.0,76.0,75.0,70.0,70.0,70.0,70.0,70.0,70.0,72.0,70.0,70.0,70.0,70.0,70.0,78.0,68.0,66.0,72.0,78.0,70.0,65.0,70.0,72.0,65.0,70.0,58.0,62.0,70.0,75.0,72.0],\"xaxis\":\"x\",\"yaxis\":\"y\",\"type\":\"histogram\"}],                        {\"template\":{\"data\":{\"histogram2dcontour\":[{\"type\":\"histogram2dcontour\",\"colorbar\":{\"outlinewidth\":0,\"ticks\":\"\"},\"colorscale\":[[0.0,\"#0d0887\"],[0.1111111111111111,\"#46039f\"],[0.2222222222222222,\"#7201a8\"],[0.3333333333333333,\"#9c179e\"],[0.4444444444444444,\"#bd3786\"],[0.5555555555555556,\"#d8576b\"],[0.6666666666666666,\"#ed7953\"],[0.7777777777777778,\"#fb9f3a\"],[0.8888888888888888,\"#fdca26\"],[1.0,\"#f0f921\"]]}],\"choropleth\":[{\"type\":\"choropleth\",\"colorbar\":{\"outlinewidth\":0,\"ticks\":\"\"}}],\"histogram2d\":[{\"type\":\"histogram2d\",\"colorbar\":{\"outlinewidth\":0,\"ticks\":\"\"},\"colorscale\":[[0.0,\"#0d0887\"],[0.1111111111111111,\"#46039f\"],[0.2222222222222222,\"#7201a8\"],[0.3333333333333333,\"#9c179e\"],[0.4444444444444444,\"#bd3786\"],[0.5555555555555556,\"#d8576b\"],[0.6666666666666666,\"#ed7953\"],[0.7777777777777778,\"#fb9f3a\"],[0.8888888888888888,\"#fdca26\"],[1.0,\"#f0f921\"]]}],\"heatmap\":[{\"type\":\"heatmap\",\"colorbar\":{\"outlinewidth\":0,\"ticks\":\"\"},\"colorscale\":[[0.0,\"#0d0887\"],[0.1111111111111111,\"#46039f\"],[0.2222222222222222,\"#7201a8\"],[0.3333333333333333,\"#9c179e\"],[0.4444444444444444,\"#bd3786\"],[0.5555555555555556,\"#d8576b\"],[0.6666666666666666,\"#ed7953\"],[0.7777777777777778,\"#fb9f3a\"],[0.8888888888888888,\"#fdca26\"],[1.0,\"#f0f921\"]]}],\"heatmapgl\":[{\"type\":\"heatmapgl\",\"colorbar\":{\"outlinewidth\":0,\"ticks\":\"\"},\"colorscale\":[[0.0,\"#0d0887\"],[0.1111111111111111,\"#46039f\"],[0.2222222222222222,\"#7201a8\"],[0.3333333333333333,\"#9c179e\"],[0.4444444444444444,\"#bd3786\"],[0.5555555555555556,\"#d8576b\"],[0.6666666666666666,\"#ed7953\"],[0.7777777777777778,\"#fb9f3a\"],[0.8888888888888888,\"#fdca26\"],[1.0,\"#f0f921\"]]}],\"contourcarpet\":[{\"type\":\"contourcarpet\",\"colorbar\":{\"outlinewidth\":0,\"ticks\":\"\"}}],\"contour\":[{\"type\":\"contour\",\"colorbar\":{\"outlinewidth\":0,\"ticks\":\"\"},\"colorscale\":[[0.0,\"#0d0887\"],[0.1111111111111111,\"#46039f\"],[0.2222222222222222,\"#7201a8\"],[0.3333333333333333,\"#9c179e\"],[0.4444444444444444,\"#bd3786\"],[0.5555555555555556,\"#d8576b\"],[0.6666666666666666,\"#ed7953\"],[0.7777777777777778,\"#fb9f3a\"],[0.8888888888888888,\"#fdca26\"],[1.0,\"#f0f921\"]]}],\"surface\":[{\"type\":\"surface\",\"colorbar\":{\"outlinewidth\":0,\"ticks\":\"\"},\"colorscale\":[[0.0,\"#0d0887\"],[0.1111111111111111,\"#46039f\"],[0.2222222222222222,\"#7201a8\"],[0.3333333333333333,\"#9c179e\"],[0.4444444444444444,\"#bd3786\"],[0.5555555555555556,\"#d8576b\"],[0.6666666666666666,\"#ed7953\"],[0.7777777777777778,\"#fb9f3a\"],[0.8888888888888888,\"#fdca26\"],[1.0,\"#f0f921\"]]}],\"mesh3d\":[{\"type\":\"mesh3d\",\"colorbar\":{\"outlinewidth\":0,\"ticks\":\"\"}}],\"scatter\":[{\"fillpattern\":{\"fillmode\":\"overlay\",\"size\":10,\"solidity\":0.2},\"type\":\"scatter\"}],\"parcoords\":[{\"type\":\"parcoords\",\"line\":{\"colorbar\":{\"outlinewidth\":0,\"ticks\":\"\"}}}],\"scatterpolargl\":[{\"type\":\"scatterpolargl\",\"marker\":{\"colorbar\":{\"outlinewidth\":0,\"ticks\":\"\"}}}],\"bar\":[{\"error_x\":{\"color\":\"#2a3f5f\"},\"error_y\":{\"color\":\"#2a3f5f\"},\"marker\":{\"line\":{\"color\":\"#E5ECF6\",\"width\":0.5},\"pattern\":{\"fillmode\":\"overlay\",\"size\":10,\"solidity\":0.2}},\"type\":\"bar\"}],\"scattergeo\":[{\"type\":\"scattergeo\",\"marker\":{\"colorbar\":{\"outlinewidth\":0,\"ticks\":\"\"}}}],\"scatterpolar\":[{\"type\":\"scatterpolar\",\"marker\":{\"colorbar\":{\"outlinewidth\":0,\"ticks\":\"\"}}}],\"histogram\":[{\"marker\":{\"pattern\":{\"fillmode\":\"overlay\",\"size\":10,\"solidity\":0.2}},\"type\":\"histogram\"}],\"scattergl\":[{\"type\":\"scattergl\",\"marker\":{\"colorbar\":{\"outlinewidth\":0,\"ticks\":\"\"}}}],\"scatter3d\":[{\"type\":\"scatter3d\",\"line\":{\"colorbar\":{\"outlinewidth\":0,\"ticks\":\"\"}},\"marker\":{\"colorbar\":{\"outlinewidth\":0,\"ticks\":\"\"}}}],\"scattermapbox\":[{\"type\":\"scattermapbox\",\"marker\":{\"colorbar\":{\"outlinewidth\":0,\"ticks\":\"\"}}}],\"scatterternary\":[{\"type\":\"scatterternary\",\"marker\":{\"colorbar\":{\"outlinewidth\":0,\"ticks\":\"\"}}}],\"scattercarpet\":[{\"type\":\"scattercarpet\",\"marker\":{\"colorbar\":{\"outlinewidth\":0,\"ticks\":\"\"}}}],\"carpet\":[{\"aaxis\":{\"endlinecolor\":\"#2a3f5f\",\"gridcolor\":\"white\",\"linecolor\":\"white\",\"minorgridcolor\":\"white\",\"startlinecolor\":\"#2a3f5f\"},\"baxis\":{\"endlinecolor\":\"#2a3f5f\",\"gridcolor\":\"white\",\"linecolor\":\"white\",\"minorgridcolor\":\"white\",\"startlinecolor\":\"#2a3f5f\"},\"type\":\"carpet\"}],\"table\":[{\"cells\":{\"fill\":{\"color\":\"#EBF0F8\"},\"line\":{\"color\":\"white\"}},\"header\":{\"fill\":{\"color\":\"#C8D4E3\"},\"line\":{\"color\":\"white\"}},\"type\":\"table\"}],\"barpolar\":[{\"marker\":{\"line\":{\"color\":\"#E5ECF6\",\"width\":0.5},\"pattern\":{\"fillmode\":\"overlay\",\"size\":10,\"solidity\":0.2}},\"type\":\"barpolar\"}],\"pie\":[{\"automargin\":true,\"type\":\"pie\"}]},\"layout\":{\"autotypenumbers\":\"strict\",\"colorway\":[\"#636efa\",\"#EF553B\",\"#00cc96\",\"#ab63fa\",\"#FFA15A\",\"#19d3f3\",\"#FF6692\",\"#B6E880\",\"#FF97FF\",\"#FECB52\"],\"font\":{\"color\":\"#2a3f5f\"},\"hovermode\":\"closest\",\"hoverlabel\":{\"align\":\"left\"},\"paper_bgcolor\":\"white\",\"plot_bgcolor\":\"#E5ECF6\",\"polar\":{\"bgcolor\":\"#E5ECF6\",\"angularaxis\":{\"gridcolor\":\"white\",\"linecolor\":\"white\",\"ticks\":\"\"},\"radialaxis\":{\"gridcolor\":\"white\",\"linecolor\":\"white\",\"ticks\":\"\"}},\"ternary\":{\"bgcolor\":\"#E5ECF6\",\"aaxis\":{\"gridcolor\":\"white\",\"linecolor\":\"white\",\"ticks\":\"\"},\"baxis\":{\"gridcolor\":\"white\",\"linecolor\":\"white\",\"ticks\":\"\"},\"caxis\":{\"gridcolor\":\"white\",\"linecolor\":\"white\",\"ticks\":\"\"}},\"coloraxis\":{\"colorbar\":{\"outlinewidth\":0,\"ticks\":\"\"}},\"colorscale\":{\"sequential\":[[0.0,\"#0d0887\"],[0.1111111111111111,\"#46039f\"],[0.2222222222222222,\"#7201a8\"],[0.3333333333333333,\"#9c179e\"],[0.4444444444444444,\"#bd3786\"],[0.5555555555555556,\"#d8576b\"],[0.6666666666666666,\"#ed7953\"],[0.7777777777777778,\"#fb9f3a\"],[0.8888888888888888,\"#fdca26\"],[1.0,\"#f0f921\"]],\"sequentialminus\":[[0.0,\"#0d0887\"],[0.1111111111111111,\"#46039f\"],[0.2222222222222222,\"#7201a8\"],[0.3333333333333333,\"#9c179e\"],[0.4444444444444444,\"#bd3786\"],[0.5555555555555556,\"#d8576b\"],[0.6666666666666666,\"#ed7953\"],[0.7777777777777778,\"#fb9f3a\"],[0.8888888888888888,\"#fdca26\"],[1.0,\"#f0f921\"]],\"diverging\":[[0,\"#8e0152\"],[0.1,\"#c51b7d\"],[0.2,\"#de77ae\"],[0.3,\"#f1b6da\"],[0.4,\"#fde0ef\"],[0.5,\"#f7f7f7\"],[0.6,\"#e6f5d0\"],[0.7,\"#b8e186\"],[0.8,\"#7fbc41\"],[0.9,\"#4d9221\"],[1,\"#276419\"]]},\"xaxis\":{\"gridcolor\":\"white\",\"linecolor\":\"white\",\"ticks\":\"\",\"title\":{\"standoff\":15},\"zerolinecolor\":\"white\",\"automargin\":true,\"zerolinewidth\":2},\"yaxis\":{\"gridcolor\":\"white\",\"linecolor\":\"white\",\"ticks\":\"\",\"title\":{\"standoff\":15},\"zerolinecolor\":\"white\",\"automargin\":true,\"zerolinewidth\":2},\"scene\":{\"xaxis\":{\"backgroundcolor\":\"#E5ECF6\",\"gridcolor\":\"white\",\"linecolor\":\"white\",\"showbackground\":true,\"ticks\":\"\",\"zerolinecolor\":\"white\",\"gridwidth\":2},\"yaxis\":{\"backgroundcolor\":\"#E5ECF6\",\"gridcolor\":\"white\",\"linecolor\":\"white\",\"showbackground\":true,\"ticks\":\"\",\"zerolinecolor\":\"white\",\"gridwidth\":2},\"zaxis\":{\"backgroundcolor\":\"#E5ECF6\",\"gridcolor\":\"white\",\"linecolor\":\"white\",\"showbackground\":true,\"ticks\":\"\",\"zerolinecolor\":\"white\",\"gridwidth\":2}},\"shapedefaults\":{\"line\":{\"color\":\"#2a3f5f\"}},\"annotationdefaults\":{\"arrowcolor\":\"#2a3f5f\",\"arrowhead\":0,\"arrowwidth\":1},\"geo\":{\"bgcolor\":\"white\",\"landcolor\":\"#E5ECF6\",\"subunitcolor\":\"white\",\"showland\":true,\"showlakes\":true,\"lakecolor\":\"white\"},\"title\":{\"x\":0.05},\"mapbox\":{\"style\":\"light\"}}},\"xaxis\":{\"anchor\":\"y\",\"domain\":[0.0,1.0],\"title\":{\"text\":\"cocoa percentage\"}},\"yaxis\":{\"anchor\":\"x\",\"domain\":[0.0,1.0],\"title\":{\"text\":\"number of chocolate bars\"}},\"legend\":{\"tracegroupgap\":0},\"title\":{\"text\":\"Distribution of cocoa percentage for \\\"Highly Recommended\\\" bars\"},\"barmode\":\"relative\"},                        {\"responsive\": true}                    ).then(function(){\n",
       "                            \n",
       "var gd = document.getElementById('9cb28449-1002-4dd4-ac4b-ead79350ef62');\n",
       "var x = new MutationObserver(function (mutations, observer) {{\n",
       "        var display = window.getComputedStyle(gd).display;\n",
       "        if (!display || display === 'none') {{\n",
       "            console.log([gd, 'removed!']);\n",
       "            Plotly.purge(gd);\n",
       "            observer.disconnect();\n",
       "        }}\n",
       "}});\n",
       "\n",
       "// Listen for the removal of the full notebook cells\n",
       "var notebookContainer = gd.closest('#notebook-container');\n",
       "if (notebookContainer) {{\n",
       "    x.observe(notebookContainer, {childList: true});\n",
       "}}\n",
       "\n",
       "// Listen for the clearing of the current output cell\n",
       "var outputEl = gd.closest('.output');\n",
       "if (outputEl) {{\n",
       "    x.observe(outputEl, {childList: true});\n",
       "}}\n",
       "\n",
       "                        })                };                });            </script>        </div>"
      ]
     },
     "metadata": {},
     "output_type": "display_data"
    }
   ],
   "source": [
    "# Distribution plot of cocoa_percentage\n",
    "fig = px.histogram(high_rating, x=\"cocoa_percent\", nbins=20,\n",
    "                   title='Distribution of cocoa percentage for \"Highly Recommended\" bars')\n",
    "\n",
    "# Update axis titles\n",
    "fig.update_xaxes(title_text='cocoa percentage')\n",
    "fig.update_yaxes(title_text='number of chocolate bars')\n",
    "\n",
    "# Show graph\n",
    "fig.show()"
   ]
  },
  {
   "cell_type": "markdown",
   "id": "a243b244",
   "metadata": {},
   "source": [
    "## Your research indicates that some consumers want to avoid bars with lecithin. Compare the average rating of bars with and without lecithin (L in the ingredients).\n",
    "Missing values can now be filtered out by creating a copy of the original data frame and adding a boolean column, _‘has_lecithin’_. Roughly _80% of the chocolate bars contained within the data set do not contain lecithin_.\n",
    "\n",
    "**The average rating for bars with lecithin is 3.15 vs.3.21 for bars without lecithin**"
   ]
  },
  {
   "cell_type": "code",
   "execution_count": 19,
   "id": "e5344c63",
   "metadata": {},
   "outputs": [
    {
     "data": {
      "text/plain": [
       "False    0.805138\n",
       "True     0.194862\n",
       "Name: has_lecithin, dtype: float64"
      ]
     },
     "execution_count": 19,
     "metadata": {},
     "output_type": "execute_result"
    }
   ],
   "source": [
    "# Creating a copy of original data\n",
    "df_copy = df.copy()\n",
    "\n",
    "# Adding a boolean column, 'has_lecithin'\n",
    "df_copy['has_lecithin'] = df['ingredients'].str.contains('L') == True\n",
    "\n",
    "# Value counts of bars with/without lecithin\n",
    "df_copy['has_lecithin'].value_counts(normalize=True)"
   ]
  },
  {
   "cell_type": "code",
   "execution_count": 20,
   "id": "53e4b0bc",
   "metadata": {},
   "outputs": [
    {
     "data": {
      "text/html": [
       "<div>\n",
       "<style scoped>\n",
       "    .dataframe tbody tr th:only-of-type {\n",
       "        vertical-align: middle;\n",
       "    }\n",
       "\n",
       "    .dataframe tbody tr th {\n",
       "        vertical-align: top;\n",
       "    }\n",
       "\n",
       "    .dataframe thead th {\n",
       "        text-align: right;\n",
       "    }\n",
       "</style>\n",
       "<table border=\"1\" class=\"dataframe\">\n",
       "  <thead>\n",
       "    <tr style=\"text-align: right;\">\n",
       "      <th></th>\n",
       "      <th>rating</th>\n",
       "    </tr>\n",
       "    <tr>\n",
       "      <th>has_lecithin</th>\n",
       "      <th></th>\n",
       "    </tr>\n",
       "  </thead>\n",
       "  <tbody>\n",
       "    <tr>\n",
       "      <th>False</th>\n",
       "      <td>3.21</td>\n",
       "    </tr>\n",
       "    <tr>\n",
       "      <th>True</th>\n",
       "      <td>3.15</td>\n",
       "    </tr>\n",
       "  </tbody>\n",
       "</table>\n",
       "</div>"
      ],
      "text/plain": [
       "              rating\n",
       "has_lecithin        \n",
       "False           3.21\n",
       "True            3.15"
      ]
     },
     "execution_count": 20,
     "metadata": {},
     "output_type": "execute_result"
    }
   ],
   "source": [
    "round(df_copy.groupby('has_lecithin')[['rating']].mean(), 2)"
   ]
  },
  {
   "cell_type": "code",
   "execution_count": 58,
   "id": "51537075",
   "metadata": {},
   "outputs": [
    {
     "data": {
      "application/vnd.plotly.v1+json": {
       "config": {
        "plotlyServerURL": "https://plot.ly"
       },
       "data": [
        {
         "alignmentgroup": "True",
         "bingroup": "x",
         "hovertemplate": "has lecithin=False<br>rating=%{x}<br>count=%{y}<extra></extra>",
         "legendgroup": "False",
         "marker": {
          "color": "#636efa",
          "opacity": 0.5,
          "pattern": {
           "shape": ""
          }
         },
         "name": "False",
         "nbinsx": 10,
         "offsetgroup": "False",
         "orientation": "v",
         "showlegend": true,
         "type": "histogram",
         "x": [
          3.25,
          3.5,
          3.75,
          3,
          3,
          3.25,
          3.5,
          4,
          3.75,
          3.75,
          3.25,
          3.5,
          2.75,
          3.25,
          3.5,
          3.5,
          2.5,
          2.75,
          2.75,
          3,
          2.75,
          3,
          3,
          2.75,
          3,
          3.5,
          3.5,
          3.5,
          3.5,
          2.5,
          2.5,
          2.75,
          2.75,
          3,
          3,
          3,
          3.5,
          3.75,
          2.75,
          3,
          3,
          3.75,
          4,
          4,
          2.75,
          2.75,
          3,
          3,
          3,
          3.5,
          3.25,
          3.5,
          3.25,
          3.25,
          3.25,
          3.25,
          3.5,
          3.75,
          3,
          3,
          3.5,
          3.5,
          3.5,
          3.75,
          3.75,
          3,
          3,
          3,
          3.5,
          2.75,
          3,
          3.5,
          3,
          3.25,
          2.5,
          2.75,
          3,
          3,
          2.75,
          3.25,
          3.5,
          3.5,
          3.5,
          3.5,
          3.75,
          3.75,
          4,
          3.25,
          3.25,
          3.25,
          3.25,
          3.5,
          3.5,
          3.5,
          3.5,
          3.75,
          3.75,
          3.75,
          4,
          4,
          3.5,
          3.5,
          3.5,
          3.5,
          4,
          4,
          3,
          4,
          3,
          3.25,
          3,
          3.25,
          3.5,
          3.5,
          3.75,
          1.75,
          2.5,
          2.75,
          3,
          3,
          3.25,
          1.75,
          3.25,
          3.25,
          3.5,
          3.75,
          2.75,
          4,
          3.75,
          3.25,
          2.5,
          3,
          3.75,
          3.75,
          3.75,
          3.75,
          3,
          3,
          3.5,
          2.5,
          3,
          2.5,
          2.5,
          3,
          3.25,
          3.5,
          3,
          2.75,
          3.5,
          2.5,
          2.75,
          3.25,
          3.25,
          3.5,
          3.75,
          4,
          3.5,
          3.5,
          3.5,
          2.75,
          3.25,
          3.5,
          3.75,
          2.25,
          3,
          3.25,
          2.75,
          2.75,
          2.75,
          2.75,
          3.25,
          3.5,
          3.5,
          3.25,
          3.75,
          2.75,
          3,
          3.5,
          3.75,
          4,
          3.5,
          3.5,
          3.5,
          4,
          3.25,
          3.25,
          3.5,
          3.5,
          3,
          3,
          3.5,
          4,
          2.5,
          2.5,
          2.5,
          3.25,
          3,
          3,
          3.5,
          3.75,
          3,
          3.25,
          3.5,
          3.5,
          2.75,
          3,
          3,
          3.25,
          3.75,
          3.5,
          3,
          3,
          3.25,
          2.75,
          2.75,
          2.75,
          3,
          3.25,
          3.25,
          2.75,
          3.5,
          3.5,
          3.75,
          2.75,
          3,
          3.5,
          3.5,
          2.75,
          2.5,
          2.75,
          3.25,
          1.5,
          3,
          3.75,
          3.75,
          3.75,
          4,
          4,
          2.5,
          4,
          2.75,
          3,
          3,
          3,
          3.25,
          3.5,
          3.5,
          3.5,
          3.5,
          3.75,
          4,
          4,
          3.25,
          3.5,
          3.25,
          3.75,
          4,
          3.5,
          4,
          4,
          3.75,
          1.5,
          3.25,
          2.75,
          2.75,
          3.5,
          3.75,
          4,
          3,
          3.75,
          4,
          3.75,
          3.5,
          3.75,
          3.25,
          3.75,
          2.75,
          3,
          3.25,
          3.25,
          3.25,
          3.5,
          3,
          2.75,
          3,
          3.5,
          3.5,
          3.25,
          2.75,
          2.5,
          3,
          2.5,
          3.25,
          3.25,
          3.25,
          3.5,
          3,
          3.25,
          3.5,
          2.5,
          2.25,
          2.5,
          2.75,
          2.5,
          2.5,
          3,
          3.75,
          2.5,
          3.25,
          3.5,
          3.75,
          3.25,
          3.25,
          3.5,
          2.75,
          2.5,
          3,
          3,
          3.75,
          3.75,
          3.75,
          3,
          3.25,
          3.75,
          3.75,
          2.75,
          2.75,
          3,
          3,
          3.25,
          3.5,
          3,
          3.25,
          3.5,
          3.5,
          3.5,
          3.5,
          4,
          1,
          2.75,
          2.25,
          2.5,
          3,
          3.5,
          2.5,
          3,
          3.5,
          2.5,
          2.75,
          3,
          3,
          3.25,
          3.5,
          3.75,
          3,
          3.25,
          3.25,
          3.25,
          2.75,
          3,
          3.25,
          3.5,
          3.5,
          3,
          3.25,
          3.25,
          3.5,
          3.5,
          2,
          3,
          3.25,
          2.5,
          2.75,
          3,
          3,
          3.25,
          3.25,
          3.5,
          2.75,
          3.5,
          3.5,
          3.5,
          3.5,
          3.75,
          4,
          3.25,
          3.5,
          3.75,
          4,
          4,
          2.5,
          2.75,
          2.75,
          3,
          2.75,
          2.75,
          3,
          3,
          3.25,
          3,
          3.5,
          3.25,
          3,
          2.75,
          3.5,
          3,
          3.5,
          3.25,
          3.25,
          3.5,
          3.25,
          3,
          3.25,
          2.75,
          3.5,
          2.5,
          3.25,
          2.5,
          2.5,
          2.75,
          3,
          3.75,
          3.75,
          2.5,
          2.5,
          2.5,
          2.75,
          2.75,
          3,
          3,
          3,
          3.25,
          2.75,
          3.25,
          3.5,
          3.75,
          2.5,
          2.75,
          3.25,
          3.75,
          3.75,
          3.75,
          2.75,
          3.25,
          3,
          2.5,
          2.5,
          2.75,
          2.75,
          3,
          3.25,
          3.25,
          3.25,
          3.25,
          3.5,
          2.5,
          2.5,
          2.5,
          2.75,
          3,
          3,
          3,
          3.5,
          3.75,
          3.75,
          4,
          3.5,
          3.75,
          2.75,
          3.75,
          3,
          3.25,
          3.5,
          3.5,
          3.75,
          4,
          3.75,
          2.75,
          1,
          3,
          3.75,
          3.75,
          3.5,
          3.5,
          3.5,
          3.5,
          2.25,
          3,
          3.25,
          3.25,
          2.75,
          2.75,
          3.25,
          3.75,
          3.25,
          3.5,
          2.75,
          2.5,
          2.5,
          3.25,
          3.5,
          3,
          3,
          3,
          3,
          3.25,
          3.5,
          3.75,
          2.5,
          3,
          3,
          3.25,
          3.25,
          3.25,
          1.5,
          3.5,
          3.5,
          3.75,
          3.75,
          1,
          3.25,
          3.25,
          3.25,
          3.25,
          3.5,
          2.5,
          2.75,
          3.25,
          3.75,
          3.25,
          3.25,
          3.25,
          3.5,
          3.75,
          3.25,
          3.5,
          3.5,
          3.5,
          3.75,
          2.75,
          2.75,
          2.25,
          2.75,
          3,
          3.5,
          3,
          3.25,
          3.75,
          2.75,
          3.25,
          3.5,
          3.5,
          2.75,
          3.5,
          3.5,
          3.75,
          3,
          3.75,
          3,
          3,
          3.25,
          3.5,
          3.5,
          2.75,
          2.75,
          3.25,
          3.25,
          3.5,
          3.5,
          4,
          3.25,
          3.25,
          3.25,
          3,
          3,
          3.25,
          3.5,
          3,
          3.25,
          3.75,
          3.75,
          4,
          3.25,
          2.75,
          3,
          3.25,
          3,
          3,
          3.25,
          3.25,
          3.25,
          3.5,
          3.5,
          2.5,
          3,
          2.5,
          3,
          3,
          3,
          3,
          3,
          3.75,
          3,
          2.5,
          2.5,
          3,
          2.5,
          3,
          3.5,
          3.5,
          2.75,
          2.75,
          2.75,
          3,
          3.25,
          2.75,
          3.25,
          3.5,
          3.5,
          3.75,
          3.5,
          3.75,
          3.75,
          4,
          3.75,
          3.75,
          4,
          3.5,
          3.75,
          4,
          3.25,
          3.25,
          3.5,
          3,
          3.75,
          3,
          3.25,
          3.5,
          3.25,
          3.25,
          3.5,
          3.5,
          3.75,
          4,
          4,
          4,
          3,
          3,
          3.5,
          3.75,
          3,
          3.5,
          3.5,
          3.75,
          3,
          3.75,
          3.75,
          4,
          2.5,
          2.75,
          2.75,
          2.75,
          2.75,
          3.5,
          3.5,
          3.25,
          2.5,
          2.75,
          3,
          2.5,
          3.5,
          3.75,
          3.75,
          3,
          3.25,
          3.5,
          3.5,
          3.75,
          3.75,
          3.25,
          2.75,
          3.25,
          3.25,
          3.5,
          3.5,
          4,
          4,
          3.25,
          3.5,
          3.75,
          3.25,
          3.25,
          2.75,
          3.5,
          3,
          3,
          3,
          3.5,
          2.75,
          3.25,
          3,
          3.5,
          3.25,
          3.5,
          3.5,
          3.5,
          3.25,
          3,
          2.5,
          3,
          3.5,
          3.25,
          3,
          3.25,
          3.25,
          3,
          2,
          2.75,
          3.5,
          2.75,
          3,
          3.5,
          2.5,
          2.5,
          2.5,
          2.5,
          2.75,
          3,
          3.5,
          3.75,
          3.5,
          3,
          3,
          2.75,
          2.5,
          2.75,
          3,
          2.25,
          2.5,
          3,
          3.25,
          2.75,
          2.75,
          3,
          3.25,
          2.75,
          2.75,
          3,
          3.5,
          3,
          3.5,
          3.5,
          2.75,
          2.75,
          3.5,
          3.75,
          2.75,
          3,
          3,
          3.25,
          3.5,
          3,
          3.5,
          3.5,
          3.5,
          3,
          3,
          3,
          3,
          3.25,
          3.75,
          3.75,
          3.5,
          3.75,
          3.5,
          3.75,
          3,
          3,
          3.25,
          3.5,
          3.5,
          3.5,
          2,
          2.5,
          3.5,
          3.5,
          3,
          3.25,
          3.5,
          3.5,
          3.25,
          2.75,
          3,
          3.25,
          3.5,
          2.75,
          2.75,
          3,
          3.25,
          3.25,
          3.25,
          3.5,
          3.5,
          4,
          3,
          3.5,
          3.5,
          4,
          4,
          3.25,
          3.75,
          3.75,
          4,
          3,
          3.5,
          3.5,
          3.5,
          3.5,
          3.5,
          3.75,
          3.25,
          3.5,
          3,
          3.25,
          3.25,
          3.5,
          3.5,
          3.5,
          3.75,
          4,
          3.5,
          3.75,
          3.5,
          3.5,
          4,
          3.5,
          3.75,
          3,
          3,
          3.25,
          3.25,
          3.5,
          3.5,
          3.75,
          3.75,
          3.75,
          4,
          4,
          3.25,
          3.5,
          3.5,
          3.25,
          3.25,
          3.25,
          3.75,
          3.25,
          3.5,
          3.5,
          3,
          3.25,
          3,
          3.25,
          2.5,
          3,
          3.75,
          3,
          3.75,
          3.75,
          4,
          3.5,
          3.75,
          3.25,
          3.75,
          3.75,
          2.5,
          3,
          3,
          3.5,
          2.5,
          3.5,
          3.5,
          2.75,
          2.75,
          3,
          3.5,
          2.75,
          3.25,
          3.25,
          3.25,
          2.5,
          3,
          3.75,
          2.75,
          3,
          3.25,
          3.25,
          3.5,
          3.5,
          3.5,
          3.5,
          3.5,
          2.5,
          3,
          2,
          2.75,
          2.75,
          2.75,
          3,
          3,
          3.25,
          3.25,
          3.5,
          2.5,
          3,
          3,
          3.5,
          3.5,
          3.25,
          3,
          3,
          3.25,
          2.75,
          3.25,
          3.5,
          3.5,
          3.25,
          3.5,
          3,
          3.5,
          3.75,
          3.75,
          3.5,
          3.5,
          3.5,
          3.75,
          4,
          2.75,
          3.5,
          2.75,
          3.25,
          2.75,
          3,
          3,
          3.25,
          3.25,
          2.25,
          2.5,
          2.75,
          3,
          3.5,
          2.75,
          2.75,
          3.25,
          3.5,
          3.25,
          3.5,
          2.5,
          3,
          2.5,
          2.75,
          3.5,
          3.75,
          2.5,
          1.75,
          4,
          2.75,
          2.5,
          3,
          2.75,
          3,
          2.5,
          2.75,
          2.75,
          3,
          3.5,
          3.25,
          3.75,
          3,
          3,
          3,
          3.5,
          3.75,
          3.5,
          3.25,
          3.5,
          3.75,
          3.75,
          3.75,
          4,
          4,
          4,
          4,
          3.75,
          3,
          3.25,
          2.25,
          3.25,
          3.25,
          3.5,
          2.75,
          3.5,
          3.25,
          3.5,
          2.75,
          2.75,
          3,
          3.5,
          3.5,
          3.75,
          3.75,
          3,
          3.5,
          3,
          3,
          3.25,
          3.75,
          2.5,
          2.5,
          2.5,
          2.75,
          2.75,
          3,
          3,
          3,
          3.5,
          2.75,
          2.75,
          3.25,
          3.5,
          3.75,
          3.25,
          3,
          3,
          3,
          3.25,
          3,
          3.25,
          3.75,
          3,
          3.25,
          2.5,
          2.75,
          3,
          3.25,
          3.25,
          3.25,
          3.25,
          2.5,
          2.5,
          3,
          3,
          3,
          2.25,
          2.5,
          3,
          3,
          3,
          3,
          3.25,
          3.5,
          3.5,
          3.5,
          2.5,
          3.25,
          3,
          3.5,
          3.5,
          3.5,
          2.5,
          3.5,
          3,
          3.25,
          3.5,
          3.75,
          2.75,
          3.25,
          3.5,
          3.5,
          3,
          3.25,
          3.25,
          3.5,
          3.5,
          3.25,
          3.25,
          3.5,
          4,
          3.75,
          3.25,
          3.25,
          3.5,
          3.75,
          3.5,
          3,
          2.75,
          3,
          3.5,
          3.5,
          3.5,
          3.75,
          3,
          2.5,
          3,
          3,
          3,
          3,
          3.5,
          3.25,
          3.75,
          3.75,
          2.75,
          3,
          2,
          2.5,
          3,
          3.25,
          3.5,
          3.25,
          3,
          3.25,
          3.25,
          3,
          3.25,
          3.25,
          3.25,
          3.5,
          2.25,
          1.5,
          2.5,
          2.75,
          2.5,
          2.75,
          2.5,
          2.75,
          3.25,
          3.25,
          3.5,
          2.75,
          2.75,
          2.75,
          3.5,
          3.5,
          2,
          2.75,
          3,
          3.75,
          2.5,
          2.75,
          2.5,
          2.75,
          3,
          3.25,
          3.25,
          3.75,
          3.5,
          3.75,
          3.25,
          3.5,
          3.25,
          3.25,
          3.5,
          3.5,
          3.75,
          3.5,
          3.75,
          2.75,
          2.75,
          3,
          3.5,
          3.5,
          3.5,
          3.5,
          3.5,
          3.5,
          3.25,
          3,
          3,
          3.25,
          3.5,
          2.75,
          3.25,
          3.5,
          2.75,
          2.75,
          3.25,
          3.25,
          2.75,
          3,
          3.5,
          3.5,
          3.5,
          3.5,
          3.5,
          3.5,
          3.25,
          3.5,
          3.75,
          3.5,
          3,
          3,
          3.25,
          3.5,
          2.25,
          2.5,
          2.75,
          3,
          3.25,
          2.75,
          3,
          3.25,
          2.75,
          2.75,
          3,
          3,
          3,
          3.25,
          3.5,
          3.5,
          3.75,
          2.5,
          2.75,
          3.5,
          3.75,
          3,
          3.25,
          3.5,
          3.75,
          4,
          4,
          3.5,
          3.25,
          3.25,
          3.25,
          3.5,
          3,
          3,
          3.25,
          3,
          2.5,
          3.25,
          2.5,
          2.75,
          3,
          3,
          3.5,
          2.5,
          2.75,
          3.25,
          3.25,
          3.25,
          3.25,
          3.5,
          3.5,
          2.75,
          3,
          2.5,
          3,
          3.5,
          3.25,
          3.75,
          3.5,
          3.5,
          2,
          2,
          2,
          3,
          3.75,
          3.75,
          3.75,
          3.5,
          3.5,
          3.75,
          3.25,
          3,
          3.5,
          1.5,
          2,
          2.5,
          2.5,
          3.25,
          3.25,
          3.5,
          3.5,
          3.5,
          3.75,
          3.75,
          3,
          3.25,
          3.25,
          3.5,
          3.5,
          2.5,
          3,
          3,
          3,
          2.75,
          3,
          3,
          3,
          3.25,
          3.5,
          3.75,
          2.75,
          2.75,
          3.5,
          3,
          3.25,
          3.5,
          3.5,
          3.75,
          3.5,
          3.5,
          3.75,
          3,
          2.5,
          2.75,
          3,
          3.25,
          2.5,
          3,
          3,
          3.5,
          3.75,
          2.75,
          3.25,
          2.75,
          3,
          3.25,
          2.75,
          2.75,
          3.25,
          3.5,
          3.5,
          3.25,
          3.25,
          3.5,
          3.75,
          3.25,
          3.5,
          3.5,
          3,
          3.5,
          3.5,
          3.5,
          2.75,
          2.75,
          2.75,
          3,
          2.5,
          3,
          2.5,
          2.75,
          3.25,
          3.5,
          2.25,
          2.5,
          2.5,
          3.5,
          3.25,
          2.25,
          2.75,
          3,
          3,
          3,
          2.75,
          3.5,
          3.75,
          3,
          2.75,
          3,
          3,
          2.75,
          3.25,
          3,
          3,
          2.75,
          3,
          3.25,
          2.75,
          3,
          3.5,
          3.75,
          3.75,
          3,
          3.25,
          3.5,
          3.75,
          3.75,
          3.75,
          4,
          2.75,
          3,
          3.25,
          3.5,
          2.75,
          3.5,
          3,
          3,
          3.25,
          3.25,
          3.25,
          3.75,
          3.75,
          3,
          3,
          3.25,
          3.25,
          3.5,
          3.75,
          2.75,
          3,
          3.5,
          3.75,
          2.75,
          3,
          3,
          3,
          3,
          3.5,
          3.75,
          3,
          3.25,
          3.25,
          3.5,
          2.75,
          3.25,
          3.25,
          3.5,
          2.75,
          2.75,
          2.75,
          3,
          3,
          3,
          3,
          3,
          3.25,
          3.75,
          2.75,
          3.25,
          2,
          2.75,
          2.75,
          3.5,
          3.75,
          3.75,
          3.25,
          3.25,
          3.5,
          3.75,
          2.75,
          3,
          2.75,
          2.75,
          3.5,
          3.5,
          3,
          2.75,
          3,
          3.25,
          3.25,
          3.25,
          3.5,
          3.5,
          3,
          3.5,
          3.5,
          3.25,
          2.75,
          2.75,
          3,
          2.5,
          2.75,
          4,
          3.5,
          3.5,
          4,
          3.75,
          4,
          2.25,
          2.75,
          3,
          3,
          3,
          3.5,
          3.5,
          2.5,
          3.25,
          3.25,
          3.5,
          2.5,
          2.75,
          2.75,
          2.75,
          3.25,
          3,
          3,
          3.25,
          2.5,
          2.75,
          2.75,
          3,
          3,
          3.75,
          2.75,
          3,
          3.5,
          3.5,
          3.75,
          3.75,
          4,
          3.75,
          3.75,
          3,
          3.25,
          3.25,
          3.25,
          2.75,
          2.75,
          2.75,
          3,
          3.25,
          2.75,
          3.5,
          3.5,
          3.5,
          3.75,
          3.25,
          3,
          3.25,
          2.75,
          3.25,
          3.25,
          3.5,
          3,
          3.75,
          3.5,
          4,
          3.75,
          2.75,
          3,
          3.5,
          3.25,
          2.75,
          3,
          3.25,
          3.5,
          3,
          2.5,
          3.25,
          3.5,
          3.25,
          3.25,
          3.5,
          3.75,
          3.75,
          3.5,
          3.5,
          3.5,
          2.5,
          3.5,
          3.25,
          3.5,
          4,
          3,
          3.75,
          3.5,
          3.5,
          3.75,
          3.75,
          3.5,
          3.5,
          3.5,
          3,
          2.5,
          2.5,
          3.25,
          3.25,
          3.25,
          3.5,
          2.75,
          2.75,
          3,
          3,
          3.5,
          3.75,
          3,
          3.75,
          3.5,
          3.5,
          3.75,
          4,
          3.75,
          3.25,
          3.75,
          3.75,
          2.5,
          2.75,
          3.5,
          3.5,
          2.25,
          2.5,
          2.5,
          3.75,
          3.75,
          2.75,
          3,
          3.5,
          2.75,
          3.5,
          1.5,
          3,
          3.5,
          3.5,
          3.5,
          2.75,
          3.25,
          2.75,
          2.75,
          2.75,
          3,
          3.25,
          2.75,
          3.5,
          3.25,
          3.5,
          3.5,
          3.5,
          3,
          3,
          3.5,
          3,
          3.25,
          2.75,
          3.25,
          3.5,
          3.5,
          2,
          2.5,
          3.5,
          3.25,
          3.25,
          3.5,
          2.5,
          3,
          3,
          3.25,
          3.25,
          3.75,
          3.75,
          3.75,
          3,
          3,
          3,
          3.25,
          3.25,
          3.5,
          3.5,
          3.75,
          3.75,
          3,
          3.25,
          2.75,
          3,
          2.75,
          3,
          3.25,
          3.5,
          3.5,
          3.75,
          3.75,
          3.75,
          4,
          3,
          3.25,
          3.75,
          3.75,
          3.75,
          4,
          3.5,
          3.5,
          3,
          3.25,
          1.5,
          3.25,
          2.75,
          3,
          3.5,
          2.75,
          2.75,
          2.5,
          3.25,
          3.25,
          3,
          3,
          3.25,
          3.25,
          3.5,
          3,
          3.25,
          3.25,
          3.5,
          3,
          3,
          3.5,
          3.5,
          3.75,
          3.75,
          3.75,
          2.75,
          3.5,
          3.5,
          3.75,
          4,
          4,
          3.25,
          3.5,
          3.5,
          3.5,
          3.75,
          3.75,
          4,
          4,
          2.75,
          3.25,
          3.25,
          3.25,
          3.75,
          3.75,
          3.75,
          4,
          4,
          4,
          4,
          3.25,
          3.25,
          3.5,
          3.5,
          3.75,
          3.75,
          3.5,
          4,
          3.25,
          3.5,
          3.5,
          3.5,
          3.75,
          3.75,
          4,
          3.25,
          4,
          3,
          4,
          4,
          3.25,
          3.5,
          3.5,
          4,
          3.25,
          3.5,
          3.25,
          3.25,
          3.25,
          3.5,
          3.5,
          3.5,
          3,
          3,
          3.25,
          2.75,
          3.5,
          3.75,
          3.75,
          2.75,
          3.5,
          3.75,
          3.25,
          3.5,
          3.5,
          3,
          3,
          3,
          3,
          3,
          3.25,
          2.75,
          3.5,
          3.5,
          2.5,
          2.5,
          2.5,
          2.75,
          2.75,
          3.25,
          2.75,
          3,
          2.75,
          2.75,
          3,
          3,
          3.5,
          3.75,
          2.75,
          3,
          3.25,
          3.25,
          3,
          3.25,
          3.25,
          3.75,
          3.25,
          3.5,
          3.5,
          3.5,
          3.75,
          3.25,
          3.25,
          3.25,
          3.25,
          3.5,
          3.75,
          2.5,
          2.75,
          2.75,
          3,
          2.75,
          3,
          3.25,
          3,
          3.25,
          4,
          3,
          3,
          3.25,
          2.75,
          3,
          2.75,
          3.25,
          3,
          3.25,
          2,
          2.75,
          2.75,
          2.75,
          3,
          3,
          3,
          3,
          3.25,
          3.25,
          3.25,
          3.25,
          3.5,
          3.5,
          3.25,
          3.75,
          3.75,
          2.75,
          3.25,
          3.5,
          3.75,
          3.75,
          3.75,
          2.75,
          3,
          3.25,
          3,
          2,
          2.5,
          3,
          3,
          3.5,
          3.25,
          3.25,
          3.5,
          3.75,
          2.75,
          3.25,
          3.25,
          4,
          2.75,
          3,
          3,
          2.75,
          3,
          3.5,
          2.75,
          3.5,
          3,
          2.75,
          3.25,
          3.25,
          3.25,
          3.75,
          3.25,
          3,
          3.5,
          2.75,
          2.75,
          3,
          3.5,
          2.75,
          2.5,
          3.25,
          3.5,
          2.75,
          3.5,
          3.25,
          3,
          3.75,
          2.75,
          3,
          3.25,
          2.75,
          3,
          3,
          3.25,
          3.25,
          3.75,
          3.75,
          3.5,
          3.25,
          2.5,
          2.75,
          2.75,
          2.75,
          2.75,
          3,
          3,
          3.25,
          3.25,
          3.25,
          2.75,
          3,
          3.25,
          3.25,
          3.75,
          3.25,
          3.5,
          3.5,
          2.75,
          3,
          3.5,
          3.5,
          3,
          2,
          2,
          3,
          3,
          2.75,
          2.75,
          3,
          3,
          3.25,
          3.5,
          3.5,
          3,
          3,
          3,
          3.5,
          3.5,
          3.75,
          3.75,
          2.5,
          2.5,
          2.75,
          2.75,
          3.25,
          3,
          3.25,
          3,
          3.5,
          3.75,
          2.25,
          3,
          4,
          3,
          3.5,
          3.75,
          3.25,
          3.5,
          3.5,
          3.5,
          4,
          2.5,
          3,
          3.25,
          3.25,
          3.5,
          3,
          3,
          3.25,
          3.5,
          3.5,
          2.5,
          2.75,
          3.25,
          3.5,
          3.5,
          3,
          3,
          3,
          3.25,
          3.25,
          3.25,
          3.5,
          2.75,
          2.75,
          3,
          3.5,
          3.5,
          3.5,
          3,
          3,
          3.25,
          3.75,
          3,
          3,
          3.25,
          3.5,
          3.75,
          3,
          3,
          3,
          3.25,
          3.25,
          3.5,
          3.5,
          3.5,
          3.5,
          3.75,
          3.75,
          2.75,
          3.75,
          3,
          3.25,
          3.5
         ],
         "xaxis": "x",
         "yaxis": "y"
        },
        {
         "alignmentgroup": "True",
         "bingroup": "x",
         "hovertemplate": "has lecithin=True<br>rating=%{x}<br>count=%{y}<extra></extra>",
         "legendgroup": "True",
         "marker": {
          "color": "#EF553B",
          "opacity": 0.5,
          "pattern": {
           "shape": ""
          }
         },
         "name": "True",
         "nbinsx": 10,
         "offsetgroup": "True",
         "orientation": "v",
         "showlegend": true,
         "type": "histogram",
         "x": [
          3.5,
          3.75,
          2.75,
          2.75,
          3,
          3,
          3.25,
          3.25,
          3.25,
          3.5,
          3.75,
          4,
          2.75,
          3.5,
          3.5,
          3.75,
          4,
          2.75,
          3,
          3.5,
          3.5,
          3.75,
          3.5,
          3.75,
          4,
          2.75,
          2.75,
          3.75,
          2.5,
          2.5,
          2.75,
          3.5,
          2.5,
          3,
          3,
          3.25,
          3.25,
          3,
          2.75,
          3.75,
          3.75,
          4,
          3.25,
          2.75,
          3.25,
          3.25,
          3.5,
          3,
          2.75,
          2.75,
          2.75,
          2.75,
          3.5,
          3,
          3,
          3,
          2.75,
          3,
          3,
          3.5,
          3.75,
          2.75,
          3,
          3.25,
          3.5,
          3.5,
          3,
          3.5,
          3.75,
          2,
          3,
          2,
          3,
          3.5,
          2.75,
          3.25,
          3.5,
          3.5,
          3.5,
          4,
          4,
          3.25,
          3.5,
          3.5,
          3.5,
          3.75,
          4,
          3.5,
          1.5,
          2.5,
          3.5,
          3.5,
          3.25,
          3.25,
          3.5,
          3.75,
          2,
          2.5,
          2.75,
          3,
          3.25,
          3.5,
          2.5,
          2.5,
          3,
          3.5,
          3.25,
          3.25,
          3.25,
          3.5,
          2.75,
          3,
          3.25,
          3.25,
          2.5,
          2.5,
          3,
          3.5,
          3,
          3.25,
          3.25,
          2.5,
          2.75,
          2.75,
          2.5,
          2.75,
          3,
          3,
          1.5,
          3,
          3.5,
          3.75,
          4,
          2.75,
          3.25,
          3.5,
          3.5,
          2.75,
          3.75,
          2.75,
          2.5,
          2.5,
          3,
          2.75,
          3,
          3.75,
          2,
          3,
          3,
          3,
          3.5,
          4,
          3.5,
          3.25,
          3.5,
          3.5,
          3.75,
          2.75,
          2.75,
          2.5,
          3.5,
          3.5,
          3,
          3.5,
          3.5,
          3.25,
          3.5,
          3.5,
          3.5,
          4,
          3,
          2.5,
          2.5,
          2.75,
          3.25,
          3,
          3,
          3,
          3,
          3.25,
          2.75,
          2.5,
          3,
          3,
          3.5,
          3.5,
          3.5,
          3.5,
          3,
          3,
          3.5,
          3,
          3,
          3.5,
          3,
          2.75,
          3.25,
          3.25,
          2.75,
          2.75,
          3.25,
          3.5,
          3.75,
          2.75,
          3,
          2.75,
          2.5,
          2.5,
          3,
          2,
          3.25,
          3.5,
          3.5,
          3.5,
          3.5,
          3.5,
          2.75,
          2.75,
          3,
          3,
          2.75,
          3,
          2.75,
          3,
          3,
          3.25,
          3.5,
          3,
          3,
          3.5,
          2.5,
          2.75,
          3,
          2.75,
          2,
          3,
          3,
          3.5,
          3.5,
          3.5,
          3.75,
          3,
          3.25,
          3.25,
          3,
          3.25,
          3.25,
          3.5,
          3.75,
          3.75,
          3,
          3.75,
          3.75,
          2,
          2.75,
          3.25,
          3.75,
          3.75,
          3,
          3.5,
          3,
          3.25,
          3.75,
          3.75,
          3.25,
          3.75,
          4,
          3.25,
          3.5,
          3,
          3.25,
          3.5,
          3.75,
          3.5,
          3.5,
          2.75,
          3.25,
          3.25,
          2.75,
          2.75,
          2.75,
          2.75,
          3,
          3,
          3.25,
          3.25,
          3.5,
          3.75,
          3,
          3,
          3,
          2.5,
          2.75,
          3,
          3,
          3.5,
          3.5,
          3.5,
          3.75,
          4,
          3,
          3.25,
          3.75,
          2,
          2.75,
          3.5,
          3.5,
          2.75,
          3.5,
          2.75,
          2.5,
          2.5,
          3.75,
          3.75,
          2.75,
          3,
          3.25,
          2,
          2.75,
          3,
          1,
          3.75,
          2.5,
          3,
          3,
          3.25,
          2.5,
          2,
          2.75,
          2.75,
          3,
          2.75,
          3,
          3,
          3,
          3,
          2.75,
          3,
          3,
          3.5,
          3.5,
          2.75,
          4,
          3.25,
          3.5,
          3.75,
          4,
          4,
          3.25,
          3.5,
          3.75,
          3.25,
          3,
          3.75,
          4,
          3.5,
          3.75,
          4,
          4,
          3,
          3,
          3,
          3,
          3.25,
          3.75,
          3.25,
          3,
          3,
          3.5,
          2.5,
          3,
          3,
          3,
          3,
          3.5,
          3.75,
          3.75,
          4,
          2,
          3.5,
          2,
          3.5,
          3.25,
          3,
          3,
          3,
          3,
          3,
          3.25,
          3.25,
          3.5,
          3.5,
          3.5,
          2.75,
          3.25,
          3.25,
          3.5,
          3.5,
          3.75,
          2.75,
          3,
          3.5,
          3.75,
          2.5,
          3.25,
          3.25,
          3.25,
          3.5,
          3.5,
          3.5,
          3.5,
          3.25,
          2,
          3,
          3.75,
          2.75,
          3,
          2.75,
          2,
          2,
          2,
          3,
          3.5,
          3,
          3,
          3,
          3.75,
          3,
          3.75,
          3.75,
          4,
          3.5,
          3.75,
          3.75,
          4,
          3,
          2.25,
          3,
          2.5,
          3,
          2.5,
          3,
          3,
          3.25,
          2.75,
          3,
          3.25,
          3.25,
          2.5,
          2.5,
          2.5,
          2.75,
          2.75,
          3,
          2,
          3,
          3.25,
          2.5,
          3,
          3,
          3.5,
          3.75,
          1.5,
          2.5,
          2.75,
          3,
          3.25,
          3.75,
          4,
          3.5,
          3.75,
          3.75,
          3.25,
          4,
          4,
          3.5,
          3.5,
          4,
          3.5,
          2.5,
          2.5,
          3,
          2.5,
          2.5,
          3,
          2.75,
          3,
          3.25,
          3.5,
          3.5,
          3.75,
          3.25,
          3.75
         ],
         "xaxis": "x",
         "yaxis": "y"
        }
       ],
       "layout": {
        "barmode": "overlay",
        "legend": {
         "title": {
          "text": "has lecithin"
         },
         "tracegroupgap": 0
        },
        "template": {
         "data": {
          "bar": [
           {
            "error_x": {
             "color": "#2a3f5f"
            },
            "error_y": {
             "color": "#2a3f5f"
            },
            "marker": {
             "line": {
              "color": "#E5ECF6",
              "width": 0.5
             },
             "pattern": {
              "fillmode": "overlay",
              "size": 10,
              "solidity": 0.2
             }
            },
            "type": "bar"
           }
          ],
          "barpolar": [
           {
            "marker": {
             "line": {
              "color": "#E5ECF6",
              "width": 0.5
             },
             "pattern": {
              "fillmode": "overlay",
              "size": 10,
              "solidity": 0.2
             }
            },
            "type": "barpolar"
           }
          ],
          "carpet": [
           {
            "aaxis": {
             "endlinecolor": "#2a3f5f",
             "gridcolor": "white",
             "linecolor": "white",
             "minorgridcolor": "white",
             "startlinecolor": "#2a3f5f"
            },
            "baxis": {
             "endlinecolor": "#2a3f5f",
             "gridcolor": "white",
             "linecolor": "white",
             "minorgridcolor": "white",
             "startlinecolor": "#2a3f5f"
            },
            "type": "carpet"
           }
          ],
          "choropleth": [
           {
            "colorbar": {
             "outlinewidth": 0,
             "ticks": ""
            },
            "type": "choropleth"
           }
          ],
          "contour": [
           {
            "colorbar": {
             "outlinewidth": 0,
             "ticks": ""
            },
            "colorscale": [
             [
              0,
              "#0d0887"
             ],
             [
              0.1111111111111111,
              "#46039f"
             ],
             [
              0.2222222222222222,
              "#7201a8"
             ],
             [
              0.3333333333333333,
              "#9c179e"
             ],
             [
              0.4444444444444444,
              "#bd3786"
             ],
             [
              0.5555555555555556,
              "#d8576b"
             ],
             [
              0.6666666666666666,
              "#ed7953"
             ],
             [
              0.7777777777777778,
              "#fb9f3a"
             ],
             [
              0.8888888888888888,
              "#fdca26"
             ],
             [
              1,
              "#f0f921"
             ]
            ],
            "type": "contour"
           }
          ],
          "contourcarpet": [
           {
            "colorbar": {
             "outlinewidth": 0,
             "ticks": ""
            },
            "type": "contourcarpet"
           }
          ],
          "heatmap": [
           {
            "colorbar": {
             "outlinewidth": 0,
             "ticks": ""
            },
            "colorscale": [
             [
              0,
              "#0d0887"
             ],
             [
              0.1111111111111111,
              "#46039f"
             ],
             [
              0.2222222222222222,
              "#7201a8"
             ],
             [
              0.3333333333333333,
              "#9c179e"
             ],
             [
              0.4444444444444444,
              "#bd3786"
             ],
             [
              0.5555555555555556,
              "#d8576b"
             ],
             [
              0.6666666666666666,
              "#ed7953"
             ],
             [
              0.7777777777777778,
              "#fb9f3a"
             ],
             [
              0.8888888888888888,
              "#fdca26"
             ],
             [
              1,
              "#f0f921"
             ]
            ],
            "type": "heatmap"
           }
          ],
          "heatmapgl": [
           {
            "colorbar": {
             "outlinewidth": 0,
             "ticks": ""
            },
            "colorscale": [
             [
              0,
              "#0d0887"
             ],
             [
              0.1111111111111111,
              "#46039f"
             ],
             [
              0.2222222222222222,
              "#7201a8"
             ],
             [
              0.3333333333333333,
              "#9c179e"
             ],
             [
              0.4444444444444444,
              "#bd3786"
             ],
             [
              0.5555555555555556,
              "#d8576b"
             ],
             [
              0.6666666666666666,
              "#ed7953"
             ],
             [
              0.7777777777777778,
              "#fb9f3a"
             ],
             [
              0.8888888888888888,
              "#fdca26"
             ],
             [
              1,
              "#f0f921"
             ]
            ],
            "type": "heatmapgl"
           }
          ],
          "histogram": [
           {
            "marker": {
             "pattern": {
              "fillmode": "overlay",
              "size": 10,
              "solidity": 0.2
             }
            },
            "type": "histogram"
           }
          ],
          "histogram2d": [
           {
            "colorbar": {
             "outlinewidth": 0,
             "ticks": ""
            },
            "colorscale": [
             [
              0,
              "#0d0887"
             ],
             [
              0.1111111111111111,
              "#46039f"
             ],
             [
              0.2222222222222222,
              "#7201a8"
             ],
             [
              0.3333333333333333,
              "#9c179e"
             ],
             [
              0.4444444444444444,
              "#bd3786"
             ],
             [
              0.5555555555555556,
              "#d8576b"
             ],
             [
              0.6666666666666666,
              "#ed7953"
             ],
             [
              0.7777777777777778,
              "#fb9f3a"
             ],
             [
              0.8888888888888888,
              "#fdca26"
             ],
             [
              1,
              "#f0f921"
             ]
            ],
            "type": "histogram2d"
           }
          ],
          "histogram2dcontour": [
           {
            "colorbar": {
             "outlinewidth": 0,
             "ticks": ""
            },
            "colorscale": [
             [
              0,
              "#0d0887"
             ],
             [
              0.1111111111111111,
              "#46039f"
             ],
             [
              0.2222222222222222,
              "#7201a8"
             ],
             [
              0.3333333333333333,
              "#9c179e"
             ],
             [
              0.4444444444444444,
              "#bd3786"
             ],
             [
              0.5555555555555556,
              "#d8576b"
             ],
             [
              0.6666666666666666,
              "#ed7953"
             ],
             [
              0.7777777777777778,
              "#fb9f3a"
             ],
             [
              0.8888888888888888,
              "#fdca26"
             ],
             [
              1,
              "#f0f921"
             ]
            ],
            "type": "histogram2dcontour"
           }
          ],
          "mesh3d": [
           {
            "colorbar": {
             "outlinewidth": 0,
             "ticks": ""
            },
            "type": "mesh3d"
           }
          ],
          "parcoords": [
           {
            "line": {
             "colorbar": {
              "outlinewidth": 0,
              "ticks": ""
             }
            },
            "type": "parcoords"
           }
          ],
          "pie": [
           {
            "automargin": true,
            "type": "pie"
           }
          ],
          "scatter": [
           {
            "fillpattern": {
             "fillmode": "overlay",
             "size": 10,
             "solidity": 0.2
            },
            "type": "scatter"
           }
          ],
          "scatter3d": [
           {
            "line": {
             "colorbar": {
              "outlinewidth": 0,
              "ticks": ""
             }
            },
            "marker": {
             "colorbar": {
              "outlinewidth": 0,
              "ticks": ""
             }
            },
            "type": "scatter3d"
           }
          ],
          "scattercarpet": [
           {
            "marker": {
             "colorbar": {
              "outlinewidth": 0,
              "ticks": ""
             }
            },
            "type": "scattercarpet"
           }
          ],
          "scattergeo": [
           {
            "marker": {
             "colorbar": {
              "outlinewidth": 0,
              "ticks": ""
             }
            },
            "type": "scattergeo"
           }
          ],
          "scattergl": [
           {
            "marker": {
             "colorbar": {
              "outlinewidth": 0,
              "ticks": ""
             }
            },
            "type": "scattergl"
           }
          ],
          "scattermapbox": [
           {
            "marker": {
             "colorbar": {
              "outlinewidth": 0,
              "ticks": ""
             }
            },
            "type": "scattermapbox"
           }
          ],
          "scatterpolar": [
           {
            "marker": {
             "colorbar": {
              "outlinewidth": 0,
              "ticks": ""
             }
            },
            "type": "scatterpolar"
           }
          ],
          "scatterpolargl": [
           {
            "marker": {
             "colorbar": {
              "outlinewidth": 0,
              "ticks": ""
             }
            },
            "type": "scatterpolargl"
           }
          ],
          "scatterternary": [
           {
            "marker": {
             "colorbar": {
              "outlinewidth": 0,
              "ticks": ""
             }
            },
            "type": "scatterternary"
           }
          ],
          "surface": [
           {
            "colorbar": {
             "outlinewidth": 0,
             "ticks": ""
            },
            "colorscale": [
             [
              0,
              "#0d0887"
             ],
             [
              0.1111111111111111,
              "#46039f"
             ],
             [
              0.2222222222222222,
              "#7201a8"
             ],
             [
              0.3333333333333333,
              "#9c179e"
             ],
             [
              0.4444444444444444,
              "#bd3786"
             ],
             [
              0.5555555555555556,
              "#d8576b"
             ],
             [
              0.6666666666666666,
              "#ed7953"
             ],
             [
              0.7777777777777778,
              "#fb9f3a"
             ],
             [
              0.8888888888888888,
              "#fdca26"
             ],
             [
              1,
              "#f0f921"
             ]
            ],
            "type": "surface"
           }
          ],
          "table": [
           {
            "cells": {
             "fill": {
              "color": "#EBF0F8"
             },
             "line": {
              "color": "white"
             }
            },
            "header": {
             "fill": {
              "color": "#C8D4E3"
             },
             "line": {
              "color": "white"
             }
            },
            "type": "table"
           }
          ]
         },
         "layout": {
          "annotationdefaults": {
           "arrowcolor": "#2a3f5f",
           "arrowhead": 0,
           "arrowwidth": 1
          },
          "autotypenumbers": "strict",
          "coloraxis": {
           "colorbar": {
            "outlinewidth": 0,
            "ticks": ""
           }
          },
          "colorscale": {
           "diverging": [
            [
             0,
             "#8e0152"
            ],
            [
             0.1,
             "#c51b7d"
            ],
            [
             0.2,
             "#de77ae"
            ],
            [
             0.3,
             "#f1b6da"
            ],
            [
             0.4,
             "#fde0ef"
            ],
            [
             0.5,
             "#f7f7f7"
            ],
            [
             0.6,
             "#e6f5d0"
            ],
            [
             0.7,
             "#b8e186"
            ],
            [
             0.8,
             "#7fbc41"
            ],
            [
             0.9,
             "#4d9221"
            ],
            [
             1,
             "#276419"
            ]
           ],
           "sequential": [
            [
             0,
             "#0d0887"
            ],
            [
             0.1111111111111111,
             "#46039f"
            ],
            [
             0.2222222222222222,
             "#7201a8"
            ],
            [
             0.3333333333333333,
             "#9c179e"
            ],
            [
             0.4444444444444444,
             "#bd3786"
            ],
            [
             0.5555555555555556,
             "#d8576b"
            ],
            [
             0.6666666666666666,
             "#ed7953"
            ],
            [
             0.7777777777777778,
             "#fb9f3a"
            ],
            [
             0.8888888888888888,
             "#fdca26"
            ],
            [
             1,
             "#f0f921"
            ]
           ],
           "sequentialminus": [
            [
             0,
             "#0d0887"
            ],
            [
             0.1111111111111111,
             "#46039f"
            ],
            [
             0.2222222222222222,
             "#7201a8"
            ],
            [
             0.3333333333333333,
             "#9c179e"
            ],
            [
             0.4444444444444444,
             "#bd3786"
            ],
            [
             0.5555555555555556,
             "#d8576b"
            ],
            [
             0.6666666666666666,
             "#ed7953"
            ],
            [
             0.7777777777777778,
             "#fb9f3a"
            ],
            [
             0.8888888888888888,
             "#fdca26"
            ],
            [
             1,
             "#f0f921"
            ]
           ]
          },
          "colorway": [
           "#636efa",
           "#EF553B",
           "#00cc96",
           "#ab63fa",
           "#FFA15A",
           "#19d3f3",
           "#FF6692",
           "#B6E880",
           "#FF97FF",
           "#FECB52"
          ],
          "font": {
           "color": "#2a3f5f"
          },
          "geo": {
           "bgcolor": "white",
           "lakecolor": "white",
           "landcolor": "#E5ECF6",
           "showlakes": true,
           "showland": true,
           "subunitcolor": "white"
          },
          "hoverlabel": {
           "align": "left"
          },
          "hovermode": "closest",
          "mapbox": {
           "style": "light"
          },
          "paper_bgcolor": "white",
          "plot_bgcolor": "#E5ECF6",
          "polar": {
           "angularaxis": {
            "gridcolor": "white",
            "linecolor": "white",
            "ticks": ""
           },
           "bgcolor": "#E5ECF6",
           "radialaxis": {
            "gridcolor": "white",
            "linecolor": "white",
            "ticks": ""
           }
          },
          "scene": {
           "xaxis": {
            "backgroundcolor": "#E5ECF6",
            "gridcolor": "white",
            "gridwidth": 2,
            "linecolor": "white",
            "showbackground": true,
            "ticks": "",
            "zerolinecolor": "white"
           },
           "yaxis": {
            "backgroundcolor": "#E5ECF6",
            "gridcolor": "white",
            "gridwidth": 2,
            "linecolor": "white",
            "showbackground": true,
            "ticks": "",
            "zerolinecolor": "white"
           },
           "zaxis": {
            "backgroundcolor": "#E5ECF6",
            "gridcolor": "white",
            "gridwidth": 2,
            "linecolor": "white",
            "showbackground": true,
            "ticks": "",
            "zerolinecolor": "white"
           }
          },
          "shapedefaults": {
           "line": {
            "color": "#2a3f5f"
           }
          },
          "ternary": {
           "aaxis": {
            "gridcolor": "white",
            "linecolor": "white",
            "ticks": ""
           },
           "baxis": {
            "gridcolor": "white",
            "linecolor": "white",
            "ticks": ""
           },
           "bgcolor": "#E5ECF6",
           "caxis": {
            "gridcolor": "white",
            "linecolor": "white",
            "ticks": ""
           }
          },
          "title": {
           "x": 0.05
          },
          "xaxis": {
           "automargin": true,
           "gridcolor": "white",
           "linecolor": "white",
           "ticks": "",
           "title": {
            "standoff": 15
           },
           "zerolinecolor": "white",
           "zerolinewidth": 2
          },
          "yaxis": {
           "automargin": true,
           "gridcolor": "white",
           "linecolor": "white",
           "ticks": "",
           "title": {
            "standoff": 15
           },
           "zerolinecolor": "white",
           "zerolinewidth": 2
          }
         }
        },
        "title": {
         "text": "Distirbution of ratings by bars with/without lecithin"
        },
        "xaxis": {
         "anchor": "y",
         "domain": [
          0,
          1
         ],
         "title": {
          "text": "rating"
         }
        },
        "yaxis": {
         "anchor": "x",
         "domain": [
          0,
          1
         ],
         "title": {
          "text": "number of ratings"
         }
        }
       }
      },
      "text/html": [
       "<div>                            <div id=\"94da2415-a26b-4906-8f03-89203f027922\" class=\"plotly-graph-div\" style=\"height:525px; width:100%;\"></div>            <script type=\"text/javascript\">                require([\"plotly\"], function(Plotly) {                    window.PLOTLYENV=window.PLOTLYENV || {};                                    if (document.getElementById(\"94da2415-a26b-4906-8f03-89203f027922\")) {                    Plotly.newPlot(                        \"94da2415-a26b-4906-8f03-89203f027922\",                        [{\"alignmentgroup\":\"True\",\"bingroup\":\"x\",\"hovertemplate\":\"has lecithin=False<br>rating=%{x}<br>count=%{y}<extra></extra>\",\"legendgroup\":\"False\",\"marker\":{\"color\":\"#636efa\",\"opacity\":0.5,\"pattern\":{\"shape\":\"\"}},\"name\":\"False\",\"nbinsx\":10,\"offsetgroup\":\"False\",\"orientation\":\"v\",\"showlegend\":true,\"x\":[3.25,3.5,3.75,3.0,3.0,3.25,3.5,4.0,3.75,3.75,3.25,3.5,2.75,3.25,3.5,3.5,2.5,2.75,2.75,3.0,2.75,3.0,3.0,2.75,3.0,3.5,3.5,3.5,3.5,2.5,2.5,2.75,2.75,3.0,3.0,3.0,3.5,3.75,2.75,3.0,3.0,3.75,4.0,4.0,2.75,2.75,3.0,3.0,3.0,3.5,3.25,3.5,3.25,3.25,3.25,3.25,3.5,3.75,3.0,3.0,3.5,3.5,3.5,3.75,3.75,3.0,3.0,3.0,3.5,2.75,3.0,3.5,3.0,3.25,2.5,2.75,3.0,3.0,2.75,3.25,3.5,3.5,3.5,3.5,3.75,3.75,4.0,3.25,3.25,3.25,3.25,3.5,3.5,3.5,3.5,3.75,3.75,3.75,4.0,4.0,3.5,3.5,3.5,3.5,4.0,4.0,3.0,4.0,3.0,3.25,3.0,3.25,3.5,3.5,3.75,1.75,2.5,2.75,3.0,3.0,3.25,1.75,3.25,3.25,3.5,3.75,2.75,4.0,3.75,3.25,2.5,3.0,3.75,3.75,3.75,3.75,3.0,3.0,3.5,2.5,3.0,2.5,2.5,3.0,3.25,3.5,3.0,2.75,3.5,2.5,2.75,3.25,3.25,3.5,3.75,4.0,3.5,3.5,3.5,2.75,3.25,3.5,3.75,2.25,3.0,3.25,2.75,2.75,2.75,2.75,3.25,3.5,3.5,3.25,3.75,2.75,3.0,3.5,3.75,4.0,3.5,3.5,3.5,4.0,3.25,3.25,3.5,3.5,3.0,3.0,3.5,4.0,2.5,2.5,2.5,3.25,3.0,3.0,3.5,3.75,3.0,3.25,3.5,3.5,2.75,3.0,3.0,3.25,3.75,3.5,3.0,3.0,3.25,2.75,2.75,2.75,3.0,3.25,3.25,2.75,3.5,3.5,3.75,2.75,3.0,3.5,3.5,2.75,2.5,2.75,3.25,1.5,3.0,3.75,3.75,3.75,4.0,4.0,2.5,4.0,2.75,3.0,3.0,3.0,3.25,3.5,3.5,3.5,3.5,3.75,4.0,4.0,3.25,3.5,3.25,3.75,4.0,3.5,4.0,4.0,3.75,1.5,3.25,2.75,2.75,3.5,3.75,4.0,3.0,3.75,4.0,3.75,3.5,3.75,3.25,3.75,2.75,3.0,3.25,3.25,3.25,3.5,3.0,2.75,3.0,3.5,3.5,3.25,2.75,2.5,3.0,2.5,3.25,3.25,3.25,3.5,3.0,3.25,3.5,2.5,2.25,2.5,2.75,2.5,2.5,3.0,3.75,2.5,3.25,3.5,3.75,3.25,3.25,3.5,2.75,2.5,3.0,3.0,3.75,3.75,3.75,3.0,3.25,3.75,3.75,2.75,2.75,3.0,3.0,3.25,3.5,3.0,3.25,3.5,3.5,3.5,3.5,4.0,1.0,2.75,2.25,2.5,3.0,3.5,2.5,3.0,3.5,2.5,2.75,3.0,3.0,3.25,3.5,3.75,3.0,3.25,3.25,3.25,2.75,3.0,3.25,3.5,3.5,3.0,3.25,3.25,3.5,3.5,2.0,3.0,3.25,2.5,2.75,3.0,3.0,3.25,3.25,3.5,2.75,3.5,3.5,3.5,3.5,3.75,4.0,3.25,3.5,3.75,4.0,4.0,2.5,2.75,2.75,3.0,2.75,2.75,3.0,3.0,3.25,3.0,3.5,3.25,3.0,2.75,3.5,3.0,3.5,3.25,3.25,3.5,3.25,3.0,3.25,2.75,3.5,2.5,3.25,2.5,2.5,2.75,3.0,3.75,3.75,2.5,2.5,2.5,2.75,2.75,3.0,3.0,3.0,3.25,2.75,3.25,3.5,3.75,2.5,2.75,3.25,3.75,3.75,3.75,2.75,3.25,3.0,2.5,2.5,2.75,2.75,3.0,3.25,3.25,3.25,3.25,3.5,2.5,2.5,2.5,2.75,3.0,3.0,3.0,3.5,3.75,3.75,4.0,3.5,3.75,2.75,3.75,3.0,3.25,3.5,3.5,3.75,4.0,3.75,2.75,1.0,3.0,3.75,3.75,3.5,3.5,3.5,3.5,2.25,3.0,3.25,3.25,2.75,2.75,3.25,3.75,3.25,3.5,2.75,2.5,2.5,3.25,3.5,3.0,3.0,3.0,3.0,3.25,3.5,3.75,2.5,3.0,3.0,3.25,3.25,3.25,1.5,3.5,3.5,3.75,3.75,1.0,3.25,3.25,3.25,3.25,3.5,2.5,2.75,3.25,3.75,3.25,3.25,3.25,3.5,3.75,3.25,3.5,3.5,3.5,3.75,2.75,2.75,2.25,2.75,3.0,3.5,3.0,3.25,3.75,2.75,3.25,3.5,3.5,2.75,3.5,3.5,3.75,3.0,3.75,3.0,3.0,3.25,3.5,3.5,2.75,2.75,3.25,3.25,3.5,3.5,4.0,3.25,3.25,3.25,3.0,3.0,3.25,3.5,3.0,3.25,3.75,3.75,4.0,3.25,2.75,3.0,3.25,3.0,3.0,3.25,3.25,3.25,3.5,3.5,2.5,3.0,2.5,3.0,3.0,3.0,3.0,3.0,3.75,3.0,2.5,2.5,3.0,2.5,3.0,3.5,3.5,2.75,2.75,2.75,3.0,3.25,2.75,3.25,3.5,3.5,3.75,3.5,3.75,3.75,4.0,3.75,3.75,4.0,3.5,3.75,4.0,3.25,3.25,3.5,3.0,3.75,3.0,3.25,3.5,3.25,3.25,3.5,3.5,3.75,4.0,4.0,4.0,3.0,3.0,3.5,3.75,3.0,3.5,3.5,3.75,3.0,3.75,3.75,4.0,2.5,2.75,2.75,2.75,2.75,3.5,3.5,3.25,2.5,2.75,3.0,2.5,3.5,3.75,3.75,3.0,3.25,3.5,3.5,3.75,3.75,3.25,2.75,3.25,3.25,3.5,3.5,4.0,4.0,3.25,3.5,3.75,3.25,3.25,2.75,3.5,3.0,3.0,3.0,3.5,2.75,3.25,3.0,3.5,3.25,3.5,3.5,3.5,3.25,3.0,2.5,3.0,3.5,3.25,3.0,3.25,3.25,3.0,2.0,2.75,3.5,2.75,3.0,3.5,2.5,2.5,2.5,2.5,2.75,3.0,3.5,3.75,3.5,3.0,3.0,2.75,2.5,2.75,3.0,2.25,2.5,3.0,3.25,2.75,2.75,3.0,3.25,2.75,2.75,3.0,3.5,3.0,3.5,3.5,2.75,2.75,3.5,3.75,2.75,3.0,3.0,3.25,3.5,3.0,3.5,3.5,3.5,3.0,3.0,3.0,3.0,3.25,3.75,3.75,3.5,3.75,3.5,3.75,3.0,3.0,3.25,3.5,3.5,3.5,2.0,2.5,3.5,3.5,3.0,3.25,3.5,3.5,3.25,2.75,3.0,3.25,3.5,2.75,2.75,3.0,3.25,3.25,3.25,3.5,3.5,4.0,3.0,3.5,3.5,4.0,4.0,3.25,3.75,3.75,4.0,3.0,3.5,3.5,3.5,3.5,3.5,3.75,3.25,3.5,3.0,3.25,3.25,3.5,3.5,3.5,3.75,4.0,3.5,3.75,3.5,3.5,4.0,3.5,3.75,3.0,3.0,3.25,3.25,3.5,3.5,3.75,3.75,3.75,4.0,4.0,3.25,3.5,3.5,3.25,3.25,3.25,3.75,3.25,3.5,3.5,3.0,3.25,3.0,3.25,2.5,3.0,3.75,3.0,3.75,3.75,4.0,3.5,3.75,3.25,3.75,3.75,2.5,3.0,3.0,3.5,2.5,3.5,3.5,2.75,2.75,3.0,3.5,2.75,3.25,3.25,3.25,2.5,3.0,3.75,2.75,3.0,3.25,3.25,3.5,3.5,3.5,3.5,3.5,2.5,3.0,2.0,2.75,2.75,2.75,3.0,3.0,3.25,3.25,3.5,2.5,3.0,3.0,3.5,3.5,3.25,3.0,3.0,3.25,2.75,3.25,3.5,3.5,3.25,3.5,3.0,3.5,3.75,3.75,3.5,3.5,3.5,3.75,4.0,2.75,3.5,2.75,3.25,2.75,3.0,3.0,3.25,3.25,2.25,2.5,2.75,3.0,3.5,2.75,2.75,3.25,3.5,3.25,3.5,2.5,3.0,2.5,2.75,3.5,3.75,2.5,1.75,4.0,2.75,2.5,3.0,2.75,3.0,2.5,2.75,2.75,3.0,3.5,3.25,3.75,3.0,3.0,3.0,3.5,3.75,3.5,3.25,3.5,3.75,3.75,3.75,4.0,4.0,4.0,4.0,3.75,3.0,3.25,2.25,3.25,3.25,3.5,2.75,3.5,3.25,3.5,2.75,2.75,3.0,3.5,3.5,3.75,3.75,3.0,3.5,3.0,3.0,3.25,3.75,2.5,2.5,2.5,2.75,2.75,3.0,3.0,3.0,3.5,2.75,2.75,3.25,3.5,3.75,3.25,3.0,3.0,3.0,3.25,3.0,3.25,3.75,3.0,3.25,2.5,2.75,3.0,3.25,3.25,3.25,3.25,2.5,2.5,3.0,3.0,3.0,2.25,2.5,3.0,3.0,3.0,3.0,3.25,3.5,3.5,3.5,2.5,3.25,3.0,3.5,3.5,3.5,2.5,3.5,3.0,3.25,3.5,3.75,2.75,3.25,3.5,3.5,3.0,3.25,3.25,3.5,3.5,3.25,3.25,3.5,4.0,3.75,3.25,3.25,3.5,3.75,3.5,3.0,2.75,3.0,3.5,3.5,3.5,3.75,3.0,2.5,3.0,3.0,3.0,3.0,3.5,3.25,3.75,3.75,2.75,3.0,2.0,2.5,3.0,3.25,3.5,3.25,3.0,3.25,3.25,3.0,3.25,3.25,3.25,3.5,2.25,1.5,2.5,2.75,2.5,2.75,2.5,2.75,3.25,3.25,3.5,2.75,2.75,2.75,3.5,3.5,2.0,2.75,3.0,3.75,2.5,2.75,2.5,2.75,3.0,3.25,3.25,3.75,3.5,3.75,3.25,3.5,3.25,3.25,3.5,3.5,3.75,3.5,3.75,2.75,2.75,3.0,3.5,3.5,3.5,3.5,3.5,3.5,3.25,3.0,3.0,3.25,3.5,2.75,3.25,3.5,2.75,2.75,3.25,3.25,2.75,3.0,3.5,3.5,3.5,3.5,3.5,3.5,3.25,3.5,3.75,3.5,3.0,3.0,3.25,3.5,2.25,2.5,2.75,3.0,3.25,2.75,3.0,3.25,2.75,2.75,3.0,3.0,3.0,3.25,3.5,3.5,3.75,2.5,2.75,3.5,3.75,3.0,3.25,3.5,3.75,4.0,4.0,3.5,3.25,3.25,3.25,3.5,3.0,3.0,3.25,3.0,2.5,3.25,2.5,2.75,3.0,3.0,3.5,2.5,2.75,3.25,3.25,3.25,3.25,3.5,3.5,2.75,3.0,2.5,3.0,3.5,3.25,3.75,3.5,3.5,2.0,2.0,2.0,3.0,3.75,3.75,3.75,3.5,3.5,3.75,3.25,3.0,3.5,1.5,2.0,2.5,2.5,3.25,3.25,3.5,3.5,3.5,3.75,3.75,3.0,3.25,3.25,3.5,3.5,2.5,3.0,3.0,3.0,2.75,3.0,3.0,3.0,3.25,3.5,3.75,2.75,2.75,3.5,3.0,3.25,3.5,3.5,3.75,3.5,3.5,3.75,3.0,2.5,2.75,3.0,3.25,2.5,3.0,3.0,3.5,3.75,2.75,3.25,2.75,3.0,3.25,2.75,2.75,3.25,3.5,3.5,3.25,3.25,3.5,3.75,3.25,3.5,3.5,3.0,3.5,3.5,3.5,2.75,2.75,2.75,3.0,2.5,3.0,2.5,2.75,3.25,3.5,2.25,2.5,2.5,3.5,3.25,2.25,2.75,3.0,3.0,3.0,2.75,3.5,3.75,3.0,2.75,3.0,3.0,2.75,3.25,3.0,3.0,2.75,3.0,3.25,2.75,3.0,3.5,3.75,3.75,3.0,3.25,3.5,3.75,3.75,3.75,4.0,2.75,3.0,3.25,3.5,2.75,3.5,3.0,3.0,3.25,3.25,3.25,3.75,3.75,3.0,3.0,3.25,3.25,3.5,3.75,2.75,3.0,3.5,3.75,2.75,3.0,3.0,3.0,3.0,3.5,3.75,3.0,3.25,3.25,3.5,2.75,3.25,3.25,3.5,2.75,2.75,2.75,3.0,3.0,3.0,3.0,3.0,3.25,3.75,2.75,3.25,2.0,2.75,2.75,3.5,3.75,3.75,3.25,3.25,3.5,3.75,2.75,3.0,2.75,2.75,3.5,3.5,3.0,2.75,3.0,3.25,3.25,3.25,3.5,3.5,3.0,3.5,3.5,3.25,2.75,2.75,3.0,2.5,2.75,4.0,3.5,3.5,4.0,3.75,4.0,2.25,2.75,3.0,3.0,3.0,3.5,3.5,2.5,3.25,3.25,3.5,2.5,2.75,2.75,2.75,3.25,3.0,3.0,3.25,2.5,2.75,2.75,3.0,3.0,3.75,2.75,3.0,3.5,3.5,3.75,3.75,4.0,3.75,3.75,3.0,3.25,3.25,3.25,2.75,2.75,2.75,3.0,3.25,2.75,3.5,3.5,3.5,3.75,3.25,3.0,3.25,2.75,3.25,3.25,3.5,3.0,3.75,3.5,4.0,3.75,2.75,3.0,3.5,3.25,2.75,3.0,3.25,3.5,3.0,2.5,3.25,3.5,3.25,3.25,3.5,3.75,3.75,3.5,3.5,3.5,2.5,3.5,3.25,3.5,4.0,3.0,3.75,3.5,3.5,3.75,3.75,3.5,3.5,3.5,3.0,2.5,2.5,3.25,3.25,3.25,3.5,2.75,2.75,3.0,3.0,3.5,3.75,3.0,3.75,3.5,3.5,3.75,4.0,3.75,3.25,3.75,3.75,2.5,2.75,3.5,3.5,2.25,2.5,2.5,3.75,3.75,2.75,3.0,3.5,2.75,3.5,1.5,3.0,3.5,3.5,3.5,2.75,3.25,2.75,2.75,2.75,3.0,3.25,2.75,3.5,3.25,3.5,3.5,3.5,3.0,3.0,3.5,3.0,3.25,2.75,3.25,3.5,3.5,2.0,2.5,3.5,3.25,3.25,3.5,2.5,3.0,3.0,3.25,3.25,3.75,3.75,3.75,3.0,3.0,3.0,3.25,3.25,3.5,3.5,3.75,3.75,3.0,3.25,2.75,3.0,2.75,3.0,3.25,3.5,3.5,3.75,3.75,3.75,4.0,3.0,3.25,3.75,3.75,3.75,4.0,3.5,3.5,3.0,3.25,1.5,3.25,2.75,3.0,3.5,2.75,2.75,2.5,3.25,3.25,3.0,3.0,3.25,3.25,3.5,3.0,3.25,3.25,3.5,3.0,3.0,3.5,3.5,3.75,3.75,3.75,2.75,3.5,3.5,3.75,4.0,4.0,3.25,3.5,3.5,3.5,3.75,3.75,4.0,4.0,2.75,3.25,3.25,3.25,3.75,3.75,3.75,4.0,4.0,4.0,4.0,3.25,3.25,3.5,3.5,3.75,3.75,3.5,4.0,3.25,3.5,3.5,3.5,3.75,3.75,4.0,3.25,4.0,3.0,4.0,4.0,3.25,3.5,3.5,4.0,3.25,3.5,3.25,3.25,3.25,3.5,3.5,3.5,3.0,3.0,3.25,2.75,3.5,3.75,3.75,2.75,3.5,3.75,3.25,3.5,3.5,3.0,3.0,3.0,3.0,3.0,3.25,2.75,3.5,3.5,2.5,2.5,2.5,2.75,2.75,3.25,2.75,3.0,2.75,2.75,3.0,3.0,3.5,3.75,2.75,3.0,3.25,3.25,3.0,3.25,3.25,3.75,3.25,3.5,3.5,3.5,3.75,3.25,3.25,3.25,3.25,3.5,3.75,2.5,2.75,2.75,3.0,2.75,3.0,3.25,3.0,3.25,4.0,3.0,3.0,3.25,2.75,3.0,2.75,3.25,3.0,3.25,2.0,2.75,2.75,2.75,3.0,3.0,3.0,3.0,3.25,3.25,3.25,3.25,3.5,3.5,3.25,3.75,3.75,2.75,3.25,3.5,3.75,3.75,3.75,2.75,3.0,3.25,3.0,2.0,2.5,3.0,3.0,3.5,3.25,3.25,3.5,3.75,2.75,3.25,3.25,4.0,2.75,3.0,3.0,2.75,3.0,3.5,2.75,3.5,3.0,2.75,3.25,3.25,3.25,3.75,3.25,3.0,3.5,2.75,2.75,3.0,3.5,2.75,2.5,3.25,3.5,2.75,3.5,3.25,3.0,3.75,2.75,3.0,3.25,2.75,3.0,3.0,3.25,3.25,3.75,3.75,3.5,3.25,2.5,2.75,2.75,2.75,2.75,3.0,3.0,3.25,3.25,3.25,2.75,3.0,3.25,3.25,3.75,3.25,3.5,3.5,2.75,3.0,3.5,3.5,3.0,2.0,2.0,3.0,3.0,2.75,2.75,3.0,3.0,3.25,3.5,3.5,3.0,3.0,3.0,3.5,3.5,3.75,3.75,2.5,2.5,2.75,2.75,3.25,3.0,3.25,3.0,3.5,3.75,2.25,3.0,4.0,3.0,3.5,3.75,3.25,3.5,3.5,3.5,4.0,2.5,3.0,3.25,3.25,3.5,3.0,3.0,3.25,3.5,3.5,2.5,2.75,3.25,3.5,3.5,3.0,3.0,3.0,3.25,3.25,3.25,3.5,2.75,2.75,3.0,3.5,3.5,3.5,3.0,3.0,3.25,3.75,3.0,3.0,3.25,3.5,3.75,3.0,3.0,3.0,3.25,3.25,3.5,3.5,3.5,3.5,3.75,3.75,2.75,3.75,3.0,3.25,3.5],\"xaxis\":\"x\",\"yaxis\":\"y\",\"type\":\"histogram\"},{\"alignmentgroup\":\"True\",\"bingroup\":\"x\",\"hovertemplate\":\"has lecithin=True<br>rating=%{x}<br>count=%{y}<extra></extra>\",\"legendgroup\":\"True\",\"marker\":{\"color\":\"#EF553B\",\"opacity\":0.5,\"pattern\":{\"shape\":\"\"}},\"name\":\"True\",\"nbinsx\":10,\"offsetgroup\":\"True\",\"orientation\":\"v\",\"showlegend\":true,\"x\":[3.5,3.75,2.75,2.75,3.0,3.0,3.25,3.25,3.25,3.5,3.75,4.0,2.75,3.5,3.5,3.75,4.0,2.75,3.0,3.5,3.5,3.75,3.5,3.75,4.0,2.75,2.75,3.75,2.5,2.5,2.75,3.5,2.5,3.0,3.0,3.25,3.25,3.0,2.75,3.75,3.75,4.0,3.25,2.75,3.25,3.25,3.5,3.0,2.75,2.75,2.75,2.75,3.5,3.0,3.0,3.0,2.75,3.0,3.0,3.5,3.75,2.75,3.0,3.25,3.5,3.5,3.0,3.5,3.75,2.0,3.0,2.0,3.0,3.5,2.75,3.25,3.5,3.5,3.5,4.0,4.0,3.25,3.5,3.5,3.5,3.75,4.0,3.5,1.5,2.5,3.5,3.5,3.25,3.25,3.5,3.75,2.0,2.5,2.75,3.0,3.25,3.5,2.5,2.5,3.0,3.5,3.25,3.25,3.25,3.5,2.75,3.0,3.25,3.25,2.5,2.5,3.0,3.5,3.0,3.25,3.25,2.5,2.75,2.75,2.5,2.75,3.0,3.0,1.5,3.0,3.5,3.75,4.0,2.75,3.25,3.5,3.5,2.75,3.75,2.75,2.5,2.5,3.0,2.75,3.0,3.75,2.0,3.0,3.0,3.0,3.5,4.0,3.5,3.25,3.5,3.5,3.75,2.75,2.75,2.5,3.5,3.5,3.0,3.5,3.5,3.25,3.5,3.5,3.5,4.0,3.0,2.5,2.5,2.75,3.25,3.0,3.0,3.0,3.0,3.25,2.75,2.5,3.0,3.0,3.5,3.5,3.5,3.5,3.0,3.0,3.5,3.0,3.0,3.5,3.0,2.75,3.25,3.25,2.75,2.75,3.25,3.5,3.75,2.75,3.0,2.75,2.5,2.5,3.0,2.0,3.25,3.5,3.5,3.5,3.5,3.5,2.75,2.75,3.0,3.0,2.75,3.0,2.75,3.0,3.0,3.25,3.5,3.0,3.0,3.5,2.5,2.75,3.0,2.75,2.0,3.0,3.0,3.5,3.5,3.5,3.75,3.0,3.25,3.25,3.0,3.25,3.25,3.5,3.75,3.75,3.0,3.75,3.75,2.0,2.75,3.25,3.75,3.75,3.0,3.5,3.0,3.25,3.75,3.75,3.25,3.75,4.0,3.25,3.5,3.0,3.25,3.5,3.75,3.5,3.5,2.75,3.25,3.25,2.75,2.75,2.75,2.75,3.0,3.0,3.25,3.25,3.5,3.75,3.0,3.0,3.0,2.5,2.75,3.0,3.0,3.5,3.5,3.5,3.75,4.0,3.0,3.25,3.75,2.0,2.75,3.5,3.5,2.75,3.5,2.75,2.5,2.5,3.75,3.75,2.75,3.0,3.25,2.0,2.75,3.0,1.0,3.75,2.5,3.0,3.0,3.25,2.5,2.0,2.75,2.75,3.0,2.75,3.0,3.0,3.0,3.0,2.75,3.0,3.0,3.5,3.5,2.75,4.0,3.25,3.5,3.75,4.0,4.0,3.25,3.5,3.75,3.25,3.0,3.75,4.0,3.5,3.75,4.0,4.0,3.0,3.0,3.0,3.0,3.25,3.75,3.25,3.0,3.0,3.5,2.5,3.0,3.0,3.0,3.0,3.5,3.75,3.75,4.0,2.0,3.5,2.0,3.5,3.25,3.0,3.0,3.0,3.0,3.0,3.25,3.25,3.5,3.5,3.5,2.75,3.25,3.25,3.5,3.5,3.75,2.75,3.0,3.5,3.75,2.5,3.25,3.25,3.25,3.5,3.5,3.5,3.5,3.25,2.0,3.0,3.75,2.75,3.0,2.75,2.0,2.0,2.0,3.0,3.5,3.0,3.0,3.0,3.75,3.0,3.75,3.75,4.0,3.5,3.75,3.75,4.0,3.0,2.25,3.0,2.5,3.0,2.5,3.0,3.0,3.25,2.75,3.0,3.25,3.25,2.5,2.5,2.5,2.75,2.75,3.0,2.0,3.0,3.25,2.5,3.0,3.0,3.5,3.75,1.5,2.5,2.75,3.0,3.25,3.75,4.0,3.5,3.75,3.75,3.25,4.0,4.0,3.5,3.5,4.0,3.5,2.5,2.5,3.0,2.5,2.5,3.0,2.75,3.0,3.25,3.5,3.5,3.75,3.25,3.75],\"xaxis\":\"x\",\"yaxis\":\"y\",\"type\":\"histogram\"}],                        {\"template\":{\"data\":{\"histogram2dcontour\":[{\"type\":\"histogram2dcontour\",\"colorbar\":{\"outlinewidth\":0,\"ticks\":\"\"},\"colorscale\":[[0.0,\"#0d0887\"],[0.1111111111111111,\"#46039f\"],[0.2222222222222222,\"#7201a8\"],[0.3333333333333333,\"#9c179e\"],[0.4444444444444444,\"#bd3786\"],[0.5555555555555556,\"#d8576b\"],[0.6666666666666666,\"#ed7953\"],[0.7777777777777778,\"#fb9f3a\"],[0.8888888888888888,\"#fdca26\"],[1.0,\"#f0f921\"]]}],\"choropleth\":[{\"type\":\"choropleth\",\"colorbar\":{\"outlinewidth\":0,\"ticks\":\"\"}}],\"histogram2d\":[{\"type\":\"histogram2d\",\"colorbar\":{\"outlinewidth\":0,\"ticks\":\"\"},\"colorscale\":[[0.0,\"#0d0887\"],[0.1111111111111111,\"#46039f\"],[0.2222222222222222,\"#7201a8\"],[0.3333333333333333,\"#9c179e\"],[0.4444444444444444,\"#bd3786\"],[0.5555555555555556,\"#d8576b\"],[0.6666666666666666,\"#ed7953\"],[0.7777777777777778,\"#fb9f3a\"],[0.8888888888888888,\"#fdca26\"],[1.0,\"#f0f921\"]]}],\"heatmap\":[{\"type\":\"heatmap\",\"colorbar\":{\"outlinewidth\":0,\"ticks\":\"\"},\"colorscale\":[[0.0,\"#0d0887\"],[0.1111111111111111,\"#46039f\"],[0.2222222222222222,\"#7201a8\"],[0.3333333333333333,\"#9c179e\"],[0.4444444444444444,\"#bd3786\"],[0.5555555555555556,\"#d8576b\"],[0.6666666666666666,\"#ed7953\"],[0.7777777777777778,\"#fb9f3a\"],[0.8888888888888888,\"#fdca26\"],[1.0,\"#f0f921\"]]}],\"heatmapgl\":[{\"type\":\"heatmapgl\",\"colorbar\":{\"outlinewidth\":0,\"ticks\":\"\"},\"colorscale\":[[0.0,\"#0d0887\"],[0.1111111111111111,\"#46039f\"],[0.2222222222222222,\"#7201a8\"],[0.3333333333333333,\"#9c179e\"],[0.4444444444444444,\"#bd3786\"],[0.5555555555555556,\"#d8576b\"],[0.6666666666666666,\"#ed7953\"],[0.7777777777777778,\"#fb9f3a\"],[0.8888888888888888,\"#fdca26\"],[1.0,\"#f0f921\"]]}],\"contourcarpet\":[{\"type\":\"contourcarpet\",\"colorbar\":{\"outlinewidth\":0,\"ticks\":\"\"}}],\"contour\":[{\"type\":\"contour\",\"colorbar\":{\"outlinewidth\":0,\"ticks\":\"\"},\"colorscale\":[[0.0,\"#0d0887\"],[0.1111111111111111,\"#46039f\"],[0.2222222222222222,\"#7201a8\"],[0.3333333333333333,\"#9c179e\"],[0.4444444444444444,\"#bd3786\"],[0.5555555555555556,\"#d8576b\"],[0.6666666666666666,\"#ed7953\"],[0.7777777777777778,\"#fb9f3a\"],[0.8888888888888888,\"#fdca26\"],[1.0,\"#f0f921\"]]}],\"surface\":[{\"type\":\"surface\",\"colorbar\":{\"outlinewidth\":0,\"ticks\":\"\"},\"colorscale\":[[0.0,\"#0d0887\"],[0.1111111111111111,\"#46039f\"],[0.2222222222222222,\"#7201a8\"],[0.3333333333333333,\"#9c179e\"],[0.4444444444444444,\"#bd3786\"],[0.5555555555555556,\"#d8576b\"],[0.6666666666666666,\"#ed7953\"],[0.7777777777777778,\"#fb9f3a\"],[0.8888888888888888,\"#fdca26\"],[1.0,\"#f0f921\"]]}],\"mesh3d\":[{\"type\":\"mesh3d\",\"colorbar\":{\"outlinewidth\":0,\"ticks\":\"\"}}],\"scatter\":[{\"fillpattern\":{\"fillmode\":\"overlay\",\"size\":10,\"solidity\":0.2},\"type\":\"scatter\"}],\"parcoords\":[{\"type\":\"parcoords\",\"line\":{\"colorbar\":{\"outlinewidth\":0,\"ticks\":\"\"}}}],\"scatterpolargl\":[{\"type\":\"scatterpolargl\",\"marker\":{\"colorbar\":{\"outlinewidth\":0,\"ticks\":\"\"}}}],\"bar\":[{\"error_x\":{\"color\":\"#2a3f5f\"},\"error_y\":{\"color\":\"#2a3f5f\"},\"marker\":{\"line\":{\"color\":\"#E5ECF6\",\"width\":0.5},\"pattern\":{\"fillmode\":\"overlay\",\"size\":10,\"solidity\":0.2}},\"type\":\"bar\"}],\"scattergeo\":[{\"type\":\"scattergeo\",\"marker\":{\"colorbar\":{\"outlinewidth\":0,\"ticks\":\"\"}}}],\"scatterpolar\":[{\"type\":\"scatterpolar\",\"marker\":{\"colorbar\":{\"outlinewidth\":0,\"ticks\":\"\"}}}],\"histogram\":[{\"marker\":{\"pattern\":{\"fillmode\":\"overlay\",\"size\":10,\"solidity\":0.2}},\"type\":\"histogram\"}],\"scattergl\":[{\"type\":\"scattergl\",\"marker\":{\"colorbar\":{\"outlinewidth\":0,\"ticks\":\"\"}}}],\"scatter3d\":[{\"type\":\"scatter3d\",\"line\":{\"colorbar\":{\"outlinewidth\":0,\"ticks\":\"\"}},\"marker\":{\"colorbar\":{\"outlinewidth\":0,\"ticks\":\"\"}}}],\"scattermapbox\":[{\"type\":\"scattermapbox\",\"marker\":{\"colorbar\":{\"outlinewidth\":0,\"ticks\":\"\"}}}],\"scatterternary\":[{\"type\":\"scatterternary\",\"marker\":{\"colorbar\":{\"outlinewidth\":0,\"ticks\":\"\"}}}],\"scattercarpet\":[{\"type\":\"scattercarpet\",\"marker\":{\"colorbar\":{\"outlinewidth\":0,\"ticks\":\"\"}}}],\"carpet\":[{\"aaxis\":{\"endlinecolor\":\"#2a3f5f\",\"gridcolor\":\"white\",\"linecolor\":\"white\",\"minorgridcolor\":\"white\",\"startlinecolor\":\"#2a3f5f\"},\"baxis\":{\"endlinecolor\":\"#2a3f5f\",\"gridcolor\":\"white\",\"linecolor\":\"white\",\"minorgridcolor\":\"white\",\"startlinecolor\":\"#2a3f5f\"},\"type\":\"carpet\"}],\"table\":[{\"cells\":{\"fill\":{\"color\":\"#EBF0F8\"},\"line\":{\"color\":\"white\"}},\"header\":{\"fill\":{\"color\":\"#C8D4E3\"},\"line\":{\"color\":\"white\"}},\"type\":\"table\"}],\"barpolar\":[{\"marker\":{\"line\":{\"color\":\"#E5ECF6\",\"width\":0.5},\"pattern\":{\"fillmode\":\"overlay\",\"size\":10,\"solidity\":0.2}},\"type\":\"barpolar\"}],\"pie\":[{\"automargin\":true,\"type\":\"pie\"}]},\"layout\":{\"autotypenumbers\":\"strict\",\"colorway\":[\"#636efa\",\"#EF553B\",\"#00cc96\",\"#ab63fa\",\"#FFA15A\",\"#19d3f3\",\"#FF6692\",\"#B6E880\",\"#FF97FF\",\"#FECB52\"],\"font\":{\"color\":\"#2a3f5f\"},\"hovermode\":\"closest\",\"hoverlabel\":{\"align\":\"left\"},\"paper_bgcolor\":\"white\",\"plot_bgcolor\":\"#E5ECF6\",\"polar\":{\"bgcolor\":\"#E5ECF6\",\"angularaxis\":{\"gridcolor\":\"white\",\"linecolor\":\"white\",\"ticks\":\"\"},\"radialaxis\":{\"gridcolor\":\"white\",\"linecolor\":\"white\",\"ticks\":\"\"}},\"ternary\":{\"bgcolor\":\"#E5ECF6\",\"aaxis\":{\"gridcolor\":\"white\",\"linecolor\":\"white\",\"ticks\":\"\"},\"baxis\":{\"gridcolor\":\"white\",\"linecolor\":\"white\",\"ticks\":\"\"},\"caxis\":{\"gridcolor\":\"white\",\"linecolor\":\"white\",\"ticks\":\"\"}},\"coloraxis\":{\"colorbar\":{\"outlinewidth\":0,\"ticks\":\"\"}},\"colorscale\":{\"sequential\":[[0.0,\"#0d0887\"],[0.1111111111111111,\"#46039f\"],[0.2222222222222222,\"#7201a8\"],[0.3333333333333333,\"#9c179e\"],[0.4444444444444444,\"#bd3786\"],[0.5555555555555556,\"#d8576b\"],[0.6666666666666666,\"#ed7953\"],[0.7777777777777778,\"#fb9f3a\"],[0.8888888888888888,\"#fdca26\"],[1.0,\"#f0f921\"]],\"sequentialminus\":[[0.0,\"#0d0887\"],[0.1111111111111111,\"#46039f\"],[0.2222222222222222,\"#7201a8\"],[0.3333333333333333,\"#9c179e\"],[0.4444444444444444,\"#bd3786\"],[0.5555555555555556,\"#d8576b\"],[0.6666666666666666,\"#ed7953\"],[0.7777777777777778,\"#fb9f3a\"],[0.8888888888888888,\"#fdca26\"],[1.0,\"#f0f921\"]],\"diverging\":[[0,\"#8e0152\"],[0.1,\"#c51b7d\"],[0.2,\"#de77ae\"],[0.3,\"#f1b6da\"],[0.4,\"#fde0ef\"],[0.5,\"#f7f7f7\"],[0.6,\"#e6f5d0\"],[0.7,\"#b8e186\"],[0.8,\"#7fbc41\"],[0.9,\"#4d9221\"],[1,\"#276419\"]]},\"xaxis\":{\"gridcolor\":\"white\",\"linecolor\":\"white\",\"ticks\":\"\",\"title\":{\"standoff\":15},\"zerolinecolor\":\"white\",\"automargin\":true,\"zerolinewidth\":2},\"yaxis\":{\"gridcolor\":\"white\",\"linecolor\":\"white\",\"ticks\":\"\",\"title\":{\"standoff\":15},\"zerolinecolor\":\"white\",\"automargin\":true,\"zerolinewidth\":2},\"scene\":{\"xaxis\":{\"backgroundcolor\":\"#E5ECF6\",\"gridcolor\":\"white\",\"linecolor\":\"white\",\"showbackground\":true,\"ticks\":\"\",\"zerolinecolor\":\"white\",\"gridwidth\":2},\"yaxis\":{\"backgroundcolor\":\"#E5ECF6\",\"gridcolor\":\"white\",\"linecolor\":\"white\",\"showbackground\":true,\"ticks\":\"\",\"zerolinecolor\":\"white\",\"gridwidth\":2},\"zaxis\":{\"backgroundcolor\":\"#E5ECF6\",\"gridcolor\":\"white\",\"linecolor\":\"white\",\"showbackground\":true,\"ticks\":\"\",\"zerolinecolor\":\"white\",\"gridwidth\":2}},\"shapedefaults\":{\"line\":{\"color\":\"#2a3f5f\"}},\"annotationdefaults\":{\"arrowcolor\":\"#2a3f5f\",\"arrowhead\":0,\"arrowwidth\":1},\"geo\":{\"bgcolor\":\"white\",\"landcolor\":\"#E5ECF6\",\"subunitcolor\":\"white\",\"showland\":true,\"showlakes\":true,\"lakecolor\":\"white\"},\"title\":{\"x\":0.05},\"mapbox\":{\"style\":\"light\"}}},\"xaxis\":{\"anchor\":\"y\",\"domain\":[0.0,1.0],\"title\":{\"text\":\"rating\"}},\"yaxis\":{\"anchor\":\"x\",\"domain\":[0.0,1.0],\"title\":{\"text\":\"number of ratings\"}},\"legend\":{\"title\":{\"text\":\"has lecithin\"},\"tracegroupgap\":0},\"title\":{\"text\":\"Distirbution of ratings by bars with/without lecithin\"},\"barmode\":\"overlay\"},                        {\"responsive\": true}                    ).then(function(){\n",
       "                            \n",
       "var gd = document.getElementById('94da2415-a26b-4906-8f03-89203f027922');\n",
       "var x = new MutationObserver(function (mutations, observer) {{\n",
       "        var display = window.getComputedStyle(gd).display;\n",
       "        if (!display || display === 'none') {{\n",
       "            console.log([gd, 'removed!']);\n",
       "            Plotly.purge(gd);\n",
       "            observer.disconnect();\n",
       "        }}\n",
       "}});\n",
       "\n",
       "// Listen for the removal of the full notebook cells\n",
       "var notebookContainer = gd.closest('#notebook-container');\n",
       "if (notebookContainer) {{\n",
       "    x.observe(notebookContainer, {childList: true});\n",
       "}}\n",
       "\n",
       "// Listen for the clearing of the current output cell\n",
       "var outputEl = gd.closest('.output');\n",
       "if (outputEl) {{\n",
       "    x.observe(outputEl, {childList: true});\n",
       "}}\n",
       "\n",
       "                        })                };                });            </script>        </div>"
      ]
     },
     "metadata": {},
     "output_type": "display_data"
    }
   ],
   "source": [
    "# Visualize distribution of ratings by bars with/without lecithin\n",
    "fig = px.histogram(df_copy, x='rating', color='has_lecithin', barmode='overlay', nbins=10,\n",
    "                   title='Distirbution of ratings by bars with/without lecithin',\n",
    "                   labels={'has_lecithin': 'has lecithin'})\n",
    "\n",
    "# Update yaxis label\n",
    "fig.update_yaxes(title_text='number of ratings')\n",
    "\n",
    "# Show graph\n",
    "fig.show()"
   ]
  },
  {
   "cell_type": "markdown",
   "id": "a9ad3c06",
   "metadata": {},
   "source": [
    "## Summary of findings\n",
    "\n",
    "The data set contains over 2,500 ratings of chocolate bars with ratings ranging from 1.0 – 4.0. Out of the 67 different company locations, _1,136 companies are located in the U.S.A., accounting for 44% of the data_.\n",
    "\n",
    "While first looking at the average ratings of bean origin countries, it quickly became apparent that there was a disconnect between the number of ratings and their averages. **It cannot be confidently said that a chocolate bar’s bean origin is an indicator of quality**.\n",
    "\n",
    "Cocoa content; however, appears to be significant to the average rating of chocolate bars. **Of chocolate bars with a rating 3.5 or greater, 46% have a 70% cocoa content**.\n",
    "\n",
    "Research appears to be correct in indicating that consumer want to avoid chocolate bars with lecithin. Out of this data set, roughly 80% of bars do not contain lecithin. **Bars without lecithin also have a slightly higher average rating of 3.21, compared to 3.15 for bars with lecithin**."
   ]
  },
  {
   "cell_type": "code",
   "execution_count": null,
   "id": "2b831249",
   "metadata": {},
   "outputs": [],
   "source": []
  }
 ],
 "metadata": {
  "kernelspec": {
   "display_name": "Python 3",
   "language": "python",
   "name": "python3"
  },
  "language_info": {
   "codemirror_mode": {
    "name": "ipython",
    "version": 3
   },
   "file_extension": ".py",
   "mimetype": "text/x-python",
   "name": "python",
   "nbconvert_exporter": "python",
   "pygments_lexer": "ipython3",
   "version": "3.8.5"
  }
 },
 "nbformat": 4,
 "nbformat_minor": 5
}
